{
  "nbformat": 4,
  "nbformat_minor": 0,
  "metadata": {
    "kernelspec": {
      "display_name": "Python 3",
      "language": "python",
      "name": "python3"
    },
    "language_info": {
      "codemirror_mode": {
        "name": "ipython",
        "version": 3
      },
      "file_extension": ".py",
      "mimetype": "text/x-python",
      "name": "python",
      "nbconvert_exporter": "python",
      "pygments_lexer": "ipython3",
      "version": "3.7.4"
    },
    "colab": {
      "name": "ExtraCreditProject2.ipynb",
      "provenance": [],
      "collapsed_sections": [
        "ewlEwLfcxgeQ",
        "eRotbU77w4Te"
      ]
    }
  },
  "cells": [
    {
      "cell_type": "markdown",
      "metadata": {
        "id": "IaY1gbiYHoAo",
        "colab_type": "text"
      },
      "source": [
        "Elisabeth Vehling\n",
        "INF 352 Extra Credit (Project 2)"
      ]
    },
    {
      "cell_type": "markdown",
      "metadata": {
        "id": "C3jKnpprHoAp",
        "colab_type": "text"
      },
      "source": [
        "# Time Series Classification"
      ]
    },
    {
      "cell_type": "markdown",
      "metadata": {
        "id": "Uc2p3mncHoAp",
        "colab_type": "text"
      },
      "source": [
        "### Download the AReM data"
      ]
    },
    {
      "cell_type": "code",
      "metadata": {
        "id": "IhqEr4ztLPgS",
        "colab_type": "code",
        "outputId": "3227afab-a6eb-4654-ab34-d94228fbc9f0",
        "colab": {
          "base_uri": "https://localhost:8080/",
          "height": 139
        }
      },
      "source": [
        "from google.colab import drive\n",
        "drive.mount('/gdrive')\n",
        "%cd /gdrive"
      ],
      "execution_count": 1,
      "outputs": [
        {
          "output_type": "stream",
          "text": [
            "Go to this URL in a browser: https://accounts.google.com/o/oauth2/auth?client_id=947318989803-6bn6qk8qdgf4n4g3pfee6491hc0brc4i.apps.googleusercontent.com&redirect_uri=urn%3aietf%3awg%3aoauth%3a2.0%3aoob&response_type=code&scope=email%20https%3a%2f%2fwww.googleapis.com%2fauth%2fdocs.test%20https%3a%2f%2fwww.googleapis.com%2fauth%2fdrive%20https%3a%2f%2fwww.googleapis.com%2fauth%2fdrive.photos.readonly%20https%3a%2f%2fwww.googleapis.com%2fauth%2fpeopleapi.readonly\n",
            "\n",
            "Enter your authorization code:\n",
            "··········\n",
            "Mounted at /gdrive\n",
            "/gdrive\n"
          ],
          "name": "stdout"
        }
      ]
    },
    {
      "cell_type": "code",
      "metadata": {
        "id": "1kQ2QupQsiDI",
        "colab_type": "code",
        "colab": {
          "base_uri": "https://localhost:8080/",
          "height": 34
        },
        "outputId": "ca391292-bdff-482f-e6d6-187b1e1d3d67"
      },
      "source": [
        "from google.colab import drive\n",
        "drive.mount('/content/drive')"
      ],
      "execution_count": 2,
      "outputs": [
        {
          "output_type": "stream",
          "text": [
            "Mounted at /content/drive\n"
          ],
          "name": "stdout"
        }
      ]
    },
    {
      "cell_type": "code",
      "metadata": {
        "id": "v_20CY0EHoAr",
        "colab_type": "code",
        "colab": {}
      },
      "source": [
        "import pandas as pd\n",
        "import numpy as np \n",
        "# import sklearn as sk"
      ],
      "execution_count": 0,
      "outputs": []
    },
    {
      "cell_type": "markdown",
      "metadata": {
        "id": "ca-wvNngHoAu",
        "colab_type": "text"
      },
      "source": [
        "#### Load the datasets into their own data frames"
      ]
    },
    {
      "cell_type": "code",
      "metadata": {
        "id": "wcfJ-acOHoAv",
        "colab_type": "code",
        "colab": {}
      },
      "source": [
        "col_names = [\"time\",\"avg_rss12\", \"var_rss12\", \"avg_rss13\", \"var_rss13\", \"vg_rss23\", \"ar_rss23\"]"
      ],
      "execution_count": 0,
      "outputs": []
    },
    {
      "cell_type": "code",
      "metadata": {
        "id": "cWM4BNzcHoAx",
        "colab_type": "code",
        "colab": {}
      },
      "source": [
        "#Load in the entire bending1 folder\n",
        "#use this for jupyter: ./data/bending1/\n",
        "bending1 = {} \n",
        "ds1 = pd.read_csv(\"/content/drive/My Drive/INF352ExtraCredit/data/bending1/dataset1.csv\", skiprows=5, header=None, names = col_names)  \n",
        "ds2 = pd.read_csv(\"/content/drive/My Drive/INF352ExtraCredit/data/bending1/dataset2.csv\", skiprows=5, header=None, names = col_names)  \n",
        "ds3 = pd.read_csv(\"/content/drive/My Drive/INF352ExtraCredit/data/bending1/dataset3.csv\", skiprows=5, header=None, names = col_names)  \n",
        "ds4 = pd.read_csv(\"/content/drive/My Drive/INF352ExtraCredit/data/bending1/dataset4.csv\", skiprows=5, header=None, names = col_names)  \n",
        "ds5 = pd.read_csv(\"/content/drive/My Drive/INF352ExtraCredit/data/bending1/dataset5.csv\", skiprows=5, header=None, names = col_names)  \n",
        "ds6 = pd.read_csv(\"/content/drive/My Drive/INF352ExtraCredit/data/bending1/dataset6.csv\", skiprows=5, header=None, names = col_names)  \n",
        "ds7 = pd.read_csv(\"/content/drive/My Drive/INF352ExtraCredit/data/bending1/dataset7.csv\", skiprows=5, header=None, names = col_names)  \n",
        "\n",
        "ds1[\"activity\"] = \"bending\"\n",
        "ds2[\"activity\"] = \"bending\"\n",
        "ds3[\"activity\"] = \"bending\"\n",
        "ds4[\"activity\"] = \"bending\"\n",
        "ds5[\"activity\"] = \"bending\"\n",
        "ds6[\"activity\"] = \"bending\"\n",
        "ds7[\"activity\"] = \"bending\"\n",
        "\n",
        "#Add the dataframes to a dictionary for easier organization\n",
        "bending1[\"dataset1\"] = ds1\n",
        "bending1[\"dataset2\"] = ds2\n",
        "bending1[\"dataset3\"] = ds3\n",
        "bending1[\"dataset4\"] = ds4\n",
        "bending1[\"dataset5\"] = ds5\n",
        "bending1[\"dataset6\"] = ds6\n",
        "bending1[\"dataset7\"] = ds7"
      ],
      "execution_count": 0,
      "outputs": []
    },
    {
      "cell_type": "code",
      "metadata": {
        "id": "lwTH6U-lHoAz",
        "colab_type": "code",
        "colab": {}
      },
      "source": [
        "#Load in bending 2\n",
        "bending2 = {} \n",
        "ds1 = pd.read_csv(\"/content/drive/My Drive/INF352ExtraCredit/data/bending2/dataset1.csv\", skiprows=5, header=None, names = col_names)  \n",
        "ds2 = pd.read_csv(\"/content/drive/My Drive/INF352ExtraCredit/data/bending2/dataset2.csv\", skiprows=5, header=None, names = col_names)  \n",
        "ds3 = pd.read_csv(\"/content/drive/My Drive/INF352ExtraCredit/data/bending2/dataset3.csv\", skiprows=5, header=None, names = col_names)  \n",
        "ds4 = pd.read_csv(\"/content/drive/My Drive/INF352ExtraCredit/data/bending2/dataset4.csv\", skiprows=5, header=None, names = col_names)  \n",
        "ds5 = pd.read_csv(\"/content/drive/My Drive/INF352ExtraCredit/data/bending2/dataset5.csv\", skiprows=5, header=None, names = col_names)  \n",
        "ds6 = pd.read_csv(\"/content/drive/My Drive/INF352ExtraCredit/data/bending2/dataset6.csv\", skiprows=5, header=None, names = col_names)  \n",
        "\n",
        "\n",
        "ds1[\"activity\"] = \"bending\"\n",
        "ds2[\"activity\"] = \"bending\"\n",
        "ds3[\"activity\"] = \"bending\"\n",
        "ds4[\"activity\"] = \"bending\"\n",
        "ds5[\"activity\"] = \"bending\"\n",
        "ds6[\"activity\"] = \"bending\"\n",
        "\n",
        "#Add the dataframes to a dictionary for easier organization\n",
        "bending2[\"dataset1\"] = ds1\n",
        "bending2[\"dataset2\"] = ds2\n",
        "bending2[\"dataset3\"] = ds3\n",
        "bending2[\"dataset4\"] = ds4\n",
        "bending2[\"dataset5\"] = ds5\n",
        "bending2[\"dataset6\"] = ds6"
      ],
      "execution_count": 0,
      "outputs": []
    },
    {
      "cell_type": "code",
      "metadata": {
        "id": "nO_8iQR2HoA1",
        "colab_type": "code",
        "colab": {}
      },
      "source": [
        "#Load in cycling\n",
        "cycling = {} \n",
        "ds1 = pd.read_csv(\"/content/drive/My Drive/INF352ExtraCredit/data/cycling/dataset1.csv\", skiprows=5, header=None, names = col_names)  \n",
        "ds2 = pd.read_csv(\"/content/drive/My Drive/INF352ExtraCredit/data/cycling/dataset2.csv\", skiprows=5, header=None, names = col_names)  \n",
        "ds3 = pd.read_csv(\"/content/drive/My Drive/INF352ExtraCredit/data/cycling/dataset3.csv\", skiprows=5, header=None, names = col_names)  \n",
        "ds4 = pd.read_csv(\"/content/drive/My Drive/INF352ExtraCredit/data/cycling/dataset4.csv\", skiprows=5, header=None, names = col_names)  \n",
        "ds5 = pd.read_csv(\"/content/drive/My Drive/INF352ExtraCredit/data/cycling/dataset5.csv\", skiprows=5, header=None, names = col_names)  \n",
        "ds6 = pd.read_csv(\"/content/drive/My Drive/INF352ExtraCredit/data/cycling/dataset6.csv\", skiprows=5, header=None, names = col_names)  \n",
        "ds7 = pd.read_csv(\"/content/drive/My Drive/INF352ExtraCredit/data/cycling/dataset7.csv\", skiprows=5, header=None, names = col_names)  \n",
        "ds8 = pd.read_csv(\"/content/drive/My Drive/INF352ExtraCredit/data/cycling/dataset8.csv\", skiprows=5, header=None, names = col_names)  \n",
        "ds9 = pd.read_csv(\"/content/drive/My Drive/INF352ExtraCredit/data/cycling/dataset9.csv\", skiprows=5, header=None, names = col_names)  \n",
        "ds10 = pd.read_csv(\"/content/drive/My Drive/INF352ExtraCredit/data/cycling/dataset10.csv\", skiprows=5, header=None, names = col_names)  \n",
        "ds11 = pd.read_csv(\"/content/drive/My Drive/INF352ExtraCredit/data/cycling/dataset11.csv\", skiprows=5, header=None, names = col_names)  \n",
        "ds12 = pd.read_csv(\"/content/drive/My Drive/INF352ExtraCredit/data/cycling/dataset12.csv\", skiprows=5, header=None, names = col_names)  \n",
        "ds13 = pd.read_csv(\"/content/drive/My Drive/INF352ExtraCredit/data/cycling/dataset13.csv\", skiprows=5, header=None, names = col_names)  \n",
        "ds14 = pd.read_csv(\"/content/drive/My Drive/INF352ExtraCredit/data/cycling/dataset14.csv\", skiprows=5, header=None, names = col_names)  \n",
        "ds15 = pd.read_csv(\"/content/drive/My Drive/INF352ExtraCredit/data/cycling/dataset15.csv\", skiprows=5, header=None, names = col_names)  \n",
        "\n",
        "\n",
        "ds1[\"activity\"] = \"cycling\"\n",
        "ds2[\"activity\"] = \"cycling\"\n",
        "ds3[\"activity\"] = \"cycling\"\n",
        "ds4[\"activity\"] = \"cycling\"\n",
        "ds5[\"activity\"] = \"cycling\"\n",
        "ds6[\"activity\"] = \"cycling\"\n",
        "ds7[\"activity\"] = \"cycling\"\n",
        "ds8[\"activity\"] = \"cycling\"\n",
        "ds9[\"activity\"] = \"cycling\"\n",
        "ds10[\"activity\"] = \"cycling\"\n",
        "ds11[\"activity\"] = \"cycling\"\n",
        "ds12[\"activity\"] = \"cycling\"\n",
        "ds13[\"activity\"] = \"cycling\"\n",
        "ds14[\"activity\"] = \"cycling\"\n",
        "ds15[\"activity\"] = \"cycling\"\n",
        "\n",
        "#Add the dataframes to a dictionary for easier organization\n",
        "cycling[\"dataset1\"] = ds1\n",
        "cycling[\"dataset2\"] = ds2\n",
        "cycling[\"dataset3\"] = ds3\n",
        "cycling[\"dataset4\"] = ds4\n",
        "cycling[\"dataset5\"] = ds5\n",
        "cycling[\"dataset6\"] = ds6\n",
        "cycling[\"dataset7\"] = ds7\n",
        "cycling[\"dataset8\"] = ds8\n",
        "cycling[\"dataset9\"] = ds9\n",
        "cycling[\"dataset10\"] = ds10\n",
        "cycling[\"dataset11\"] = ds11\n",
        "cycling[\"dataset12\"] = ds12\n",
        "cycling[\"dataset13\"] = ds13\n",
        "cycling[\"dataset14\"] = ds14\n",
        "cycling[\"dataset15\"] = ds15"
      ],
      "execution_count": 0,
      "outputs": []
    },
    {
      "cell_type": "code",
      "metadata": {
        "id": "k5bzMH6gHoA4",
        "colab_type": "code",
        "colab": {}
      },
      "source": [
        "#Load in lying\n",
        "lying = {} \n",
        "ds1 = pd.read_csv(\"/content/drive/My Drive/INF352ExtraCredit/data/lying/dataset1.csv\", skiprows=5, header=None, names = col_names)  \n",
        "ds2 = pd.read_csv(\"/content/drive/My Drive/INF352ExtraCredit/data/lying/dataset2.csv\", skiprows=5, header=None, names = col_names)  \n",
        "ds3 = pd.read_csv(\"/content/drive/My Drive/INF352ExtraCredit/data/lying/dataset3.csv\", skiprows=5, header=None, names = col_names)  \n",
        "ds4 = pd.read_csv(\"/content/drive/My Drive/INF352ExtraCredit/data/lying/dataset4.csv\", skiprows=5, header=None, names = col_names)  \n",
        "ds5 = pd.read_csv(\"/content/drive/My Drive/INF352ExtraCredit/data/lying/dataset5.csv\", skiprows=5, header=None, names = col_names)  \n",
        "ds6 = pd.read_csv(\"/content/drive/My Drive/INF352ExtraCredit/data/lying/dataset6.csv\", skiprows=5, header=None, names = col_names)  \n",
        "ds7 = pd.read_csv(\"/content/drive/My Drive/INF352ExtraCredit/data/lying/dataset7.csv\", skiprows=5, header=None, names = col_names)  \n",
        "ds8 = pd.read_csv(\"/content/drive/My Drive/INF352ExtraCredit/data/lying/dataset8.csv\", skiprows=5, header=None, names = col_names)  \n",
        "ds9 = pd.read_csv(\"/content/drive/My Drive/INF352ExtraCredit/data/lying/dataset9.csv\", skiprows=5, header=None, names = col_names)  \n",
        "ds10 = pd.read_csv(\"/content/drive/My Drive/INF352ExtraCredit/data/lying/dataset10.csv\", skiprows=5, header=None, names = col_names)  \n",
        "ds11 = pd.read_csv(\"/content/drive/My Drive/INF352ExtraCredit/data/lying/dataset11.csv\", skiprows=5, header=None, names = col_names)  \n",
        "ds12 = pd.read_csv(\"/content/drive/My Drive/INF352ExtraCredit/data/lying/dataset12.csv\", skiprows=5, header=None, names = col_names)  \n",
        "ds13 = pd.read_csv(\"/content/drive/My Drive/INF352ExtraCredit/data/lying/dataset13.csv\", skiprows=5, header=None, names = col_names)  \n",
        "ds14 = pd.read_csv(\"/content/drive/My Drive/INF352ExtraCredit/data/lying/dataset14.csv\", skiprows=5, header=None, names = col_names)  \n",
        "ds15 = pd.read_csv(\"/content/drive/My Drive/INF352ExtraCredit/data/lying/dataset15.csv\", skiprows=5, header=None, names = col_names)  \n",
        "\n",
        "ds1[\"activity\"] = \"lying\"\n",
        "ds2[\"activity\"] = \"lying\"\n",
        "ds3[\"activity\"] = \"lying\"\n",
        "ds4[\"activity\"] = \"lying\"\n",
        "ds5[\"activity\"] = \"lying\"\n",
        "ds6[\"activity\"] = \"lying\"\n",
        "ds7[\"activity\"] = \"lying\"\n",
        "ds8[\"activity\"] = \"lying\"\n",
        "ds9[\"activity\"] = \"lying\"\n",
        "ds10[\"activity\"] = \"lying\"\n",
        "ds11[\"activity\"] = \"lying\"\n",
        "ds12[\"activity\"] = \"lying\"\n",
        "ds13[\"activity\"] = \"lying\"\n",
        "ds14[\"activity\"] = \"lying\"\n",
        "ds15[\"activity\"] = \"lying\"\n",
        "#Add the dataframes to a dictionary for easier organization\n",
        "lying[\"dataset1\"] = ds1\n",
        "lying[\"dataset2\"] = ds2\n",
        "lying[\"dataset3\"] = ds3\n",
        "lying[\"dataset4\"] = ds4\n",
        "lying[\"dataset5\"] = ds5\n",
        "lying[\"dataset6\"] = ds6\n",
        "lying[\"dataset7\"] = ds7\n",
        "lying[\"dataset8\"] = ds8\n",
        "lying[\"dataset9\"] = ds9\n",
        "lying[\"dataset10\"] = ds10\n",
        "lying[\"dataset11\"] = ds11\n",
        "lying[\"dataset12\"] = ds12\n",
        "lying[\"dataset13\"] = ds13\n",
        "lying[\"dataset14\"] = ds14\n",
        "lying[\"dataset15\"] = ds15"
      ],
      "execution_count": 0,
      "outputs": []
    },
    {
      "cell_type": "code",
      "metadata": {
        "id": "89-ljF-OHoA6",
        "colab_type": "code",
        "colab": {}
      },
      "source": [
        "#Load in sitting\n",
        "sitting = {} \n",
        "ds1 = pd.read_csv(\"/content/drive/My Drive/INF352ExtraCredit/data/sitting/dataset1.csv\", skiprows=5, header=None, names = col_names)  \n",
        "ds2 = pd.read_csv(\"/content/drive/My Drive/INF352ExtraCredit/data/sitting/dataset2.csv\", skiprows=5, header=None, names = col_names)  \n",
        "ds3 = pd.read_csv(\"/content/drive/My Drive/INF352ExtraCredit/data/sitting/dataset3.csv\", skiprows=5, header=None, names = col_names)  \n",
        "ds4 = pd.read_csv(\"/content/drive/My Drive/INF352ExtraCredit/data/sitting/dataset4.csv\", skiprows=5, header=None, names = col_names)  \n",
        "ds5 = pd.read_csv(\"/content/drive/My Drive/INF352ExtraCredit/data/sitting/dataset5.csv\", skiprows=5, header=None, names = col_names)  \n",
        "ds6 = pd.read_csv(\"/content/drive/My Drive/INF352ExtraCredit/data/sitting/dataset6.csv\", skiprows=5, header=None, names = col_names)  \n",
        "ds7 = pd.read_csv(\"/content/drive/My Drive/INF352ExtraCredit/data/sitting/dataset7.csv\", skiprows=5, header=None, names = col_names)  \n",
        "ds8 = pd.read_csv(\"/content/drive/My Drive/INF352ExtraCredit/data/sitting/dataset8.csv\", skiprows=5, header=None, names = col_names)  \n",
        "ds9 = pd.read_csv(\"/content/drive/My Drive/INF352ExtraCredit/data/sitting/dataset9.csv\", skiprows=5, header=None, names = col_names)  \n",
        "ds10 = pd.read_csv(\"/content/drive/My Drive/INF352ExtraCredit/data/sitting/dataset10.csv\", skiprows=5, header=None, names = col_names)  \n",
        "ds11 = pd.read_csv(\"/content/drive/My Drive/INF352ExtraCredit/data/sitting/dataset11.csv\", skiprows=5, header=None, names = col_names)  \n",
        "ds12 = pd.read_csv(\"/content/drive/My Drive/INF352ExtraCredit/data/sitting/dataset12.csv\", skiprows=5, header=None, names = col_names)  \n",
        "ds13 = pd.read_csv(\"/content/drive/My Drive/INF352ExtraCredit/data/sitting/dataset13.csv\", skiprows=5, header=None, names = col_names)  \n",
        "ds14 = pd.read_csv(\"/content/drive/My Drive/INF352ExtraCredit/data/sitting/dataset14.csv\", skiprows=5, header=None, names = col_names)  \n",
        "ds15 = pd.read_csv(\"/content/drive/My Drive/INF352ExtraCredit/data/sitting/dataset15.csv\", skiprows=5, header=None, names = col_names)  \n",
        "\n",
        "ds1[\"activity\"] = \"sitting\"\n",
        "ds2[\"activity\"] = \"sitting\"\n",
        "ds3[\"activity\"] = \"sitting\"\n",
        "ds4[\"activity\"] = \"sitting\"\n",
        "ds5[\"activity\"] = \"sitting\"\n",
        "ds6[\"activity\"] = \"sitting\"\n",
        "ds7[\"activity\"] = \"sitting\"\n",
        "ds8[\"activity\"] = \"sitting\"\n",
        "ds9[\"activity\"] = \"sitting\"\n",
        "ds10[\"activity\"] = \"sitting\"\n",
        "ds11[\"activity\"] = \"sitting\"\n",
        "ds12[\"activity\"] = \"sitting\"\n",
        "ds13[\"activity\"] = \"sitting\"\n",
        "ds14[\"activity\"] = \"sitting\"\n",
        "ds15[\"activity\"] = \"sitting\"\n",
        "\n",
        "#Add the dataframes to a dictionary for easier organization\n",
        "sitting[\"dataset1\"] = ds1\n",
        "sitting[\"dataset2\"] = ds2\n",
        "sitting[\"dataset3\"] = ds3\n",
        "sitting[\"dataset4\"] = ds4\n",
        "sitting[\"dataset5\"] = ds5\n",
        "sitting[\"dataset6\"] = ds6\n",
        "sitting[\"dataset7\"] = ds7\n",
        "sitting[\"dataset8\"] = ds8\n",
        "sitting[\"dataset9\"] = ds9\n",
        "sitting[\"dataset10\"] = ds10\n",
        "sitting[\"dataset11\"] = ds11\n",
        "sitting[\"dataset12\"] = ds12\n",
        "sitting[\"dataset13\"] = ds13\n",
        "sitting[\"dataset14\"] = ds14\n",
        "sitting[\"dataset15\"] = ds15"
      ],
      "execution_count": 0,
      "outputs": []
    },
    {
      "cell_type": "code",
      "metadata": {
        "id": "P4QzifpGHoA9",
        "colab_type": "code",
        "colab": {}
      },
      "source": [
        "#Load in standing\n",
        "standing = {} \n",
        "ds1 = pd.read_csv(\"/content/drive/My Drive/INF352ExtraCredit/data/standing/dataset1.csv\", skiprows=5, header=None, names = col_names)  \n",
        "ds2 = pd.read_csv(\"/content/drive/My Drive/INF352ExtraCredit/data/standing/dataset2.csv\", skiprows=5, header=None, names = col_names)  \n",
        "ds3 = pd.read_csv(\"/content/drive/My Drive/INF352ExtraCredit/data/standing/dataset3.csv\", skiprows=5, header=None, names = col_names)  \n",
        "ds4 = pd.read_csv(\"/content/drive/My Drive/INF352ExtraCredit/data/standing/dataset4.csv\", skiprows=5, header=None, names = col_names)  \n",
        "ds5 = pd.read_csv(\"/content/drive/My Drive/INF352ExtraCredit/data/standing/dataset5.csv\", skiprows=5, header=None, names = col_names)  \n",
        "ds6 = pd.read_csv(\"/content/drive/My Drive/INF352ExtraCredit/data/standing/dataset6.csv\", skiprows=5, header=None, names = col_names)  \n",
        "ds7 = pd.read_csv(\"/content/drive/My Drive/INF352ExtraCredit/data/standing/dataset7.csv\", skiprows=5, header=None, names = col_names)  \n",
        "ds8 = pd.read_csv(\"/content/drive/My Drive/INF352ExtraCredit/data/standing/dataset8.csv\", skiprows=5, header=None, names = col_names)  \n",
        "ds9 = pd.read_csv(\"/content/drive/My Drive/INF352ExtraCredit/data/standing/dataset9.csv\", skiprows=5, header=None, names = col_names)  \n",
        "ds10 = pd.read_csv(\"/content/drive/My Drive/INF352ExtraCredit/data/standing/dataset10.csv\", skiprows=5, header=None, names = col_names)  \n",
        "ds11 = pd.read_csv(\"/content/drive/My Drive/INF352ExtraCredit/data/standing/dataset11.csv\", skiprows=5, header=None, names = col_names)  \n",
        "ds12 = pd.read_csv(\"/content/drive/My Drive/INF352ExtraCredit/data/standing/dataset12.csv\", skiprows=5, header=None, names = col_names)  \n",
        "ds13 = pd.read_csv(\"/content/drive/My Drive/INF352ExtraCredit/data/standing/dataset13.csv\", skiprows=5, header=None, names = col_names)  \n",
        "ds14 = pd.read_csv(\"/content/drive/My Drive/INF352ExtraCredit/data/standing/dataset14.csv\", skiprows=5, header=None, names = col_names)  \n",
        "ds15 = pd.read_csv(\"/content/drive/My Drive/INF352ExtraCredit/data/standing/dataset15.csv\", skiprows=5, header=None, names = col_names)  \n",
        "\n",
        "\n",
        "ds1[\"activity\"] = \"standing\"\n",
        "ds2[\"activity\"] =  \"standing\"\n",
        "ds3[\"activity\"] = \"standing\"\n",
        "ds4[\"activity\"] =  \"standing\"\n",
        "ds5[\"activity\"] =  \"standing\"\n",
        "ds6[\"activity\"] =  \"standing\"\n",
        "ds7[\"activity\"] =  \"standing\"\n",
        "ds8[\"activity\"] =  \"standing\"\n",
        "ds9[\"activity\"] =  \"standing\"\n",
        "ds10[\"activity\"] =  \"standing\"\n",
        "ds11[\"activity\"] =  \"standing\"\n",
        "ds12[\"activity\"] =  \"standing\"\n",
        "ds13[\"activity\"] =  \"standing\"\n",
        "ds14[\"activity\"] =  \"standing\"\n",
        "ds15[\"activity\"] =  \"standing\"\n",
        "\n",
        "#Add the dataframes to a dictionary for easier organization\n",
        "standing[\"dataset1\"] = ds1\n",
        "standing[\"dataset2\"] = ds2\n",
        "standing[\"dataset3\"] = ds3\n",
        "standing[\"dataset4\"] = ds4\n",
        "standing[\"dataset5\"] = ds5\n",
        "standing[\"dataset6\"] = ds6\n",
        "standing[\"dataset7\"] = ds7\n",
        "standing[\"dataset8\"] = ds8\n",
        "standing[\"dataset9\"] = ds9\n",
        "standing[\"dataset10\"] = ds10\n",
        "standing[\"dataset11\"] = ds11\n",
        "standing[\"dataset12\"] = ds12\n",
        "standing[\"dataset13\"] = ds13\n",
        "standing[\"dataset14\"] = ds14\n",
        "standing[\"dataset15\"] = ds15"
      ],
      "execution_count": 0,
      "outputs": []
    },
    {
      "cell_type": "code",
      "metadata": {
        "id": "pb0xUBboHoA_",
        "colab_type": "code",
        "colab": {}
      },
      "source": [
        "#Load in walking\n",
        "walking = {} \n",
        "ds1 = pd.read_csv(\"/content/drive/My Drive/INF352ExtraCredit/data/walking/dataset1.csv\", skiprows=5, header=None, names = col_names)  \n",
        "ds2 = pd.read_csv(\"/content/drive/My Drive/INF352ExtraCredit/data/walking/dataset2.csv\", skiprows=5, header=None, names = col_names)  \n",
        "ds3 = pd.read_csv(\"/content/drive/My Drive/INF352ExtraCredit/data/walking/dataset3.csv\", skiprows=5, header=None, names = col_names)  \n",
        "ds4 = pd.read_csv(\"/content/drive/My Drive/INF352ExtraCredit/data/walking/dataset4.csv\", skiprows=5, header=None, names = col_names)  \n",
        "ds5 = pd.read_csv(\"/content/drive/My Drive/INF352ExtraCredit/data/walking/dataset5.csv\", skiprows=5, header=None, names = col_names)  \n",
        "ds6 = pd.read_csv(\"/content/drive/My Drive/INF352ExtraCredit/data/walking/dataset6.csv\", skiprows=5, header=None, names = col_names)  \n",
        "ds7 = pd.read_csv(\"/content/drive/My Drive/INF352ExtraCredit/data/walking/dataset7.csv\", skiprows=5, header=None, names = col_names)  \n",
        "ds8 = pd.read_csv(\"/content/drive/My Drive/INF352ExtraCredit/data/walking/dataset8.csv\", skiprows=5, header=None, names = col_names)  \n",
        "ds9 = pd.read_csv(\"/content/drive/My Drive/INF352ExtraCredit/data/walking/dataset9.csv\", skiprows=5, header=None, names = col_names)  \n",
        "ds10 = pd.read_csv(\"/content/drive/My Drive/INF352ExtraCredit/data/walking/dataset10.csv\", skiprows=5, header=None, names = col_names)  \n",
        "ds11 = pd.read_csv(\"/content/drive/My Drive/INF352ExtraCredit/data/walking/dataset11.csv\", skiprows=5, header=None, names = col_names)  \n",
        "ds12 = pd.read_csv(\"/content/drive/My Drive/INF352ExtraCredit/data/walking/dataset12.csv\", skiprows=5, header=None, names = col_names)  \n",
        "ds13 = pd.read_csv(\"/content/drive/My Drive/INF352ExtraCredit/data/walking/dataset13.csv\", skiprows=5, header=None, names = col_names)  \n",
        "ds14 = pd.read_csv(\"/content/drive/My Drive/INF352ExtraCredit/data/walking/dataset14.csv\", skiprows=5, header=None, names = col_names)  \n",
        "ds15 = pd.read_csv(\"/content/drive/My Drive/INF352ExtraCredit/data/walking/dataset15.csv\", skiprows=5, header=None, names = col_names)  \n",
        "\n",
        "ds1[\"activity\"] = \"walking\"\n",
        "ds2[\"activity\"] = \"walking\"\n",
        "ds3[\"activity\"] = \"walking\"\n",
        "ds4[\"activity\"] = \"walking\"\n",
        "ds5[\"activity\"] = \"walking\"\n",
        "ds6[\"activity\"] = \"walking\"\n",
        "ds7[\"activity\"] = \"walking\"\n",
        "ds8[\"activity\"] = \"walking\"\n",
        "ds9[\"activity\"] = \"walking\"\n",
        "ds10[\"activity\"] = \"walking\"\n",
        "ds11[\"activity\"] = \"walking\"\n",
        "ds12[\"activity\"] = \"walking\"\n",
        "ds13[\"activity\"] = \"walking\"\n",
        "ds14[\"activity\"] = \"walking\"\n",
        "ds15[\"activity\"] = \"walking\"\n",
        "\n",
        "#Add the dataframes to a dictionary for easier organization\n",
        "walking[\"dataset1\"] = ds1\n",
        "walking[\"dataset2\"] = ds2\n",
        "walking[\"dataset3\"] = ds3\n",
        "walking[\"dataset4\"] = ds4\n",
        "walking[\"dataset5\"] = ds5\n",
        "walking[\"dataset6\"] = ds6\n",
        "walking[\"dataset7\"] = ds7\n",
        "walking[\"dataset8\"] = ds8\n",
        "walking[\"dataset9\"] = ds9\n",
        "walking[\"dataset10\"] = ds10\n",
        "walking[\"dataset11\"] = ds11\n",
        "walking[\"dataset12\"] = ds12\n",
        "walking[\"dataset13\"] = ds13\n",
        "walking[\"dataset14\"] = ds14\n",
        "walking[\"dataset15\"] = ds15"
      ],
      "execution_count": 0,
      "outputs": []
    },
    {
      "cell_type": "code",
      "metadata": {
        "id": "5HdwYepEHoBB",
        "colab_type": "code",
        "colab": {}
      },
      "source": [
        "keys = ['dataset1', 'dataset2', 'dataset3', 'dataset4', 'dataset5', 'dataset6', 'dataset7', 'dataset8', 'dataset9', 'dataset10', 'dataset11', 'dataset12', 'dataset13', 'dataset14', 'dataset15']"
      ],
      "execution_count": 0,
      "outputs": []
    },
    {
      "cell_type": "markdown",
      "metadata": {
        "id": "9Z4WcK6oHoBE",
        "colab_type": "text"
      },
      "source": [
        "**(b)Keep datasets 1 and 2 in folders bending1 and bending2 as well as datasets 1, 2, 3 in other folders as test data and other datasets as train data**"
      ]
    },
    {
      "cell_type": "code",
      "metadata": {
        "id": "OKRbiQOP6Zgi",
        "colab_type": "code",
        "colab": {}
      },
      "source": [
        "test = [bending1['dataset1'], bending1['dataset2'], bending2['dataset1'], bending2['dataset2'],cycling['dataset1'], cycling['dataset2'], cycling['dataset3'], lying['dataset1'], lying['dataset2'], lying['dataset3'],sitting['dataset1'], sitting['dataset2'], sitting['dataset3'],standing['dataset1'], standing['dataset2'], standing['dataset3'], walking['dataset1'], walking['dataset2'], walking['dataset3']]\n",
        "#keep the rest of the data as training data\n",
        "train = []\n",
        "#Add datasets 3-7 for bending 1\n",
        "for i in range(2,7):\n",
        "  key = keys[i]\n",
        "  train.append(bending1[key])\n",
        "\n",
        "#Add datasets 3-6 for bending 2\n",
        "for i in range(2,6):\n",
        "  key = keys[i]\n",
        "  train.append(bending2[key])\n",
        "\n",
        "#Add datasets 4-15 for cycling, lying, sitting, standing, walking\n",
        "for i in range(3,15):\n",
        "  key = keys[i]\n",
        "  train.append(cycling[key])\n",
        "  train.append(lying[key])\n",
        "  train.append(sitting[key])\n",
        "  train.append(standing[key])\n",
        "  train.append(walking[key])"
      ],
      "execution_count": 0,
      "outputs": []
    },
    {
      "cell_type": "markdown",
      "metadata": {
        "id": "TYviCIt1HoBF",
        "colab_type": "text"
      },
      "source": [
        "### (C) Feature Extraction"
      ]
    },
    {
      "cell_type": "markdown",
      "metadata": {
        "id": "ls4QxZwxHoBF",
        "colab_type": "text"
      },
      "source": [
        "#### i. Research what types of time domain features are usually used in time series classification and list them"
      ]
    },
    {
      "cell_type": "markdown",
      "metadata": {
        "id": "q3InpQOXOd0g",
        "colab_type": "text"
      },
      "source": [
        "Some time domain features that can be used in classifcation are: the mean, standard deviation,and other simple statistical attributes. Addiitonally, correlcation strucutre, stationarity and scaling properties are also properties."
      ]
    },
    {
      "cell_type": "markdown",
      "metadata": {
        "id": "fjProYpGHoBG",
        "colab_type": "text"
      },
      "source": [
        "#### ii. Extract the time domain features for all of the 6 time series in each instance"
      ]
    },
    {
      "cell_type": "code",
      "metadata": {
        "id": "HcKKh0LYXcZI",
        "colab_type": "code",
        "colab": {}
      },
      "source": [
        "cols = ['min1','max1','mean1','med1','std1','1stQ1','3rdQ1','min2','max2','mean2','med2','std2','1stQ2','3rdQ2',\n",
        "'min3','max3','mean3','med3','std3','1stQ3','3rdQ3', 'min4','max4','mean4','med4','std4','1stQ4','3rdQ4',\n",
        " 'min5','max5','mean5','med5','std5','1stQ5','3rdQ5','min6','max6','mean6','med6','std6','1stQ6','3rdQ6']\n",
        "\n",
        "keys = ['dataset1', 'dataset2', 'dataset3', 'dataset4', 'dataset5', 'dataset6', 'dataset7', 'dataset8', 'dataset9', 'dataset10', 'dataset11', 'dataset12', 'dataset13', 'dataset14', 'dataset15']"
      ],
      "execution_count": 0,
      "outputs": []
    },
    {
      "cell_type": "code",
      "metadata": {
        "id": "PB492oqJR9cm",
        "colab_type": "code",
        "colab": {}
      },
      "source": [
        "#Add bending\n",
        "folder=[]\n",
        "index = 0\n",
        "for i in range(0,7):\n",
        "  fileData = []\n",
        "  #Iterate through each attribute in each file\n",
        "  key=keys[i]\n",
        "  for(name, columndata) in bending1[key].iteritems():\n",
        "    if(name != \"time\" and name != \"activity\"):\n",
        "      mi = columndata.min()\n",
        "      ma = columndata.max()\n",
        "      mean = columndata.mean()\n",
        "      median = columndata.median()\n",
        "      stdv = columndata.std()\n",
        "      q1,q3 = columndata.quantile([0.25,0.75])\n",
        "\n",
        "      fileData.append(mi)\n",
        "      fileData.append(ma)\n",
        "      fileData.append(mean)\n",
        "      fileData.append(median)\n",
        "      fileData.append(stdv)\n",
        "      fileData.append(q1)\n",
        "      fileData.append(q3)\n",
        "  folder.append(fileData)\n",
        "  index+=1"
      ],
      "execution_count": 0,
      "outputs": []
    },
    {
      "cell_type": "code",
      "metadata": {
        "id": "erevjK0bd5RN",
        "colab_type": "code",
        "colab": {}
      },
      "source": [
        "#Add bending2\n",
        "for i in range(0,6):\n",
        "  fileData = []\n",
        "  #Iterate through each attribute in each file\n",
        "  key=keys[i]\n",
        "  for(name, columndata) in bending2[key].iteritems():\n",
        "    if(name != \"time\" and name != \"activity\"):\n",
        "      mi = columndata.min()\n",
        "      ma = columndata.max()\n",
        "      mean = columndata.mean()\n",
        "      median = columndata.median()\n",
        "      stdv = columndata.std()\n",
        "      q1,q3 = columndata.quantile([0.25,0.75])\n",
        "\n",
        "      fileData.append(mi)\n",
        "      fileData.append(ma)\n",
        "      fileData.append(mean)\n",
        "      fileData.append(median)\n",
        "      fileData.append(stdv)\n",
        "      fileData.append(q1)\n",
        "      fileData.append(q3)\n",
        "  folder.append(fileData)\n",
        "  index+=1"
      ],
      "execution_count": 0,
      "outputs": []
    },
    {
      "cell_type": "code",
      "metadata": {
        "id": "VKQpklxhd5jP",
        "colab_type": "code",
        "colab": {}
      },
      "source": [
        "#Add cycling\n",
        "for i in range(0,15):\n",
        "  fileData = []\n",
        "  #Iterate through each attribute in each file\n",
        "  key=keys[i]\n",
        "  for(name, columndata) in cycling[key].iteritems():\n",
        "    if(name != \"time\" and name != \"activity\"):\n",
        "      mi = columndata.min()\n",
        "      ma = columndata.max()\n",
        "      mean = columndata.mean()\n",
        "      median = columndata.median()\n",
        "      stdv = columndata.std()\n",
        "      q1,q3 = columndata.quantile([0.25,0.75])\n",
        "\n",
        "      fileData.append(mi)\n",
        "      fileData.append(ma)\n",
        "      fileData.append(mean)\n",
        "      fileData.append(median)\n",
        "      fileData.append(stdv)\n",
        "      fileData.append(q1)\n",
        "      fileData.append(q3)\n",
        "  folder.append(fileData)\n",
        "  index+=1"
      ],
      "execution_count": 0,
      "outputs": []
    },
    {
      "cell_type": "code",
      "metadata": {
        "id": "cWhWnVeQd5oX",
        "colab_type": "code",
        "colab": {}
      },
      "source": [
        "#Add lying\n",
        "for i in range(0,15):\n",
        "  fileData = []\n",
        "  #Iterate through each attribute in each file\n",
        "  key=keys[i]\n",
        "  for(name, columndata) in lying[key].iteritems():\n",
        "    if(name != \"time\"and name != \"activity\"):\n",
        "      mi = columndata.min()\n",
        "      ma = columndata.max()\n",
        "      mean = columndata.mean()\n",
        "      median = columndata.median()\n",
        "      stdv = columndata.std()\n",
        "      q1,q3 = columndata.quantile([0.25,0.75])\n",
        "\n",
        "      fileData.append(mi)\n",
        "      fileData.append(ma)\n",
        "      fileData.append(mean)\n",
        "      fileData.append(median)\n",
        "      fileData.append(stdv)\n",
        "      fileData.append(q1)\n",
        "      fileData.append(q3)\n",
        "  folder.append(fileData)\n",
        "  index+=1"
      ],
      "execution_count": 0,
      "outputs": []
    },
    {
      "cell_type": "code",
      "metadata": {
        "id": "LefPVyzsfADM",
        "colab_type": "code",
        "colab": {}
      },
      "source": [
        "#Add sitting\n",
        "for i in range(0,15):\n",
        "  fileData = []\n",
        "  #Iterate through each attribute in each file\n",
        "  key=keys[i]\n",
        "  for(name, columndata) in sitting[key].iteritems():\n",
        "    if(name != \"time\"and name != \"activity\"):\n",
        "      mi = columndata.min()\n",
        "      ma = columndata.max()\n",
        "      mean = columndata.mean()\n",
        "      median = columndata.median()\n",
        "      stdv = columndata.std()\n",
        "      q1,q3 = columndata.quantile([0.25,0.75])\n",
        "\n",
        "      fileData.append(mi)\n",
        "      fileData.append(ma)\n",
        "      fileData.append(mean)\n",
        "      fileData.append(median)\n",
        "      fileData.append(stdv)\n",
        "      fileData.append(q1)\n",
        "      fileData.append(q3)\n",
        "  folder.append(fileData)\n",
        "  index+=1"
      ],
      "execution_count": 0,
      "outputs": []
    },
    {
      "cell_type": "code",
      "metadata": {
        "id": "cEt9eQynfDwn",
        "colab_type": "code",
        "colab": {}
      },
      "source": [
        "#Add standing\n",
        "for i in range(0,15):\n",
        "  fileData = []\n",
        "  #Iterate through each attribute in each file\n",
        "  key=keys[i]\n",
        "  for(name, columndata) in standing[key].iteritems():\n",
        "    if(name != \"time\"and name != \"activity\"):\n",
        "      mi = columndata.min()\n",
        "      ma = columndata.max()\n",
        "      mean = columndata.mean()\n",
        "      median = columndata.median()\n",
        "      stdv = columndata.std()\n",
        "      q1,q3 = columndata.quantile([0.25,0.75])\n",
        "\n",
        "      fileData.append(mi)\n",
        "      fileData.append(ma)\n",
        "      fileData.append(mean)\n",
        "      fileData.append(median)\n",
        "      fileData.append(stdv)\n",
        "      fileData.append(q1)\n",
        "      fileData.append(q3)\n",
        "  folder.append(fileData)\n",
        "  index+=1"
      ],
      "execution_count": 0,
      "outputs": []
    },
    {
      "cell_type": "code",
      "metadata": {
        "id": "8uxVVJsWfD3F",
        "colab_type": "code",
        "colab": {}
      },
      "source": [
        "#Add walking\n",
        "for i in range(0,15):\n",
        "  fileData = []\n",
        "  #Iterate through each attribute in each file\n",
        "  key=keys[i]\n",
        "  for(name, columndata) in walking[key].iteritems():\n",
        "    if(name != \"time\" and name != \"activity\"):\n",
        "      mi = columndata.min()\n",
        "      ma = columndata.max()\n",
        "      mean = columndata.mean()\n",
        "      median = columndata.median()\n",
        "      stdv = columndata.std()\n",
        "      q1,q3 = columndata.quantile([0.25,0.75])\n",
        "\n",
        "      fileData.append(mi)\n",
        "      fileData.append(ma)\n",
        "      fileData.append(mean)\n",
        "      fileData.append(median)\n",
        "      fileData.append(stdv)\n",
        "      fileData.append(q1)\n",
        "      fileData.append(q3)\n",
        "  folder.append(fileData)\n",
        "  index+=1"
      ],
      "execution_count": 0,
      "outputs": []
    },
    {
      "cell_type": "code",
      "metadata": {
        "id": "xWY6uxyfXB2U",
        "colab_type": "code",
        "colab": {}
      },
      "source": [
        "df = pd.DataFrame(folder, columns=cols) \n"
      ],
      "execution_count": 0,
      "outputs": []
    },
    {
      "cell_type": "markdown",
      "metadata": {
        "id": "97a37rmEHoBH",
        "colab_type": "text"
      },
      "source": [
        "### iii. Estimate the stdv of each of the time-domaiin features you extracted from the data. Then build a 90% bootstrap confidence interval for the stdv of each feature"
      ]
    },
    {
      "cell_type": "code",
      "metadata": {
        "id": "-XLlZ5OhfWMB",
        "colab_type": "code",
        "colab": {}
      },
      "source": [
        "#Get the standard deviation of each column of the df\n",
        "deviations = []\n",
        "for(name, data) in df.iteritems():\n",
        "  deviations.append(data.std())\n",
        "stdev = pd.DataFrame([deviations], columns=cols)"
      ],
      "execution_count": 0,
      "outputs": []
    },
    {
      "cell_type": "code",
      "metadata": {
        "id": "4OvinBkxyNq6",
        "colab_type": "code",
        "colab": {
          "base_uri": "https://localhost:8080/",
          "height": 100
        },
        "outputId": "fbbdeba5-41a1-489d-bc4e-e5577b7bd856"
      },
      "source": [
        "stdev"
      ],
      "execution_count": 24,
      "outputs": [
        {
          "output_type": "execute_result",
          "data": {
            "text/html": [
              "<div>\n",
              "<style scoped>\n",
              "    .dataframe tbody tr th:only-of-type {\n",
              "        vertical-align: middle;\n",
              "    }\n",
              "\n",
              "    .dataframe tbody tr th {\n",
              "        vertical-align: top;\n",
              "    }\n",
              "\n",
              "    .dataframe thead th {\n",
              "        text-align: right;\n",
              "    }\n",
              "</style>\n",
              "<table border=\"1\" class=\"dataframe\">\n",
              "  <thead>\n",
              "    <tr style=\"text-align: right;\">\n",
              "      <th></th>\n",
              "      <th>min1</th>\n",
              "      <th>max1</th>\n",
              "      <th>mean1</th>\n",
              "      <th>med1</th>\n",
              "      <th>std1</th>\n",
              "      <th>1stQ1</th>\n",
              "      <th>3rdQ1</th>\n",
              "      <th>min2</th>\n",
              "      <th>max2</th>\n",
              "      <th>mean2</th>\n",
              "      <th>med2</th>\n",
              "      <th>std2</th>\n",
              "      <th>1stQ2</th>\n",
              "      <th>3rdQ2</th>\n",
              "      <th>min3</th>\n",
              "      <th>max3</th>\n",
              "      <th>mean3</th>\n",
              "      <th>med3</th>\n",
              "      <th>std3</th>\n",
              "      <th>1stQ3</th>\n",
              "      <th>3rdQ3</th>\n",
              "      <th>min4</th>\n",
              "      <th>max4</th>\n",
              "      <th>mean4</th>\n",
              "      <th>med4</th>\n",
              "      <th>std4</th>\n",
              "      <th>1stQ4</th>\n",
              "      <th>3rdQ4</th>\n",
              "      <th>min5</th>\n",
              "      <th>max5</th>\n",
              "      <th>mean5</th>\n",
              "      <th>med5</th>\n",
              "      <th>std5</th>\n",
              "      <th>1stQ5</th>\n",
              "      <th>3rdQ5</th>\n",
              "      <th>min6</th>\n",
              "      <th>max6</th>\n",
              "      <th>mean6</th>\n",
              "      <th>med6</th>\n",
              "      <th>std6</th>\n",
              "      <th>1stQ6</th>\n",
              "      <th>3rdQ6</th>\n",
              "    </tr>\n",
              "  </thead>\n",
              "  <tbody>\n",
              "    <tr>\n",
              "      <th>0</th>\n",
              "      <td>9.624011</td>\n",
              "      <td>4.207745</td>\n",
              "      <td>5.276431</td>\n",
              "      <td>5.386624</td>\n",
              "      <td>1.771282</td>\n",
              "      <td>6.127846</td>\n",
              "      <td>5.031028</td>\n",
              "      <td>0.0</td>\n",
              "      <td>5.059656</td>\n",
              "      <td>1.577908</td>\n",
              "      <td>1.413545</td>\n",
              "      <td>0.885875</td>\n",
              "      <td>0.948434</td>\n",
              "      <td>2.131337</td>\n",
              "      <td>2.954516</td>\n",
              "      <td>4.819848</td>\n",
              "      <td>3.976754</td>\n",
              "      <td>4.009687</td>\n",
              "      <td>0.952011</td>\n",
              "      <td>4.184148</td>\n",
              "      <td>4.153451</td>\n",
              "      <td>0.0</td>\n",
              "      <td>2.181809</td>\n",
              "      <td>1.168268</td>\n",
              "      <td>1.148591</td>\n",
              "      <td>0.458612</td>\n",
              "      <td>0.844919</td>\n",
              "      <td>1.555235</td>\n",
              "      <td>6.121205</td>\n",
              "      <td>5.773355</td>\n",
              "      <td>5.704025</td>\n",
              "      <td>5.844368</td>\n",
              "      <td>1.012358</td>\n",
              "      <td>6.122142</td>\n",
              "      <td>5.563553</td>\n",
              "      <td>0.046101</td>\n",
              "      <td>2.533515</td>\n",
              "      <td>1.157222</td>\n",
              "      <td>1.089858</td>\n",
              "      <td>0.516968</td>\n",
              "      <td>0.761542</td>\n",
              "      <td>1.526871</td>\n",
              "    </tr>\n",
              "  </tbody>\n",
              "</table>\n",
              "</div>"
            ],
            "text/plain": [
              "       min1      max1     mean1  ...      std6     1stQ6     3rdQ6\n",
              "0  9.624011  4.207745  5.276431  ...  0.516968  0.761542  1.526871\n",
              "\n",
              "[1 rows x 42 columns]"
            ]
          },
          "metadata": {
            "tags": []
          },
          "execution_count": 24
        }
      ]
    },
    {
      "cell_type": "code",
      "metadata": {
        "id": "AWkTQf6lhLCV",
        "colab_type": "code",
        "colab": {}
      },
      "source": [
        "zscore=1.6449 #z score for 90th percentile\n",
        "n=9.38 #square root of sample pop, 88\n",
        "\n",
        "intervals = []\n",
        "#For each time domain feature\n",
        "for i in range(0,42):\n",
        "  feature = []\n",
        "  feature.append(stdev.columns[i])\n",
        "  lower = df.iloc[:,i].mean() - zscore*(stdev.iloc[0,i]/n)\n",
        "  upper = df.iloc[:,i].mean() + zscore*(stdev.iloc[0,i]/n)\n",
        "  diff = upper-lower\n",
        "  feature.append(lower)\n",
        "  feature.append(upper)\n",
        "  feature.append(diff)\n",
        "  intervals.append(feature)\n",
        "\n",
        "confidenceIntervals = pd.DataFrame(intervals, columns=['feature','lower','upper','diff'])"
      ],
      "execution_count": 0,
      "outputs": []
    },
    {
      "cell_type": "code",
      "metadata": {
        "id": "adjoWQCrfg4x",
        "colab_type": "code",
        "colab": {
          "base_uri": "https://localhost:8080/",
          "height": 1000
        },
        "outputId": "b2c7870f-e394-471d-dcff-d2f8d3ec48c4"
      },
      "source": [
        "confidenceIntervals.sort_values(by='diff', ascending=True)\n"
      ],
      "execution_count": 26,
      "outputs": [
        {
          "output_type": "execute_result",
          "data": {
            "text/html": [
              "<div>\n",
              "<style scoped>\n",
              "    .dataframe tbody tr th:only-of-type {\n",
              "        vertical-align: middle;\n",
              "    }\n",
              "\n",
              "    .dataframe tbody tr th {\n",
              "        vertical-align: top;\n",
              "    }\n",
              "\n",
              "    .dataframe thead th {\n",
              "        text-align: right;\n",
              "    }\n",
              "</style>\n",
              "<table border=\"1\" class=\"dataframe\">\n",
              "  <thead>\n",
              "    <tr style=\"text-align: right;\">\n",
              "      <th></th>\n",
              "      <th>feature</th>\n",
              "      <th>lower</th>\n",
              "      <th>upper</th>\n",
              "      <th>diff</th>\n",
              "    </tr>\n",
              "  </thead>\n",
              "  <tbody>\n",
              "    <tr>\n",
              "      <th>21</th>\n",
              "      <td>min4</td>\n",
              "      <td>0.000000</td>\n",
              "      <td>0.000000</td>\n",
              "      <td>0.000000</td>\n",
              "    </tr>\n",
              "    <tr>\n",
              "      <th>7</th>\n",
              "      <td>min2</td>\n",
              "      <td>0.000000</td>\n",
              "      <td>0.000000</td>\n",
              "      <td>0.000000</td>\n",
              "    </tr>\n",
              "    <tr>\n",
              "      <th>35</th>\n",
              "      <td>min6</td>\n",
              "      <td>-0.003142</td>\n",
              "      <td>0.013027</td>\n",
              "      <td>0.016169</td>\n",
              "    </tr>\n",
              "    <tr>\n",
              "      <th>25</th>\n",
              "      <td>std4</td>\n",
              "      <td>0.991566</td>\n",
              "      <td>1.152413</td>\n",
              "      <td>0.160847</td>\n",
              "    </tr>\n",
              "    <tr>\n",
              "      <th>39</th>\n",
              "      <td>std6</td>\n",
              "      <td>0.964399</td>\n",
              "      <td>1.145712</td>\n",
              "      <td>0.181314</td>\n",
              "    </tr>\n",
              "    <tr>\n",
              "      <th>40</th>\n",
              "      <td>1stQ6</td>\n",
              "      <td>0.773437</td>\n",
              "      <td>1.040529</td>\n",
              "      <td>0.267092</td>\n",
              "    </tr>\n",
              "    <tr>\n",
              "      <th>26</th>\n",
              "      <td>1stQ4</td>\n",
              "      <td>0.579132</td>\n",
              "      <td>0.875466</td>\n",
              "      <td>0.296334</td>\n",
              "    </tr>\n",
              "    <tr>\n",
              "      <th>11</th>\n",
              "      <td>std2</td>\n",
              "      <td>0.840289</td>\n",
              "      <td>1.150987</td>\n",
              "      <td>0.310699</td>\n",
              "    </tr>\n",
              "    <tr>\n",
              "      <th>12</th>\n",
              "      <td>1stQ2</td>\n",
              "      <td>0.587646</td>\n",
              "      <td>0.920285</td>\n",
              "      <td>0.332639</td>\n",
              "    </tr>\n",
              "    <tr>\n",
              "      <th>18</th>\n",
              "      <td>std3</td>\n",
              "      <td>3.412982</td>\n",
              "      <td>3.746876</td>\n",
              "      <td>0.333894</td>\n",
              "    </tr>\n",
              "    <tr>\n",
              "      <th>32</th>\n",
              "      <td>std5</td>\n",
              "      <td>3.380817</td>\n",
              "      <td>3.735877</td>\n",
              "      <td>0.355059</td>\n",
              "    </tr>\n",
              "    <tr>\n",
              "      <th>38</th>\n",
              "      <td>med6</td>\n",
              "      <td>1.262845</td>\n",
              "      <td>1.645086</td>\n",
              "      <td>0.382240</td>\n",
              "    </tr>\n",
              "    <tr>\n",
              "      <th>24</th>\n",
              "      <td>med4</td>\n",
              "      <td>1.121626</td>\n",
              "      <td>1.524466</td>\n",
              "      <td>0.402840</td>\n",
              "    </tr>\n",
              "    <tr>\n",
              "      <th>37</th>\n",
              "      <td>mean6</td>\n",
              "      <td>1.428317</td>\n",
              "      <td>1.834184</td>\n",
              "      <td>0.405867</td>\n",
              "    </tr>\n",
              "    <tr>\n",
              "      <th>23</th>\n",
              "      <td>mean4</td>\n",
              "      <td>1.308354</td>\n",
              "      <td>1.718095</td>\n",
              "      <td>0.409741</td>\n",
              "    </tr>\n",
              "    <tr>\n",
              "      <th>10</th>\n",
              "      <td>med2</td>\n",
              "      <td>1.054991</td>\n",
              "      <td>1.550756</td>\n",
              "      <td>0.495766</td>\n",
              "    </tr>\n",
              "    <tr>\n",
              "      <th>41</th>\n",
              "      <td>3rdQ6</td>\n",
              "      <td>1.888681</td>\n",
              "      <td>2.424193</td>\n",
              "      <td>0.535512</td>\n",
              "    </tr>\n",
              "    <tr>\n",
              "      <th>27</th>\n",
              "      <td>3rdQ4</td>\n",
              "      <td>1.741006</td>\n",
              "      <td>2.286465</td>\n",
              "      <td>0.545460</td>\n",
              "    </tr>\n",
              "    <tr>\n",
              "      <th>9</th>\n",
              "      <td>mean2</td>\n",
              "      <td>1.196237</td>\n",
              "      <td>1.749648</td>\n",
              "      <td>0.553412</td>\n",
              "    </tr>\n",
              "    <tr>\n",
              "      <th>4</th>\n",
              "      <td>std1</td>\n",
              "      <td>2.699369</td>\n",
              "      <td>3.320601</td>\n",
              "      <td>0.621233</td>\n",
              "    </tr>\n",
              "    <tr>\n",
              "      <th>13</th>\n",
              "      <td>3rdQ2</td>\n",
              "      <td>1.619634</td>\n",
              "      <td>2.367147</td>\n",
              "      <td>0.747513</td>\n",
              "    </tr>\n",
              "    <tr>\n",
              "      <th>22</th>\n",
              "      <td>max4</td>\n",
              "      <td>6.405324</td>\n",
              "      <td>7.170538</td>\n",
              "      <td>0.765215</td>\n",
              "    </tr>\n",
              "    <tr>\n",
              "      <th>36</th>\n",
              "      <td>max6</td>\n",
              "      <td>6.018360</td>\n",
              "      <td>6.906927</td>\n",
              "      <td>0.888567</td>\n",
              "    </tr>\n",
              "    <tr>\n",
              "      <th>14</th>\n",
              "      <td>min3</td>\n",
              "      <td>2.619015</td>\n",
              "      <td>3.655238</td>\n",
              "      <td>1.036223</td>\n",
              "    </tr>\n",
              "    <tr>\n",
              "      <th>16</th>\n",
              "      <td>mean3</td>\n",
              "      <td>13.651109</td>\n",
              "      <td>15.045855</td>\n",
              "      <td>1.394747</td>\n",
              "    </tr>\n",
              "    <tr>\n",
              "      <th>17</th>\n",
              "      <td>med3</td>\n",
              "      <td>13.977598</td>\n",
              "      <td>15.383896</td>\n",
              "      <td>1.406297</td>\n",
              "    </tr>\n",
              "    <tr>\n",
              "      <th>20</th>\n",
              "      <td>3rdQ3</td>\n",
              "      <td>16.068393</td>\n",
              "      <td>17.525112</td>\n",
              "      <td>1.456719</td>\n",
              "    </tr>\n",
              "    <tr>\n",
              "      <th>19</th>\n",
              "      <td>1stQ3</td>\n",
              "      <td>11.452924</td>\n",
              "      <td>12.920409</td>\n",
              "      <td>1.467485</td>\n",
              "    </tr>\n",
              "    <tr>\n",
              "      <th>1</th>\n",
              "      <td>max1</td>\n",
              "      <td>44.878556</td>\n",
              "      <td>46.354317</td>\n",
              "      <td>1.475761</td>\n",
              "    </tr>\n",
              "    <tr>\n",
              "      <th>15</th>\n",
              "      <td>max3</td>\n",
              "      <td>22.061216</td>\n",
              "      <td>23.751657</td>\n",
              "      <td>1.690441</td>\n",
              "    </tr>\n",
              "    <tr>\n",
              "      <th>6</th>\n",
              "      <td>3rdQ1</td>\n",
              "      <td>40.440563</td>\n",
              "      <td>42.205070</td>\n",
              "      <td>1.764507</td>\n",
              "    </tr>\n",
              "    <tr>\n",
              "      <th>8</th>\n",
              "      <td>max2</td>\n",
              "      <td>5.463646</td>\n",
              "      <td>7.238193</td>\n",
              "      <td>1.774547</td>\n",
              "    </tr>\n",
              "    <tr>\n",
              "      <th>2</th>\n",
              "      <td>mean1</td>\n",
              "      <td>38.095924</td>\n",
              "      <td>39.946500</td>\n",
              "      <td>1.850576</td>\n",
              "    </tr>\n",
              "    <tr>\n",
              "      <th>3</th>\n",
              "      <td>med1</td>\n",
              "      <td>38.013894</td>\n",
              "      <td>39.903117</td>\n",
              "      <td>1.889223</td>\n",
              "    </tr>\n",
              "    <tr>\n",
              "      <th>34</th>\n",
              "      <td>3rdQ5</td>\n",
              "      <td>17.547149</td>\n",
              "      <td>19.498426</td>\n",
              "      <td>1.951277</td>\n",
              "    </tr>\n",
              "    <tr>\n",
              "      <th>30</th>\n",
              "      <td>mean5</td>\n",
              "      <td>15.010959</td>\n",
              "      <td>17.011502</td>\n",
              "      <td>2.000544</td>\n",
              "    </tr>\n",
              "    <tr>\n",
              "      <th>29</th>\n",
              "      <td>max5</td>\n",
              "      <td>23.319984</td>\n",
              "      <td>25.344844</td>\n",
              "      <td>2.024860</td>\n",
              "    </tr>\n",
              "    <tr>\n",
              "      <th>31</th>\n",
              "      <td>med5</td>\n",
              "      <td>15.194485</td>\n",
              "      <td>17.244251</td>\n",
              "      <td>2.049766</td>\n",
              "    </tr>\n",
              "    <tr>\n",
              "      <th>28</th>\n",
              "      <td>min5</td>\n",
              "      <td>3.530248</td>\n",
              "      <td>5.677108</td>\n",
              "      <td>2.146859</td>\n",
              "    </tr>\n",
              "    <tr>\n",
              "      <th>33</th>\n",
              "      <td>1stQ5</td>\n",
              "      <td>12.716693</td>\n",
              "      <td>14.863881</td>\n",
              "      <td>2.147188</td>\n",
              "    </tr>\n",
              "    <tr>\n",
              "      <th>5</th>\n",
              "      <td>1stQ1</td>\n",
              "      <td>36.037417</td>\n",
              "      <td>38.186606</td>\n",
              "      <td>2.149189</td>\n",
              "    </tr>\n",
              "    <tr>\n",
              "      <th>0</th>\n",
              "      <td>min1</td>\n",
              "      <td>27.366677</td>\n",
              "      <td>30.742058</td>\n",
              "      <td>3.375381</td>\n",
              "    </tr>\n",
              "  </tbody>\n",
              "</table>\n",
              "</div>"
            ],
            "text/plain": [
              "   feature      lower      upper      diff\n",
              "21    min4   0.000000   0.000000  0.000000\n",
              "7     min2   0.000000   0.000000  0.000000\n",
              "35    min6  -0.003142   0.013027  0.016169\n",
              "25    std4   0.991566   1.152413  0.160847\n",
              "39    std6   0.964399   1.145712  0.181314\n",
              "40   1stQ6   0.773437   1.040529  0.267092\n",
              "26   1stQ4   0.579132   0.875466  0.296334\n",
              "11    std2   0.840289   1.150987  0.310699\n",
              "12   1stQ2   0.587646   0.920285  0.332639\n",
              "18    std3   3.412982   3.746876  0.333894\n",
              "32    std5   3.380817   3.735877  0.355059\n",
              "38    med6   1.262845   1.645086  0.382240\n",
              "24    med4   1.121626   1.524466  0.402840\n",
              "37   mean6   1.428317   1.834184  0.405867\n",
              "23   mean4   1.308354   1.718095  0.409741\n",
              "10    med2   1.054991   1.550756  0.495766\n",
              "41   3rdQ6   1.888681   2.424193  0.535512\n",
              "27   3rdQ4   1.741006   2.286465  0.545460\n",
              "9    mean2   1.196237   1.749648  0.553412\n",
              "4     std1   2.699369   3.320601  0.621233\n",
              "13   3rdQ2   1.619634   2.367147  0.747513\n",
              "22    max4   6.405324   7.170538  0.765215\n",
              "36    max6   6.018360   6.906927  0.888567\n",
              "14    min3   2.619015   3.655238  1.036223\n",
              "16   mean3  13.651109  15.045855  1.394747\n",
              "17    med3  13.977598  15.383896  1.406297\n",
              "20   3rdQ3  16.068393  17.525112  1.456719\n",
              "19   1stQ3  11.452924  12.920409  1.467485\n",
              "1     max1  44.878556  46.354317  1.475761\n",
              "15    max3  22.061216  23.751657  1.690441\n",
              "6    3rdQ1  40.440563  42.205070  1.764507\n",
              "8     max2   5.463646   7.238193  1.774547\n",
              "2    mean1  38.095924  39.946500  1.850576\n",
              "3     med1  38.013894  39.903117  1.889223\n",
              "34   3rdQ5  17.547149  19.498426  1.951277\n",
              "30   mean5  15.010959  17.011502  2.000544\n",
              "29    max5  23.319984  25.344844  2.024860\n",
              "31    med5  15.194485  17.244251  2.049766\n",
              "28    min5   3.530248   5.677108  2.146859\n",
              "33   1stQ5  12.716693  14.863881  2.147188\n",
              "5    1stQ1  36.037417  38.186606  2.149189\n",
              "0     min1  27.366677  30.742058  3.375381"
            ]
          },
          "metadata": {
            "tags": []
          },
          "execution_count": 26
        }
      ]
    },
    {
      "cell_type": "markdown",
      "metadata": {
        "id": "JRQgmvIrHoBH",
        "colab_type": "text"
      },
      "source": [
        "#### (iv) Select the three most important time-domain features "
      ]
    },
    {
      "cell_type": "markdown",
      "metadata": {
        "id": "uekgl9E4lH3y",
        "colab_type": "text"
      },
      "source": [
        "I believe the three most important time-domain features are standard deviation, first quartile, median and mean. These all had the tightest confidence intervals. The lowest standard deviation/confidence internals were the minimum, but im not sure how valuable this is given the min can be 0."
      ]
    },
    {
      "cell_type": "markdown",
      "metadata": {
        "id": "VhgN3BuwHoBH",
        "colab_type": "text"
      },
      "source": [
        "## (d) Binary Classifcation using Logistic Regression"
      ]
    },
    {
      "cell_type": "markdown",
      "metadata": {
        "id": "3Y2OgMnyrj-d",
        "colab_type": "text"
      },
      "source": [
        "(i) Assume that you want![alt text](![alt text](https://)) to use the training set to classify bending from other activities, i.e. you have a binary classification problem. Depict scatter plots of the features you specified in 1(c)iv extracted from time series 1, 2, and 6 of each instance, and use color to distinguish bending vs. other activities. (See p. 129 of the textbook)"
      ]
    },
    {
      "cell_type": "markdown",
      "metadata": {
        "id": "re-axSsB_AS7",
        "colab_type": "text"
      },
      "source": [
        "mins = \n",
        "meds = \n",
        "stdvs = \n",
        "for each instance in the training array\n",
        "  calcualte the min, stdv, and median\n",
        "  if activity == bending\n",
        "    add min, med, stdv to special arrays so we can color later\n",
        "  add min, med, and stdv to each array\n",
        "plot: min vs med\n",
        "      med vs stdv\n",
        "      stdv vs min\n"
      ]
    },
    {
      "cell_type": "code",
      "metadata": {
        "id": "yTF0GsJh_Q0K",
        "colab_type": "code",
        "colab": {}
      },
      "source": [
        "#non-bending data\n",
        "mins=[]\n",
        "meds=[]\n",
        "stdvs = []\n",
        "\n",
        "#bending data\n",
        "bmins=[]\n",
        "bmeds=[]\n",
        "bstdvs=[]\n",
        "#   var_rss12 ar_rss23\n",
        "\n",
        "for instance in train:\n",
        "  #iterature thru training set\n",
        "  if(instance.activity.all() == \"bending\"):\n",
        "    #Take mins of each column:\n",
        "    bmins.append(instance.avg_rss12.min())\n",
        "    bmins.append(instance.var_rss12.min())\n",
        "    bmins.append(instance.ar_rss23.min())\n",
        "\n",
        "    #Take medians\n",
        "    bmeds.append(instance.avg_rss12.median())\n",
        "    bmeds.append(instance.var_rss12.median())\n",
        "    bmeds.append(instance.ar_rss23.median())\n",
        "    \n",
        "    #Take stdvs\n",
        "    bstdvs.append(instance.avg_rss12.std())\n",
        "    bstdvs.append(instance.var_rss12.std())\n",
        "    bstdvs.append(instance.ar_rss23.std())\n",
        "\n",
        "  else:\n",
        "    #Take mins of each column:\n",
        "    mins.append(instance.avg_rss12.min())\n",
        "    mins.append(instance.var_rss12.min())\n",
        "    mins.append(instance.ar_rss23.min())\n",
        "\n",
        "    #Take medians\n",
        "    meds.append(instance.avg_rss12.median())\n",
        "    meds.append(instance.var_rss12.median())\n",
        "    meds.append(instance.ar_rss23.median())\n",
        "    \n",
        "    #Take stdvs\n",
        "    stdvs.append(instance.avg_rss12.std())\n",
        "    stdvs.append(instance.var_rss12.std())\n",
        "    stdvs.append(instance.ar_rss23.std())\n",
        "\n"
      ],
      "execution_count": 0,
      "outputs": []
    },
    {
      "cell_type": "code",
      "metadata": {
        "id": "gLBdnRt6CoAY",
        "colab_type": "code",
        "colab": {
          "base_uri": "https://localhost:8080/",
          "height": 330
        },
        "outputId": "cfa9460a-607b-430b-aad4-0f779a08a96b"
      },
      "source": [
        "import matplotlib.pyplot as plt\n",
        "fig=plt.figure(figsize=(3.5,3.5))\n",
        "ax=fig.add_axes([0,0,1,1])\n",
        "ax.scatter(mins, meds, color='blue', alpha=0.5)\n",
        "ax.scatter(bmins, bmeds, color='red', alpha=1)\n",
        "ax.set_xlabel('Medians')\n",
        "ax.set_ylabel('Minimums')\n",
        "ax.set_title('Medians vs Minimums')\n",
        "classes = ['Other', 'Bending']\n",
        "plt.legend(labels=classes)\n",
        "plt.show()\n"
      ],
      "execution_count": 28,
      "outputs": [
        {
          "output_type": "display_data",
          "data": {
            "image/png": "[encoded data removed]",
            "text/plain": [
              "<Figure size 252x252 with 1 Axes>"
            ]
          },
          "metadata": {
            "tags": [],
            "needs_background": "light"
          }
        }
      ]
    },
    {
      "cell_type": "code",
      "metadata": {
        "id": "CkMp8RdwFIX1",
        "colab_type": "code",
        "colab": {
          "base_uri": "https://localhost:8080/",
          "height": 330
        },
        "outputId": "c194f964-ad2c-41ac-f951-dd6bd51f2e16"
      },
      "source": [
        "fig=plt.figure(figsize=(3.5,3.5))\n",
        "ax=fig.add_axes([0,0,1,1])\n",
        "ax.scatter(mins, stdvs, color='blue', alpha=0.5)\n",
        "ax.scatter(bmins, bstdvs, color='red', alpha=1)\n",
        "ax.set_xlabel('Standard Deviations')\n",
        "ax.set_ylabel('Minimums')\n",
        "ax.set_title('Standard Deviations vs Minimums')\n",
        "classes = ['Other', 'Bending']\n",
        "plt.legend(labels=classes)\n",
        "plt.show()"
      ],
      "execution_count": 29,
      "outputs": [
        {
          "output_type": "display_data",
          "data": {
            "image/png": "[encoded data removed]",
            "text/plain": [
              "<Figure size 252x252 with 1 Axes>"
            ]
          },
          "metadata": {
            "tags": [],
            "needs_background": "light"
          }
        }
      ]
    },
    {
      "cell_type": "code",
      "metadata": {
        "id": "mV7k_ND12zGt",
        "colab_type": "code",
        "colab": {
          "base_uri": "https://localhost:8080/",
          "height": 330
        },
        "outputId": "958d1647-8841-4d7a-f4d2-08cd49752c77"
      },
      "source": [
        "fig=plt.figure(figsize=(3.5,3.5))\n",
        "ax=fig.add_axes([0,0,1,1])\n",
        "ax.scatter(meds, stdvs, color='blue', alpha=0.5)\n",
        "ax.scatter(bmeds, bstdvs, color='red', alpha=1)\n",
        "ax.set_xlabel('Standard Deviations')\n",
        "ax.set_ylabel('Medians')\n",
        "ax.set_title('Standard Deviations vs Medians')\n",
        "classes = ['Other', 'Bending']\n",
        "plt.legend(labels=classes)\n",
        "plt.show()"
      ],
      "execution_count": 30,
      "outputs": [
        {
          "output_type": "display_data",
          "data": {
            "image/png": "[encoded data removed]",
            "text/plain": [
              "<Figure size 252x252 with 1 Axes>"
            ]
          },
          "metadata": {
            "tags": [],
            "needs_background": "light"
          }
        }
      ]
    },
    {
      "cell_type": "markdown",
      "metadata": {
        "id": "Iqtit0F0m14f",
        "colab_type": "text"
      },
      "source": [
        "#### ii. Break each time series in your training set into two (approximately) equal length time series. Now instead of 6 time series for each of the training instances, you have 12 time series for each training instance. Repeat the experiment in 1(d)i, i.e depict scatter plots of the features extracted from both parts of the time series 1,2, and 12. Do you see any considerable difference in the results with those of 1(d)i?"
      ]
    },
    {
      "cell_type": "code",
      "metadata": {
        "id": "JmfvCgXc8W_7",
        "colab_type": "code",
        "colab": {}
      },
      "source": [
        "train2 = []\n",
        "#Add datasets 3-7 for bending 1\n",
        "for i in range(2,7):\n",
        "  key = keys[i]\n",
        "  train2.append(bending1[key])\n",
        "\n",
        "#Add datasets 3-6 for bending 2\n",
        "for i in range(2,6):\n",
        "  key = keys[i]\n",
        "  train2.append(bending2[key])\n",
        "\n",
        "#Add datasets 4-15 for cycling, lying, sitting, standing, walking\n",
        "for i in range(3,15):\n",
        "  key = keys[i]\n",
        "  train2.append(cycling[key])\n",
        "  train2.append(lying[key])\n",
        "  train2.append(sitting[key])\n",
        "  train2.append(standing[key])\n",
        "  train2.append(walking[key])"
      ],
      "execution_count": 0,
      "outputs": []
    },
    {
      "cell_type": "markdown",
      "metadata": {
        "id": "G8NThcMW-Got",
        "colab_type": "text"
      },
      "source": [
        "**Break each time series in your training set into two (approximately) equal length time series.**"
      ]
    },
    {
      "cell_type": "code",
      "metadata": {
        "id": "3ZkF8U3XsUMa",
        "colab_type": "code",
        "colab": {}
      },
      "source": [
        "#Break each time series into 2 equal parts\n",
        "for i in range(0,len(train2)):\n",
        "  #Split the dataset in half\n",
        "  series1 = train2[i].iloc[0:240, 1:8]\n",
        "  series2 = train2[i].iloc[240:, 1:8]\n",
        "\n",
        "  #Move the old columns into new columns\n",
        "  series1.loc[:,'_avg_rss12'] = pd.Series(series2.avg_rss12.tolist())\n",
        "  series1.loc[:,'_var_rss12'] = pd.Series(series2.var_rss12.tolist())\n",
        "  series1.loc[:,'_avg_rss13'] = pd.Series(series2.avg_rss13.tolist())\n",
        "  series1.loc[:,'_var_rss13'] = pd.Series(series2.var_rss13.tolist())\n",
        "  series1.loc[:,\"_vg_rss23\"] = pd.Series(series2.vg_rss23.tolist())\n",
        "  series1.loc[:,\"_ar_rss23\"] = pd.Series(series2.ar_rss23.tolist())\n",
        "  train2[i] = series1\n"
      ],
      "execution_count": 0,
      "outputs": []
    },
    {
      "cell_type": "markdown",
      "metadata": {
        "id": "zb8eSs4n-Psh",
        "colab_type": "text"
      },
      "source": [
        "**Repeat the experiment in 1(d)i, i.e depict scatter plots of the features extracted from both parts of the time series 1,2, and 12. Do you see any considerable difference in the results with those of 1(d)i?**"
      ]
    },
    {
      "cell_type": "code",
      "metadata": {
        "id": "vrAV8se97Y7z",
        "colab_type": "code",
        "colab": {}
      },
      "source": [
        "#non-bending data\n",
        "mins=[]\n",
        "meds=[]\n",
        "stdvs = []\n",
        "\n",
        "#bending data\n",
        "bmins=[]\n",
        "bmeds=[]\n",
        "bstdvs=[]\n",
        "#   var_rss12 ar_rss23\n",
        "\n",
        "for instance in train2:\n",
        "  #iterature thru training set\n",
        "  if(instance.activity.all() == \"bending\"):\n",
        "    #Take mins of each column:\n",
        "    bmins.append(instance.avg_rss12.min())\n",
        "    bmins.append(instance.var_rss12.min())\n",
        "    bmins.append(instance._ar_rss23.min())\n",
        "\n",
        "    #Take medians\n",
        "    bmeds.append(instance.avg_rss12.median())\n",
        "    bmeds.append(instance.var_rss12.median())\n",
        "    bmeds.append(instance._ar_rss23.median())\n",
        "    \n",
        "    #Take stdvs\n",
        "    bstdvs.append(instance.avg_rss12.std())\n",
        "    bstdvs.append(instance.var_rss12.std())\n",
        "    bstdvs.append(instance._ar_rss23.std())\n",
        "\n",
        "  else:\n",
        "    #Take mins of each column:\n",
        "    mins.append(instance.avg_rss12.min())\n",
        "    mins.append(instance.var_rss12.min())\n",
        "    mins.append(instance._ar_rss23.min())\n",
        "\n",
        "    #Take medians\n",
        "    meds.append(instance.avg_rss12.median())\n",
        "    meds.append(instance.var_rss12.median())\n",
        "    meds.append(instance._ar_rss23.median())\n",
        "    \n",
        "    #Take stdvs\n",
        "    stdvs.append(instance.avg_rss12.std())\n",
        "    stdvs.append(instance.var_rss12.std())\n",
        "    stdvs.append(instance._ar_rss23.std())\n",
        "\n"
      ],
      "execution_count": 0,
      "outputs": []
    },
    {
      "cell_type": "code",
      "metadata": {
        "id": "bX9_kAejJ-nU",
        "colab_type": "code",
        "colab": {
          "base_uri": "https://localhost:8080/",
          "height": 330
        },
        "outputId": "1723d5c0-3fa0-414c-bc95-22aefe5dc853"
      },
      "source": [
        "fig=plt.figure(figsize=(3.5,3.5))\n",
        "ax=fig.add_axes([0,0,1,1])\n",
        "ax.scatter(mins, meds, color='blue', alpha=0.5)\n",
        "ax.scatter(bmins, bmeds, color='red', alpha=1)\n",
        "ax.set_xlabel('Medians')\n",
        "ax.set_ylabel('Minimums')\n",
        "ax.set_title('Medians vs Minimums')\n",
        "classes = ['Other', 'Bending']\n",
        "plt.legend(labels=classes)\n",
        "plt.show()"
      ],
      "execution_count": 35,
      "outputs": [
        {
          "output_type": "display_data",
          "data": {
            "image/png": "[encoded data removed]",
            "text/plain": [
              "<Figure size 252x252 with 1 Axes>"
            ]
          },
          "metadata": {
            "tags": [],
            "needs_background": "light"
          }
        }
      ]
    },
    {
      "cell_type": "code",
      "metadata": {
        "id": "sSF68xwjHoBK",
        "colab_type": "code",
        "colab": {
          "base_uri": "https://localhost:8080/",
          "height": 330
        },
        "outputId": "06cdc266-8fb0-4ae0-b503-f7312ee73461"
      },
      "source": [
        "fig=plt.figure(figsize=(3.5,3.5))\n",
        "ax=fig.add_axes([0,0,1,1])\n",
        "ax.scatter(mins, stdvs, color='blue', alpha=0.5)\n",
        "ax.scatter(bmins, bstdvs, color='red', alpha=1)\n",
        "ax.set_xlabel('Standard Deviations')\n",
        "ax.set_ylabel('Minimums')\n",
        "ax.set_title('Standard Deviations vs Minimums')\n",
        "classes = ['Other', 'Bending']\n",
        "plt.legend(labels=classes)\n",
        "plt.show()\n"
      ],
      "execution_count": 36,
      "outputs": [
        {
          "output_type": "display_data",
          "data": {
            "image/png": "[encoded data removed]",
            "text/plain": [
              "<Figure size 252x252 with 1 Axes>"
            ]
          },
          "metadata": {
            "tags": [],
            "needs_background": "light"
          }
        }
      ]
    },
    {
      "cell_type": "code",
      "metadata": {
        "id": "Rt8n2H6PKiN8",
        "colab_type": "code",
        "colab": {
          "base_uri": "https://localhost:8080/",
          "height": 330
        },
        "outputId": "e50e7210-05fa-4c4f-eccc-943a7e8a7aac"
      },
      "source": [
        "fig=plt.figure(figsize=(3.5,3.5))\n",
        "ax=fig.add_axes([0,0,1,1])\n",
        "ax.scatter(meds, stdvs, color='blue', alpha=0.5)\n",
        "ax.scatter(bmeds, bstdvs, color='red', alpha=1)\n",
        "ax.set_xlabel('Standard Deviations')\n",
        "ax.set_ylabel('Medians')\n",
        "ax.set_title('Standard Deviations vs Medians')\n",
        "classes = ['Other', 'Bending']\n",
        "plt.legend(labels=classes)\n",
        "plt.show()"
      ],
      "execution_count": 37,
      "outputs": [
        {
          "output_type": "display_data",
          "data": {
            "image/png": "[encoded data removed]",
            "text/plain": [
              "<Figure size 252x252 with 1 Axes>"
            ]
          },
          "metadata": {
            "tags": [],
            "needs_background": "light"
          }
        }
      ]
    },
    {
      "cell_type": "markdown",
      "metadata": {
        "id": "nrcM6mlzLEmz",
        "colab_type": "text"
      },
      "source": [
        "No, the plots using double the  time series still look extremely similar to the graphs that only used 6 features."
      ]
    },
    {
      "cell_type": "markdown",
      "metadata": {
        "id": "wydMm_cYrvdZ",
        "colab_type": "text"
      },
      "source": [
        "#### iii. Break each time series in your training set into l ∈ {1, 2, . . . , 20} time series of approximately equal length and use logistic regression5 to solve the binary classification problem, using time-domain features\n"
      ]
    },
    {
      "cell_type": "markdown",
      "metadata": {
        "id": "_9wf_IJRpHQi",
        "colab_type": "text"
      },
      "source": [
        "##### L splitting and testing"
      ]
    },
    {
      "cell_type": "code",
      "metadata": {
        "id": "cqPhYLVUaUPa",
        "colab_type": "code",
        "colab": {}
      },
      "source": [
        ""
      ],
      "execution_count": 0,
      "outputs": []
    },
    {
      "cell_type": "code",
      "metadata": {
        "id": "S3VsV7gKdcWG",
        "colab_type": "code",
        "colab": {}
      },
      "source": [
        ""
      ],
      "execution_count": 0,
      "outputs": []
    },
    {
      "cell_type": "code",
      "metadata": {
        "id": "E9QQvIY8fXDR",
        "colab_type": "code",
        "colab": {}
      },
      "source": [
        ""
      ],
      "execution_count": 0,
      "outputs": []
    },
    {
      "cell_type": "code",
      "metadata": {
        "id": "RKZvMUHveoqR",
        "colab_type": "code",
        "colab": {}
      },
      "source": [
        ""
      ],
      "execution_count": 0,
      "outputs": []
    },
    {
      "cell_type": "code",
      "metadata": {
        "id": "kW2pf2BqZAS8",
        "colab_type": "code",
        "colab": {}
      },
      "source": [
        ""
      ],
      "execution_count": 0,
      "outputs": []
    },
    {
      "cell_type": "code",
      "metadata": {
        "id": "6JLwk4uScRWe",
        "colab_type": "code",
        "colab": {}
      },
      "source": [
        "#Nice column names to use on the extra columns\n",
        "cols = col_names[1:]\n",
        "extraCols = []\n",
        "for i in range(1,21):\n",
        "  for j in range(0,6):\n",
        "    colName = cols[j]\n",
        "    extraCols.append(colName + \"_\" + str(i))"
      ],
      "execution_count": 0,
      "outputs": []
    },
    {
      "cell_type": "code",
      "metadata": {
        "id": "uIEoloEUiVSo",
        "colab_type": "code",
        "colab": {}
      },
      "source": [
        ""
      ],
      "execution_count": 0,
      "outputs": []
    },
    {
      "cell_type": "code",
      "metadata": {
        "id": "17b5LLTLhKV9",
        "colab_type": "code",
        "colab": {}
      },
      "source": [
        ""
      ],
      "execution_count": 0,
      "outputs": []
    },
    {
      "cell_type": "code",
      "metadata": {
        "id": "rPd5G57bYpO0",
        "colab_type": "code",
        "colab": {}
      },
      "source": [
        ""
      ],
      "execution_count": 0,
      "outputs": []
    },
    {
      "cell_type": "code",
      "metadata": {
        "id": "zzdb6v8DHoBO",
        "colab_type": "code",
        "colab": {}
      },
      "source": [
        "from sklearn.linear_model import LogisticRegression \n",
        "from sklearn.metrics import precision_score\n",
        "from sklearn.metrics import classification_report\n",
        "import statsmodels.api as sm\n",
        "from sklearn.feature_selection import SelectFromModel\n",
        "from sklearn.linear_model import LogisticRegressionCV\n",
        "from sklearn.model_selection import KFold\n",
        "from sklearn.model_selection import cross_val_score\n",
        "from sklearn import preprocessing"
      ],
      "execution_count": 0,
      "outputs": []
    },
    {
      "cell_type": "code",
      "metadata": {
        "id": "oRt6pCBonT_m",
        "colab_type": "code",
        "colab": {}
      },
      "source": [
        "#To store the corresponding l and p pairs\n",
        "lpTable = pd.DataFrame(columns=[\"l\",\"p\",\"cv score\"])"
      ],
      "execution_count": 0,
      "outputs": []
    },
    {
      "cell_type": "code",
      "metadata": {
        "id": "87VkWyzQnxPQ",
        "colab_type": "code",
        "colab": {
          "base_uri": "https://localhost:8080/",
          "height": 1000
        },
        "outputId": "8161a94b-381a-4113-b353-b2d89bbec8f2"
      },
      "source": [
        "for l in range(1,21):\n",
        "  trainX_2 = pd.DataFrame()\n",
        "  trainY_2 = pd.DataFrame()\n",
        "  #For each dataset in the training 'folder'\n",
        "  for i in range(0,len(train)):\n",
        "    sz = train[i].shape[0]\n",
        "    idx = int(sz/l)\n",
        "    series = []\n",
        "    #Find the split index points for the dataset and create subarrays of them\n",
        "    for j in range(0,l):\n",
        "      series.append(train[i].iloc[(idx*j):(idx+(j*idx)), 1:8])\n",
        "\n",
        "    series1 = pd.DataFrame()\n",
        "    #Iterate thru each subarray and add it to the final array\n",
        "    c=0\n",
        "    for s in series:\n",
        "      series1.loc[:,extraCols[c]] = pd.Series(s.var_rss12.tolist())\n",
        "      c+=1\n",
        "      series1.loc[:,extraCols[c]] = pd.Series(s.var_rss12.tolist())\n",
        "      c+=1\n",
        "      series1.loc[:,extraCols[c]] = pd.Series(s.avg_rss13.tolist())\n",
        "      c+=1\n",
        "      series1.loc[:,extraCols[c]] = pd.Series(s.var_rss13.tolist())\n",
        "      c+=1\n",
        "      series1.loc[:,extraCols[c]] = pd.Series(s.vg_rss23.tolist())\n",
        "      c+=1\n",
        "      series1.loc[:,extraCols[c]] = pd.Series(s.ar_rss23.tolist())\n",
        "      c+=1\n",
        "    #Table to hold activity class for this dataset (so that it aligns with the X indices)\n",
        "    sz2 = series1.shape[0]\n",
        "    d = pd.DataFrame(train[i].activity, index=np.arange(sz2))\n",
        "\n",
        "    #Add the X and Y sets to the overall training and testing sets\n",
        "    trainX_2 = trainX_2.append(series1)\n",
        "    trainY_2 = trainY_2.append(d)\n",
        "    \n",
        "  trainX_2 = trainX_2.fillna(trainX_2.mean())\n",
        "  trainX_2 = preprocessing.scale(trainX_2)\n",
        "  trainY_2 = trainY_2.values.ravel()\n",
        "\n",
        "\n",
        "  #Do logistic regression \n",
        "  X_scaled = preprocessing.scale(trainX_2)\n",
        "\n",
        "  log_reg = LogisticRegression(C=1e20).fit(X_scaled, trainY_2)\n",
        "  #Perform backwards feature selection\n",
        "  selector = SelectFromModel(estimator=log_reg, prefit=True)\n",
        "  features = selector.get_support()\n",
        "  #Transform the features\n",
        "  sel = selector.transform(X_scaled)\n",
        "  #Do 5-fold CV \n",
        "  kfold = KFold(n_splits=5)\n",
        "  model = LogisticRegression(solver='lbfgs', max_iter=1000)\n",
        "  #Get cross validation score for the model\n",
        "  results = cross_val_score(model, X_scaled, trainY_2, cv=kfold)\n",
        "\n",
        "  numFeatures = sum(features)\n",
        "  lpTable.loc[len(lpTable)] = [l, numFeatures, results.mean()]"
      ],
      "execution_count": 128,
      "outputs": [
        {
          "output_type": "stream",
          "text": [
            "/usr/local/lib/python3.6/dist-packages/sklearn/linear_model/_logistic.py:940: ConvergenceWarning: lbfgs failed to converge (status=1):\n",
            "STOP: TOTAL NO. of ITERATIONS REACHED LIMIT.\n",
            "\n",
            "Increase the number of iterations (max_iter) or scale the data as shown in:\n",
            "    https://scikit-learn.org/stable/modules/preprocessing.html\n",
            "Please also refer to the documentation for alternative solver options:\n",
            "    https://scikit-learn.org/stable/modules/linear_model.html#logistic-regression\n",
            "  extra_warning_msg=_LOGISTIC_SOLVER_CONVERGENCE_MSG)\n",
            "/usr/local/lib/python3.6/dist-packages/sklearn/linear_model/_logistic.py:940: ConvergenceWarning: lbfgs failed to converge (status=1):\n",
            "STOP: TOTAL NO. of ITERATIONS REACHED LIMIT.\n",
            "\n",
            "Increase the number of iterations (max_iter) or scale the data as shown in:\n",
            "    https://scikit-learn.org/stable/modules/preprocessing.html\n",
            "Please also refer to the documentation for alternative solver options:\n",
            "    https://scikit-learn.org/stable/modules/linear_model.html#logistic-regression\n",
            "  extra_warning_msg=_LOGISTIC_SOLVER_CONVERGENCE_MSG)\n",
            "/usr/local/lib/python3.6/dist-packages/sklearn/linear_model/_logistic.py:940: ConvergenceWarning: lbfgs failed to converge (status=1):\n",
            "STOP: TOTAL NO. of ITERATIONS REACHED LIMIT.\n",
            "\n",
            "Increase the number of iterations (max_iter) or scale the data as shown in:\n",
            "    https://scikit-learn.org/stable/modules/preprocessing.html\n",
            "Please also refer to the documentation for alternative solver options:\n",
            "    https://scikit-learn.org/stable/modules/linear_model.html#logistic-regression\n",
            "  extra_warning_msg=_LOGISTIC_SOLVER_CONVERGENCE_MSG)\n",
            "/usr/local/lib/python3.6/dist-packages/sklearn/linear_model/_logistic.py:940: ConvergenceWarning: lbfgs failed to converge (status=1):\n",
            "STOP: TOTAL NO. of ITERATIONS REACHED LIMIT.\n",
            "\n",
            "Increase the number of iterations (max_iter) or scale the data as shown in:\n",
            "    https://scikit-learn.org/stable/modules/preprocessing.html\n",
            "Please also refer to the documentation for alternative solver options:\n",
            "    https://scikit-learn.org/stable/modules/linear_model.html#logistic-regression\n",
            "  extra_warning_msg=_LOGISTIC_SOLVER_CONVERGENCE_MSG)\n",
            "/usr/local/lib/python3.6/dist-packages/sklearn/linear_model/_logistic.py:940: ConvergenceWarning: lbfgs failed to converge (status=1):\n",
            "STOP: TOTAL NO. of ITERATIONS REACHED LIMIT.\n",
            "\n",
            "Increase the number of iterations (max_iter) or scale the data as shown in:\n",
            "    https://scikit-learn.org/stable/modules/preprocessing.html\n",
            "Please also refer to the documentation for alternative solver options:\n",
            "    https://scikit-learn.org/stable/modules/linear_model.html#logistic-regression\n",
            "  extra_warning_msg=_LOGISTIC_SOLVER_CONVERGENCE_MSG)\n",
            "/usr/local/lib/python3.6/dist-packages/sklearn/linear_model/_logistic.py:940: ConvergenceWarning: lbfgs failed to converge (status=1):\n",
            "STOP: TOTAL NO. of ITERATIONS REACHED LIMIT.\n",
            "\n",
            "Increase the number of iterations (max_iter) or scale the data as shown in:\n",
            "    https://scikit-learn.org/stable/modules/preprocessing.html\n",
            "Please also refer to the documentation for alternative solver options:\n",
            "    https://scikit-learn.org/stable/modules/linear_model.html#logistic-regression\n",
            "  extra_warning_msg=_LOGISTIC_SOLVER_CONVERGENCE_MSG)\n",
            "/usr/local/lib/python3.6/dist-packages/sklearn/linear_model/_logistic.py:940: ConvergenceWarning: lbfgs failed to converge (status=1):\n",
            "STOP: TOTAL NO. of ITERATIONS REACHED LIMIT.\n",
            "\n",
            "Increase the number of iterations (max_iter) or scale the data as shown in:\n",
            "    https://scikit-learn.org/stable/modules/preprocessing.html\n",
            "Please also refer to the documentation for alternative solver options:\n",
            "    https://scikit-learn.org/stable/modules/linear_model.html#logistic-regression\n",
            "  extra_warning_msg=_LOGISTIC_SOLVER_CONVERGENCE_MSG)\n",
            "/usr/local/lib/python3.6/dist-packages/sklearn/linear_model/_logistic.py:940: ConvergenceWarning: lbfgs failed to converge (status=1):\n",
            "STOP: TOTAL NO. of ITERATIONS REACHED LIMIT.\n",
            "\n",
            "Increase the number of iterations (max_iter) or scale the data as shown in:\n",
            "    https://scikit-learn.org/stable/modules/preprocessing.html\n",
            "Please also refer to the documentation for alternative solver options:\n",
            "    https://scikit-learn.org/stable/modules/linear_model.html#logistic-regression\n",
            "  extra_warning_msg=_LOGISTIC_SOLVER_CONVERGENCE_MSG)\n",
            "/usr/local/lib/python3.6/dist-packages/sklearn/linear_model/_logistic.py:940: ConvergenceWarning: lbfgs failed to converge (status=1):\n",
            "STOP: TOTAL NO. of ITERATIONS REACHED LIMIT.\n",
            "\n",
            "Increase the number of iterations (max_iter) or scale the data as shown in:\n",
            "    https://scikit-learn.org/stable/modules/preprocessing.html\n",
            "Please also refer to the documentation for alternative solver options:\n",
            "    https://scikit-learn.org/stable/modules/linear_model.html#logistic-regression\n",
            "  extra_warning_msg=_LOGISTIC_SOLVER_CONVERGENCE_MSG)\n",
            "/usr/local/lib/python3.6/dist-packages/sklearn/linear_model/_logistic.py:940: ConvergenceWarning: lbfgs failed to converge (status=1):\n",
            "STOP: TOTAL NO. of ITERATIONS REACHED LIMIT.\n",
            "\n",
            "Increase the number of iterations (max_iter) or scale the data as shown in:\n",
            "    https://scikit-learn.org/stable/modules/preprocessing.html\n",
            "Please also refer to the documentation for alternative solver options:\n",
            "    https://scikit-learn.org/stable/modules/linear_model.html#logistic-regression\n",
            "  extra_warning_msg=_LOGISTIC_SOLVER_CONVERGENCE_MSG)\n",
            "/usr/local/lib/python3.6/dist-packages/sklearn/linear_model/_logistic.py:940: ConvergenceWarning: lbfgs failed to converge (status=1):\n",
            "STOP: TOTAL NO. of ITERATIONS REACHED LIMIT.\n",
            "\n",
            "Increase the number of iterations (max_iter) or scale the data as shown in:\n",
            "    https://scikit-learn.org/stable/modules/preprocessing.html\n",
            "Please also refer to the documentation for alternative solver options:\n",
            "    https://scikit-learn.org/stable/modules/linear_model.html#logistic-regression\n",
            "  extra_warning_msg=_LOGISTIC_SOLVER_CONVERGENCE_MSG)\n",
            "/usr/local/lib/python3.6/dist-packages/sklearn/linear_model/_logistic.py:940: ConvergenceWarning: lbfgs failed to converge (status=1):\n",
            "STOP: TOTAL NO. of ITERATIONS REACHED LIMIT.\n",
            "\n",
            "Increase the number of iterations (max_iter) or scale the data as shown in:\n",
            "    https://scikit-learn.org/stable/modules/preprocessing.html\n",
            "Please also refer to the documentation for alternative solver options:\n",
            "    https://scikit-learn.org/stable/modules/linear_model.html#logistic-regression\n",
            "  extra_warning_msg=_LOGISTIC_SOLVER_CONVERGENCE_MSG)\n",
            "/usr/local/lib/python3.6/dist-packages/sklearn/linear_model/_logistic.py:940: ConvergenceWarning: lbfgs failed to converge (status=1):\n",
            "STOP: TOTAL NO. of ITERATIONS REACHED LIMIT.\n",
            "\n",
            "Increase the number of iterations (max_iter) or scale the data as shown in:\n",
            "    https://scikit-learn.org/stable/modules/preprocessing.html\n",
            "Please also refer to the documentation for alternative solver options:\n",
            "    https://scikit-learn.org/stable/modules/linear_model.html#logistic-regression\n",
            "  extra_warning_msg=_LOGISTIC_SOLVER_CONVERGENCE_MSG)\n",
            "/usr/local/lib/python3.6/dist-packages/sklearn/linear_model/_logistic.py:940: ConvergenceWarning: lbfgs failed to converge (status=1):\n",
            "STOP: TOTAL NO. of ITERATIONS REACHED LIMIT.\n",
            "\n",
            "Increase the number of iterations (max_iter) or scale the data as shown in:\n",
            "    https://scikit-learn.org/stable/modules/preprocessing.html\n",
            "Please also refer to the documentation for alternative solver options:\n",
            "    https://scikit-learn.org/stable/modules/linear_model.html#logistic-regression\n",
            "  extra_warning_msg=_LOGISTIC_SOLVER_CONVERGENCE_MSG)\n",
            "/usr/local/lib/python3.6/dist-packages/sklearn/linear_model/_logistic.py:940: ConvergenceWarning: lbfgs failed to converge (status=1):\n",
            "STOP: TOTAL NO. of ITERATIONS REACHED LIMIT.\n",
            "\n",
            "Increase the number of iterations (max_iter) or scale the data as shown in:\n",
            "    https://scikit-learn.org/stable/modules/preprocessing.html\n",
            "Please also refer to the documentation for alternative solver options:\n",
            "    https://scikit-learn.org/stable/modules/linear_model.html#logistic-regression\n",
            "  extra_warning_msg=_LOGISTIC_SOLVER_CONVERGENCE_MSG)\n"
          ],
          "name": "stderr"
        }
      ]
    },
    {
      "cell_type": "code",
      "metadata": {
        "id": "GWhoCUBRogLi",
        "colab_type": "code",
        "colab": {
          "base_uri": "https://localhost:8080/",
          "height": 102
        },
        "outputId": "5d509e2e-664f-4d79-93fa-fbb16b29e64a"
      },
      "source": [
        "lpTable = lpTable.sort_values(by='cv score', ascending=False)\n",
        "print(\"Best l, p combo:\\n\", lpTable.iloc[0,:])\n",
        "#l=18, p=32"
      ],
      "execution_count": 136,
      "outputs": [
        {
          "output_type": "stream",
          "text": [
            "Best l, p combo:\n",
            " l           18.000000\n",
            "p           32.000000\n",
            "cv score     0.681693\n",
            "Name: 26, dtype: float64\n"
          ],
          "name": "stdout"
        }
      ]
    },
    {
      "cell_type": "markdown",
      "metadata": {
        "id": "N4RL5TPHrzrW",
        "colab_type": "text"
      },
      "source": [
        "#### v. iv. Report the confusion matrix and show the ROC and AUC for your classifier on train data. Report the parameters of your logistic regression βi’s as well as the p-values associated with them."
      ]
    },
    {
      "cell_type": "code",
      "metadata": {
        "id": "VrEWLRqNuSa7",
        "colab_type": "code",
        "colab": {}
      },
      "source": [
        "#Fit the classifier with the above parameters\n",
        "l=18\n",
        "p=32\n",
        "trainX_2 = pd.DataFrame()\n",
        "trainY_2 = pd.DataFrame()\n",
        "#For each dataset in the training 'folder'\n",
        "for i in range(0,len(train)):\n",
        "  sz = train[i].shape[0]\n",
        "  idx = int(sz/l)\n",
        "  series = []\n",
        "  #Find the split index points for the dataset and create subarrays of them\n",
        "  for j in range(0,l):\n",
        "    series.append(train[i].iloc[(idx*j):(idx+(j*idx)), 1:8])\n",
        "  series1 = pd.DataFrame()\n",
        "  #Iterate thru each subarray and add it to the final array\n",
        "  c=0\n",
        "  for s in series:\n",
        "    series1.loc[:,extraCols[c]] = pd.Series(s.var_rss12.tolist())\n",
        "    c+=1\n",
        "    series1.loc[:,extraCols[c]] = pd.Series(s.var_rss12.tolist())\n",
        "    c+=1\n",
        "    series1.loc[:,extraCols[c]] = pd.Series(s.avg_rss13.tolist())\n",
        "    c+=1\n",
        "    series1.loc[:,extraCols[c]] = pd.Series(s.var_rss13.tolist())\n",
        "    c+=1\n",
        "    series1.loc[:,extraCols[c]] = pd.Series(s.vg_rss23.tolist())\n",
        "    c+=1\n",
        "    series1.loc[:,extraCols[c]] = pd.Series(s.ar_rss23.tolist())\n",
        "    c+=1\n",
        "  #Table to hold activity class for this dataset (so that it aligns with the X indices)\n",
        "  sz2 = series1.shape[0]\n",
        "  d = pd.DataFrame(train[i].activity, index=np.arange(sz2))\n",
        "\n",
        "  #Add the X and Y sets to the overall training and testing sets\n",
        "  trainX_2 = trainX_2.append(series1)\n",
        "  trainY_2 = trainY_2.append(d)\n",
        "  \n",
        "trainX_2 = trainX_2.fillna(trainX_2.mean())\n",
        "trainX_2 = preprocessing.scale(trainX_2)\n",
        "trainY_2['activity'].replace('bending',1, inplace=True)\n",
        "trainY_2['activity'].replace('walking',0, inplace=True)\n",
        "trainY_2['activity'].replace('lying',0, inplace=True)\n",
        "trainY_2['activity'].replace('sitting',0, inplace=True)\n",
        "trainY_2['activity'].replace('standing',0, inplace=True)\n",
        "trainY_2['activity'].replace('cycling',0, inplace=True)\n",
        "trainY_2 = trainY_2.values.ravel()\n",
        "\n",
        "#Do logistic regression \n",
        "X_scaled = preprocessing.scale(trainX_2)\n",
        "\n",
        "log_reg = LogisticRegression(C=1e20).fit(X_scaled, trainY_2)\n",
        "#Perform backwards feature selection\n",
        "\n",
        "selector = SelectFromModel(estimator=log_reg, prefit=True, max_features=p)\n",
        "features = selector.get_support()\n",
        "#Transform the features\n",
        "sel = selector.transform(X_scaled)"
      ],
      "execution_count": 0,
      "outputs": []
    },
    {
      "cell_type": "code",
      "metadata": {
        "id": "7-F7jB5xva2x",
        "colab_type": "code",
        "colab": {
          "base_uri": "https://localhost:8080/",
          "height": 782
        },
        "outputId": "790e8c48-858f-4a4d-ce47-19addc31ac68"
      },
      "source": [
        "log_reg = LogisticRegression(C=1e20).fit(sel, trainY_2)\n",
        "\n",
        "# Calculate p-values\n",
        "l = sm.Logit(trainY_2, sel).fit(maxiter=11)\n",
        "l.pvalues\n",
        "print(l.summary())"
      ],
      "execution_count": 146,
      "outputs": [
        {
          "output_type": "stream",
          "text": [
            "Optimization terminated successfully.\n",
            "         Current function value: 0.462492\n",
            "         Iterations 7\n",
            "                           Logit Regression Results                           \n",
            "==============================================================================\n",
            "Dep. Variable:                      y   No. Observations:                 1794\n",
            "Model:                          Logit   Df Residuals:                     1765\n",
            "Method:                           MLE   Df Model:                           28\n",
            "Date:                Wed, 06 May 2020   Pseudo R-squ.:                 -0.1944\n",
            "Time:                        20:51:15   Log-Likelihood:                -829.71\n",
            "converged:                       True   LL-Null:                       -694.66\n",
            "Covariance Type:            nonrobust   LLR p-value:                     1.000\n",
            "==============================================================================\n",
            "                 coef    std err          z      P>|z|      [0.025      0.975]\n",
            "------------------------------------------------------------------------------\n",
            "x1             0.5292      0.133      3.973      0.000       0.268       0.790\n",
            "x2            -0.1279      0.098     -1.311      0.190      -0.319       0.063\n",
            "x3            -0.2250      0.079     -2.851      0.004      -0.380      -0.070\n",
            "x4             0.5741      0.127      4.535      0.000       0.326       0.822\n",
            "x5            -0.1067      0.105     -1.014      0.311      -0.313       0.100\n",
            "x6             0.9866      0.143      6.906      0.000       0.707       1.267\n",
            "x7             0.1380      0.104      1.331      0.183      -0.065       0.341\n",
            "x8             0.0870      0.099      0.882      0.378      -0.106       0.280\n",
            "x9             0.5076      0.125      4.074      0.000       0.263       0.752\n",
            "x10           -0.1489      0.098     -1.515      0.130      -0.342       0.044\n",
            "x11            0.6431      0.114      5.634      0.000       0.419       0.867\n",
            "x12           -0.2507      0.096     -2.601      0.009      -0.440      -0.062\n",
            "x13            0.0971      0.114      0.855      0.392      -0.125       0.320\n",
            "x14           -0.0188      0.109     -0.172      0.863      -0.233       0.196\n",
            "x15            0.2635      0.090      2.937      0.003       0.088       0.439\n",
            "x16           -0.4163      0.123     -3.386      0.001      -0.657      -0.175\n",
            "x17           -0.0023      0.092     -0.025      0.980      -0.182       0.177\n",
            "x18           -0.0242      0.105     -0.231      0.818      -0.229       0.181\n",
            "x19            0.4707      0.099      4.748      0.000       0.276       0.665\n",
            "x20           -0.2569      0.125     -2.052      0.040      -0.502      -0.011\n",
            "x21           -0.2562      0.079     -3.234      0.001      -0.411      -0.101\n",
            "x22           -0.0628      0.114     -0.553      0.580      -0.286       0.160\n",
            "x23           -0.2486      0.079     -3.139      0.002      -0.404      -0.093\n",
            "x24           -0.1692      0.091     -1.859      0.063      -0.348       0.009\n",
            "x25           -0.4815      0.090     -5.377      0.000      -0.657      -0.306\n",
            "x26            0.5417      0.106      5.111      0.000       0.334       0.749\n",
            "x27           -0.2097      0.077     -2.726      0.006      -0.360      -0.059\n",
            "x28            0.2144      0.101      2.115      0.034       0.016       0.413\n",
            "x29           -0.2033      0.077     -2.640      0.008      -0.354      -0.052\n",
            "==============================================================================\n"
          ],
          "name": "stdout"
        }
      ]
    },
    {
      "cell_type": "code",
      "metadata": {
        "id": "WpMnYIrowTaN",
        "colab_type": "code",
        "colab": {
          "base_uri": "https://localhost:8080/",
          "height": 187
        },
        "outputId": "0d14f3b2-7923-4d7f-a26c-647491c79d4f"
      },
      "source": [
        "#Predict train labels\n",
        "predictions = log_reg.predict(sel)\n",
        "#Get scores of train labels\n",
        "scores = log_reg.score(sel, trainY_2)\n",
        "#Predict the probability of positive test label\n",
        "probs = log_reg.predict_proba(sel)\n",
        "probs = probs[:,1]\n",
        "from sklearn import metrics\n",
        "#Precision, recall, F1\n",
        "print(\"Classification Report:\")\n",
        "print(classification_report(trainY_2,predictions))"
      ],
      "execution_count": 149,
      "outputs": [
        {
          "output_type": "stream",
          "text": [
            "Classification Report:\n",
            "              precision    recall  f1-score   support\n",
            "\n",
            "           0       0.98      1.00      0.99      1560\n",
            "           1       1.00      0.89      0.94       234\n",
            "\n",
            "    accuracy                           0.99      1794\n",
            "   macro avg       0.99      0.94      0.97      1794\n",
            "weighted avg       0.99      0.99      0.99      1794\n",
            "\n"
          ],
          "name": "stdout"
        }
      ]
    },
    {
      "cell_type": "code",
      "metadata": {
        "id": "45-C5mg7wxSA",
        "colab_type": "code",
        "colab": {
          "base_uri": "https://localhost:8080/",
          "height": 68
        },
        "outputId": "6c92807f-f1b6-49a0-f31d-4efcfca910d9"
      },
      "source": [
        "#Confusion Matrix\n",
        "cm = metrics.confusion_matrix(trainY_2, predictions)\n",
        "print(\"Confusion Matrix: \\n\", cm)"
      ],
      "execution_count": 150,
      "outputs": [
        {
          "output_type": "stream",
          "text": [
            "Confusion Matrix: \n",
            " [[1560    0]\n",
            " [  26  208]]\n"
          ],
          "name": "stdout"
        }
      ]
    },
    {
      "cell_type": "code",
      "metadata": {
        "id": "FkmjmsxkvMzl",
        "colab_type": "code",
        "colab": {
          "base_uri": "https://localhost:8080/",
          "height": 329
        },
        "outputId": "1c8fb511-5341-40ee-e27c-b9161855b2e4"
      },
      "source": [
        "#Calcualte ROC features\n",
        "fpr, tpr, thresholds = metrics.roc_curve(trainY_2, probs, pos_label=1)\n",
        "#Calculate AUC\n",
        "roc_auc = metrics.auc(fpr, tpr)\n",
        "\n",
        "#Plot ROC\n",
        "print('AUC: ', roc_auc)\n",
        "print(\"ROC:\")\n",
        "plt.title('ROC Plot')\n",
        "plt.plot(fpr, tpr, 'b', label='AUC = %0.2f'%roc_auc)\n",
        "plt.plot([0, 1], [0, 1],'r--')\n",
        "plt.ylabel('TPR')\n",
        "plt.xlabel('FPR')\n",
        "plt.show()"
      ],
      "execution_count": 151,
      "outputs": [
        {
          "output_type": "stream",
          "text": [
            "AUC:  0.9668803418803419\n",
            "ROC:\n"
          ],
          "name": "stdout"
        },
        {
          "output_type": "display_data",
          "data": {
            "image/png": "[encoded data removed]",
            "text/plain": [
              "<Figure size 432x288 with 1 Axes>"
            ]
          },
          "metadata": {
            "tags": [],
            "needs_background": "light"
          }
        }
      ]
    },
    {
      "cell_type": "markdown",
      "metadata": {
        "id": "ewlEwLfcxgeQ",
        "colab_type": "text"
      },
      "source": [
        "#### (v) Test the classifier on the test set. "
      ]
    },
    {
      "cell_type": "markdown",
      "metadata": {
        "id": "pmKCgXVT4Wk2",
        "colab_type": "text"
      },
      "source": [
        "Break the time series in your test set into the same number of time series into which you broke your training set. "
      ]
    },
    {
      "cell_type": "code",
      "metadata": {
        "id": "Qn7t9s0_x0pr",
        "colab_type": "code",
        "colab": {}
      },
      "source": [
        "#Fit the classifier with the above parameters\n",
        "l=18\n",
        "p=32\n",
        "testX_2 = pd.DataFrame()\n",
        "testY_2 = pd.DataFrame()\n",
        "#For each dataset in the training 'folder'\n",
        "for i in range(0,len(test)):\n",
        "  sz = test[i].shape[0]\n",
        "  idx = int(sz/l)\n",
        "  series = []\n",
        "  #Find the split index points for the dataset and create subarrays of them\n",
        "  for j in range(0,l):\n",
        "    series.append(test[i].iloc[(idx*j):(idx+(j*idx)), 1:8])\n",
        "  series1 = pd.DataFrame()\n",
        "  #Iterate thru each subarray and add it to the final array\n",
        "  c=0\n",
        "  for s in series:\n",
        "    series1.loc[:,extraCols[c]] = pd.Series(s.var_rss12.tolist())\n",
        "    c+=1\n",
        "    series1.loc[:,extraCols[c]] = pd.Series(s.var_rss12.tolist())\n",
        "    c+=1\n",
        "    series1.loc[:,extraCols[c]] = pd.Series(s.avg_rss13.tolist())\n",
        "    c+=1\n",
        "    series1.loc[:,extraCols[c]] = pd.Series(s.var_rss13.tolist())\n",
        "    c+=1\n",
        "    series1.loc[:,extraCols[c]] = pd.Series(s.vg_rss23.tolist())\n",
        "    c+=1\n",
        "    series1.loc[:,extraCols[c]] = pd.Series(s.ar_rss23.tolist())\n",
        "    c+=1\n",
        "  #Table to hold activity class for this dataset (so that it aligns with the X indices)\n",
        "  sz2 = series1.shape[0]\n",
        "  d = pd.DataFrame(test[i].activity, index=np.arange(sz2))\n",
        "\n",
        "  #Add the X and Y sets to the overall training and testing sets\n",
        "  testX_2 = testX_2.append(series1)\n",
        "  testY_2 = testY_2.append(d)\n",
        "  \n",
        "testX_2 = testX_2.fillna(testX_2.mean())\n",
        "testX_2 = preprocessing.scale(testX_2)\n",
        "testY_2['activity'].replace('bending',1, inplace=True)\n",
        "testY_2['activity'].replace('walking',0, inplace=True)\n",
        "testY_2['activity'].replace('lying',0, inplace=True)\n",
        "testY_2['activity'].replace('sitting',0, inplace=True)\n",
        "testY_2['activity'].replace('standing',0, inplace=True)\n",
        "testY_2['activity'].replace('cycling',0, inplace=True)\n",
        "testY_2 = testY_2.values.ravel()\n",
        "\n"
      ],
      "execution_count": 0,
      "outputs": []
    },
    {
      "cell_type": "markdown",
      "metadata": {
        "id": "qG8LOPJz4eOw",
        "colab_type": "text"
      },
      "source": [
        "Compare the accuracy on the test set with the cross-validation accuracy you obtained previously."
      ]
    },
    {
      "cell_type": "code",
      "metadata": {
        "id": "5eK1BAbSyVaS",
        "colab_type": "code",
        "colab": {
          "base_uri": "https://localhost:8080/",
          "height": 34
        },
        "outputId": "1ca359d5-5df1-4a52-9f57-63a32c644187"
      },
      "source": [
        "#Do logistic regression \n",
        "X_scaled = preprocessing.scale(testX_2)\n",
        "\n",
        "log_reg = LogisticRegression(C=1e20).fit(X_scaled, testY_2)\n",
        "#Perform backwards feature selection\n",
        "\n",
        "selector = SelectFromModel(estimator=log_reg, prefit=True, max_features=p)\n",
        "features = selector.get_support()\n",
        "#Transform the features\n",
        "sel = selector.transform(X_scaled)\n",
        "\n",
        "#Do 5-fold CV \n",
        "kfold = KFold(n_splits=5)\n",
        "model = LogisticRegression(solver='lbfgs', max_iter=1000)\n",
        "#Get cross validation score for the model\n",
        "results = cross_val_score(model, X_scaled, testY_2, cv=kfold)\n",
        "print(\"new cv score: \", results.mean())"
      ],
      "execution_count": 156,
      "outputs": [
        {
          "output_type": "stream",
          "text": [
            "new cv score:  0.8505050505050505\n"
          ],
          "name": "stdout"
        }
      ]
    },
    {
      "cell_type": "markdown",
      "metadata": {
        "id": "hEhDTYlPzf4T",
        "colab_type": "text"
      },
      "source": [
        "Yayyy, the cross validation score for this seems to be higher than that of the train data (0.6)"
      ]
    },
    {
      "cell_type": "markdown",
      "metadata": {
        "id": "yonxqP2Bzxjy",
        "colab_type": "text"
      },
      "source": [
        "#### vi. Do your classes seem to be well-separated to cause instability in calculating logistic regression parameters?"
      ]
    },
    {
      "cell_type": "markdown",
      "metadata": {
        "id": "j3zuDg5Czz2G",
        "colab_type": "text"
      },
      "source": [
        "No, they don't seem to be too well-separated enough to cause instability in calculating logistic regression parameters"
      ]
    },
    {
      "cell_type": "markdown",
      "metadata": {
        "id": "HdDhgYlaz5Ru",
        "colab_type": "text"
      },
      "source": [
        "#### vii. From the confusion matrices you obtained, do you see imbalanced classes? If yes, build a logistic regression model based on case-control sampling and adjust its parameters. Report the confusion matrix, ROC, and AUC of the model."
      ]
    },
    {
      "cell_type": "markdown",
      "metadata": {
        "id": "HakPxehw4rXJ",
        "colab_type": "text"
      },
      "source": [
        "No, I don't see imbalanced classes. Below is the confustion matrix, ROC, and AUC of the model"
      ]
    },
    {
      "cell_type": "code",
      "metadata": {
        "id": "bYHjkiiL2-Gc",
        "colab_type": "code",
        "colab": {
          "base_uri": "https://localhost:8080/",
          "height": 1000
        },
        "outputId": "fcf12a27-3e0e-464d-b35a-ce1dcebe7c4b"
      },
      "source": [
        "l = sm.Logit(testY_2, sel).fit(maxiter=11)\n",
        "l.pvalues\n",
        "print(l.summary())"
      ],
      "execution_count": 157,
      "outputs": [
        {
          "output_type": "stream",
          "text": [
            "Optimization terminated successfully.\n",
            "         Current function value: 0.207022\n",
            "         Iterations 10\n",
            "                           Logit Regression Results                           \n",
            "==============================================================================\n",
            "Dep. Variable:                      y   No. Observations:                  494\n",
            "Model:                          Logit   Df Residuals:                      464\n",
            "Method:                           MLE   Df Model:                           29\n",
            "Date:                Wed, 06 May 2020   Pseudo R-squ.:                  0.5977\n",
            "Time:                        21:20:51   Log-Likelihood:                -102.27\n",
            "converged:                       True   LL-Null:                       -254.24\n",
            "Covariance Type:            nonrobust   LLR p-value:                 1.351e-47\n",
            "==============================================================================\n",
            "                 coef    std err          z      P>|z|      [0.025      0.975]\n",
            "------------------------------------------------------------------------------\n",
            "x1             0.6981      0.363      1.924      0.054      -0.013       1.409\n",
            "x2             2.3368      0.529      4.416      0.000       1.300       3.374\n",
            "x3            -0.0077      0.326     -0.024      0.981      -0.647       0.632\n",
            "x4             0.5861      0.335      1.749      0.080      -0.071       1.243\n",
            "x5            -0.4992      0.263     -1.900      0.057      -1.014       0.016\n",
            "x6             0.4210        nan        nan        nan         nan         nan\n",
            "x7             0.4210        nan        nan        nan         nan         nan\n",
            "x8            -0.1818      0.355     -0.512      0.609      -0.878       0.514\n",
            "x9            -0.8384      0.292     -2.872      0.004      -1.411      -0.266\n",
            "x10           -1.4508      0.344     -4.216      0.000      -2.125      -0.776\n",
            "x11           -0.8322      0.272     -3.056      0.002      -1.366      -0.298\n",
            "x12           -0.3294      0.277     -1.187      0.235      -0.873       0.214\n",
            "x13            0.3159      0.533      0.592      0.554      -0.729       1.361\n",
            "x14           -0.3507      0.302     -1.162      0.245      -0.942       0.241\n",
            "x15           -0.8017      0.306     -2.617      0.009      -1.402      -0.201\n",
            "x16            1.7135      0.601      2.852      0.004       0.536       2.891\n",
            "x17           -0.4809      0.281     -1.713      0.087      -1.031       0.069\n",
            "x18            0.6985      0.271      2.582      0.010       0.168       1.229\n",
            "x19            1.9513      0.620      3.148      0.002       0.737       3.166\n",
            "x20           -0.1517      0.298     -0.510      0.610      -0.735       0.432\n",
            "x21           -0.6361      0.344     -1.850      0.064      -1.310       0.038\n",
            "x22           -0.9142      0.274     -3.340      0.001      -1.451      -0.378\n",
            "x23            0.7421      0.410      1.810      0.070      -0.062       1.546\n",
            "x24            0.1503      0.484      0.310      0.756      -0.798       1.099\n",
            "x25            0.0333      0.437      0.076      0.939      -0.824       0.890\n",
            "x26           -1.5747      0.507     -3.108      0.002      -2.568      -0.582\n",
            "x27            0.6289      0.429      1.466      0.143      -0.212       1.470\n",
            "x28            0.2263      0.308      0.734      0.463      -0.378       0.831\n",
            "x29           -0.6572      0.381     -1.727      0.084      -1.403       0.089\n",
            "x30            2.8698      0.539      5.322      0.000       1.813       3.927\n",
            "x31            1.1339      0.493      2.298      0.022       0.167       2.101\n",
            "==============================================================================\n",
            "\n",
            "Possibly complete quasi-separation: A fraction 0.28 of observations can be\n",
            "perfectly predicted. This might indicate that there is complete\n",
            "quasi-separation. In this case some parameters will not be identified.\n"
          ],
          "name": "stdout"
        },
        {
          "output_type": "stream",
          "text": [
            "/usr/local/lib/python3.6/dist-packages/statsmodels/base/model.py:1286: RuntimeWarning: invalid value encountered in sqrt\n",
            "  bse_ = np.sqrt(np.diag(self.cov_params()))\n",
            "/usr/local/lib/python3.6/dist-packages/scipy/stats/_distn_infrastructure.py:903: RuntimeWarning: invalid value encountered in greater\n",
            "  return (a < x) & (x < b)\n",
            "/usr/local/lib/python3.6/dist-packages/scipy/stats/_distn_infrastructure.py:903: RuntimeWarning: invalid value encountered in less\n",
            "  return (a < x) & (x < b)\n",
            "/usr/local/lib/python3.6/dist-packages/scipy/stats/_distn_infrastructure.py:1912: RuntimeWarning: invalid value encountered in less_equal\n",
            "  cond2 = cond0 & (x <= _a)\n"
          ],
          "name": "stderr"
        }
      ]
    },
    {
      "cell_type": "code",
      "metadata": {
        "id": "Q9GifwEO3CV2",
        "colab_type": "code",
        "colab": {
          "base_uri": "https://localhost:8080/",
          "height": 187
        },
        "outputId": "65054a63-6def-4a70-b447-2d629d1251ba"
      },
      "source": [
        "log_reg = LogisticRegression(C=1e20).fit(sel, testY_2)\n",
        "#Predict train labels\n",
        "predictions = log_reg.predict(sel)\n",
        "#Get scores of train labels\n",
        "scores = log_reg.score(sel, testY_2)\n",
        "#Predict the probability of positive test label\n",
        "probs = log_reg.predict_proba(sel)\n",
        "probs = probs[:,1]\n",
        "#Precision, recall, F1\n",
        "print(\"Classification Report:\")\n",
        "print(classification_report(testY_2,predictions))"
      ],
      "execution_count": 159,
      "outputs": [
        {
          "output_type": "stream",
          "text": [
            "Classification Report:\n",
            "              precision    recall  f1-score   support\n",
            "\n",
            "           0       1.00      1.00      1.00       390\n",
            "           1       1.00      1.00      1.00       104\n",
            "\n",
            "    accuracy                           1.00       494\n",
            "   macro avg       1.00      1.00      1.00       494\n",
            "weighted avg       1.00      1.00      1.00       494\n",
            "\n"
          ],
          "name": "stdout"
        }
      ]
    },
    {
      "cell_type": "code",
      "metadata": {
        "id": "sF-o_ohs3Fhl",
        "colab_type": "code",
        "colab": {
          "base_uri": "https://localhost:8080/",
          "height": 68
        },
        "outputId": "c8057446-ae23-4255-e671-3e85fad104a0"
      },
      "source": [
        "#Confusion Matrix\n",
        "cm = metrics.confusion_matrix(testY_2, predictions)\n",
        "print(\"Confusion Matrix: \\n\", cm)"
      ],
      "execution_count": 161,
      "outputs": [
        {
          "output_type": "stream",
          "text": [
            "Confusion Matrix: \n",
            " [[390   0]\n",
            " [  0 104]]\n"
          ],
          "name": "stdout"
        }
      ]
    },
    {
      "cell_type": "code",
      "metadata": {
        "id": "6pUSBB4f3Icz",
        "colab_type": "code",
        "colab": {
          "base_uri": "https://localhost:8080/",
          "height": 329
        },
        "outputId": "3ecc3136-470e-45f9-fb99-fa9d7d0991b6"
      },
      "source": [
        "#Calculate ROC features\n",
        "fpr, tpr, thresholds = metrics.roc_curve(testY_2, probs, pos_label=1)\n",
        "#Calculate AUC\n",
        "roc_auc = metrics.auc(fpr, tpr)\n",
        "\n",
        "#Plot ROC\n",
        "print('AUC: ', roc_auc)\n",
        "print(\"ROC:\")\n",
        "plt.title('ROC Plot')\n",
        "plt.plot(fpr, tpr, 'b', label='AUC = %0.2f'%roc_auc)\n",
        "plt.plot([0, 1], [0, 1],'r--')\n",
        "plt.ylabel('TPR')\n",
        "plt.xlabel('FPR')\n",
        "plt.show()"
      ],
      "execution_count": 162,
      "outputs": [
        {
          "output_type": "stream",
          "text": [
            "AUC:  1.0\n",
            "ROC:\n"
          ],
          "name": "stdout"
        },
        {
          "output_type": "display_data",
          "data": {
            "image/png": "[encoded data removed]",
            "text/plain": [
              "<Figure size 432x288 with 1 Axes>"
            ]
          },
          "metadata": {
            "tags": [],
            "needs_background": "light"
          }
        }
      ]
    },
    {
      "cell_type": "markdown",
      "metadata": {
        "id": "eRotbU77w4Te",
        "colab_type": "text"
      },
      "source": [
        "## ignore everything under here:"
      ]
    },
    {
      "cell_type": "code",
      "metadata": {
        "id": "cyzIIwyxiaA4",
        "colab_type": "code",
        "colab": {}
      },
      "source": [
        "# from sklearn.linear_model import LogisticRegressionCV\n",
        "# from sklearn.linear_model import LogisticRegression\n",
        "# from sklearn.model_selection import KFold\n",
        "  \n",
        "# #Five-fold cross validation\n",
        "# kf = KFold(n_splits=5)\n",
        "# avg_score = 0;\n",
        "# for train_i, test_i in kf.split(trainX_2):\n",
        "#     #Get the training and testing data for the fold\n",
        "#     X_train, X_test = trainX_2[train_i], X[test_i]\n",
        "#     y_train, y_test = trainY_2[train_i], Y[test_i]\n",
        "    \n",
        "#     #Fit LR model on training data\n",
        "#     lr = LogisticRegression(penalty='l2', solver = 'lbfgs').fit(X_train, y_train)\n",
        "#     score = lr.score(X_test, y_test )\n",
        "#     avg_score += score\n",
        "# avg_score /=5;\n",
        "# #iterate thru lambda value, then tts into 5 folds (5 tts?) then fit LR model, test, return lamda with highest .score\n"
      ],
      "execution_count": 0,
      "outputs": []
    },
    {
      "cell_type": "markdown",
      "metadata": {
        "id": "IWd9k5gmkpn_",
        "colab_type": "text"
      },
      "source": [
        "below is just testing the kfold cv"
      ]
    },
    {
      "cell_type": "code",
      "metadata": {
        "id": "-8-6zHgKkosr",
        "colab_type": "code",
        "colab": {}
      },
      "source": [
        "# #For l=3\n",
        "# trainX_2 = pd.DataFrame()\n",
        "# trainY_2 = pd.DataFrame()\n",
        "# l=2\n",
        "# #For each dataset in the training 'folder'\n",
        "# for i in range(0,len(train)):\n",
        "#   sz = train[i].shape[0]\n",
        "#   idx = int(sz/l)\n",
        "#   series = []\n",
        "#   #Find the split index points for the dataset and create subarrays of them\n",
        "#   for j in range(0,l):\n",
        "#     series.append(train[i].iloc[(idx*j):(idx+(j*idx)), 1:8])\n",
        "\n",
        "#   series1 = pd.DataFrame()\n",
        "#   #Iterate thru each subarray and add it to the final array\n",
        "#   c=0\n",
        "#   for s in series:\n",
        "#     series1.loc[:,extraCols[c]] = pd.Series(s.var_rss12.tolist())\n",
        "#     c+=1\n",
        "#     series1.loc[:,extraCols[c]] = pd.Series(s.var_rss12.tolist())\n",
        "#     c+=1\n",
        "#     series1.loc[:,extraCols[c]] = pd.Series(s.avg_rss13.tolist())\n",
        "#     c+=1\n",
        "#     series1.loc[:,extraCols[c]] = pd.Series(s.var_rss13.tolist())\n",
        "#     c+=1\n",
        "#     series1.loc[:,extraCols[c]] = pd.Series(s.vg_rss23.tolist())\n",
        "#     c+=1\n",
        "#     series1.loc[:,extraCols[c]] = pd.Series(s.ar_rss23.tolist())\n",
        "#     c+=1\n",
        "#   #Table to hold activity class for this dataset (so that it aligns with the X indices)\n",
        "#   sz2 = series1.shape[0]\n",
        "#   d = pd.DataFrame(train[i].activity, index=np.arange(sz2))\n",
        "\n",
        "#   #Add the X and Y sets to the overall training and testing sets\n",
        "#   trainX_2 = trainX_2.append(series1)\n",
        "#   trainY_2 = trainY_2.append(d)\n",
        "#   trainX_2 = trainX_2.fillna(trainX_2.mean())"
      ],
      "execution_count": 0,
      "outputs": []
    },
    {
      "cell_type": "code",
      "metadata": {
        "id": "ZE-yVsuDlHJK",
        "colab_type": "code",
        "colab": {}
      },
      "source": [
        "# trainY_2 = trainY_2.values.ravel()\n"
      ],
      "execution_count": 0,
      "outputs": []
    },
    {
      "cell_type": "code",
      "metadata": {
        "id": "FTHJz5M7nqbP",
        "colab_type": "code",
        "colab": {
          "base_uri": "https://localhost:8080/",
          "height": 351
        },
        "outputId": "0c8d7886-1b4f-4116-a5d7-b22bea28ce9b"
      },
      "source": [
        "# from sklearn.model_selection import cross_val_score\n",
        "# from sklearn import preprocessing\n",
        "# kfold = KFold(n_splits=5)\n",
        "# model = LogisticRegression(solver='lbfgs', max_iter=1000)\n",
        "# #Scale the data\n",
        "# cp = selector.transform(cp)\n",
        "\n",
        "# X_scaled = preprocessing.scale(cp)\n",
        "# #Get cross validation score for the model\n",
        "# results = cross_val_score(model, X_scaled, trainY_2, cv=kfold)\n",
        "# #add results.mean() to the df\n",
        "# print(results.mean())"
      ],
      "execution_count": 124,
      "outputs": [
        {
          "output_type": "error",
          "ename": "ValueError",
          "evalue": "ignored",
          "traceback": [
            "\u001b[0;31m---------------------------------------------------------------------------\u001b[0m",
            "\u001b[0;31mValueError\u001b[0m                                Traceback (most recent call last)",
            "\u001b[0;32m<ipython-input-124-523548667c0c>\u001b[0m in \u001b[0;36m<module>\u001b[0;34m()\u001b[0m\n\u001b[1;32m      4\u001b[0m \u001b[0mmodel\u001b[0m \u001b[0;34m=\u001b[0m \u001b[0mLogisticRegression\u001b[0m\u001b[0;34m(\u001b[0m\u001b[0msolver\u001b[0m\u001b[0;34m=\u001b[0m\u001b[0;34m'lbfgs'\u001b[0m\u001b[0;34m,\u001b[0m \u001b[0mmax_iter\u001b[0m\u001b[0;34m=\u001b[0m\u001b[0;36m1000\u001b[0m\u001b[0;34m)\u001b[0m\u001b[0;34m\u001b[0m\u001b[0;34m\u001b[0m\u001b[0m\n\u001b[1;32m      5\u001b[0m \u001b[0;31m#Scale the data\u001b[0m\u001b[0;34m\u001b[0m\u001b[0;34m\u001b[0m\u001b[0;34m\u001b[0m\u001b[0m\n\u001b[0;32m----> 6\u001b[0;31m \u001b[0mcp\u001b[0m \u001b[0;34m=\u001b[0m \u001b[0mselector\u001b[0m\u001b[0;34m.\u001b[0m\u001b[0mtransform\u001b[0m\u001b[0;34m(\u001b[0m\u001b[0mcp\u001b[0m\u001b[0;34m)\u001b[0m\u001b[0;34m\u001b[0m\u001b[0;34m\u001b[0m\u001b[0m\n\u001b[0m\u001b[1;32m      7\u001b[0m \u001b[0;34m\u001b[0m\u001b[0m\n\u001b[1;32m      8\u001b[0m \u001b[0mX_scaled\u001b[0m \u001b[0;34m=\u001b[0m \u001b[0mpreprocessing\u001b[0m\u001b[0;34m.\u001b[0m\u001b[0mscale\u001b[0m\u001b[0;34m(\u001b[0m\u001b[0mcp\u001b[0m\u001b[0;34m)\u001b[0m\u001b[0;34m\u001b[0m\u001b[0;34m\u001b[0m\u001b[0m\n",
            "\u001b[0;32m/usr/local/lib/python3.6/dist-packages/sklearn/feature_selection/_base.py\u001b[0m in \u001b[0;36mtransform\u001b[0;34m(self, X)\u001b[0m\n\u001b[1;32m     82\u001b[0m             \u001b[0;32mreturn\u001b[0m \u001b[0mnp\u001b[0m\u001b[0;34m.\u001b[0m\u001b[0mempty\u001b[0m\u001b[0;34m(\u001b[0m\u001b[0;36m0\u001b[0m\u001b[0;34m)\u001b[0m\u001b[0;34m.\u001b[0m\u001b[0mreshape\u001b[0m\u001b[0;34m(\u001b[0m\u001b[0;34m(\u001b[0m\u001b[0mX\u001b[0m\u001b[0;34m.\u001b[0m\u001b[0mshape\u001b[0m\u001b[0;34m[\u001b[0m\u001b[0;36m0\u001b[0m\u001b[0;34m]\u001b[0m\u001b[0;34m,\u001b[0m \u001b[0;36m0\u001b[0m\u001b[0;34m)\u001b[0m\u001b[0;34m)\u001b[0m\u001b[0;34m\u001b[0m\u001b[0;34m\u001b[0m\u001b[0m\n\u001b[1;32m     83\u001b[0m         \u001b[0;32mif\u001b[0m \u001b[0mlen\u001b[0m\u001b[0;34m(\u001b[0m\u001b[0mmask\u001b[0m\u001b[0;34m)\u001b[0m \u001b[0;34m!=\u001b[0m \u001b[0mX\u001b[0m\u001b[0;34m.\u001b[0m\u001b[0mshape\u001b[0m\u001b[0;34m[\u001b[0m\u001b[0;36m1\u001b[0m\u001b[0;34m]\u001b[0m\u001b[0;34m:\u001b[0m\u001b[0;34m\u001b[0m\u001b[0;34m\u001b[0m\u001b[0m\n\u001b[0;32m---> 84\u001b[0;31m             \u001b[0;32mraise\u001b[0m \u001b[0mValueError\u001b[0m\u001b[0;34m(\u001b[0m\u001b[0;34m\"X has a different shape than during fitting.\"\u001b[0m\u001b[0;34m)\u001b[0m\u001b[0;34m\u001b[0m\u001b[0;34m\u001b[0m\u001b[0m\n\u001b[0m\u001b[1;32m     85\u001b[0m         \u001b[0;32mreturn\u001b[0m \u001b[0mX\u001b[0m\u001b[0;34m[\u001b[0m\u001b[0;34m:\u001b[0m\u001b[0;34m,\u001b[0m \u001b[0msafe_mask\u001b[0m\u001b[0;34m(\u001b[0m\u001b[0mX\u001b[0m\u001b[0;34m,\u001b[0m \u001b[0mmask\u001b[0m\u001b[0;34m)\u001b[0m\u001b[0;34m]\u001b[0m\u001b[0;34m\u001b[0m\u001b[0;34m\u001b[0m\u001b[0m\n\u001b[1;32m     86\u001b[0m \u001b[0;34m\u001b[0m\u001b[0m\n",
            "\u001b[0;31mValueError\u001b[0m: X has a different shape than during fitting."
          ]
        }
      ]
    },
    {
      "cell_type": "code",
      "metadata": {
        "id": "h5ezweV4nn2N",
        "colab_type": "code",
        "colab": {
          "base_uri": "https://localhost:8080/",
          "height": 286
        },
        "outputId": "abece2f0-b2b6-4d68-fdff-ced1b3976ce3"
      },
      "source": [
        "# #Do logistic regression and feature selection for l=1->20\n",
        "\n",
        "# #Fit logistic regression model using training data\n",
        "# log_reg = LogisticRegression(C=1e20)\n",
        "# log_reg.fit(trainX,trainY)\n",
        "# #Use a selector to perorm backwards feature selection\n",
        "# selector = SelectFromModel(estimator=log_reg, prefit=True)\n",
        "# #Get the features that were chosen\n",
        "# features = selector.get_support()\n",
        "# cp = trainX\n",
        "# cp = selector.transform(cp)\n",
        "\n",
        "# #New logistic regression with the pruned data\n",
        "# # log_reg = LogisticRegression(C=1e20)\n",
        "# # log_reg = LogisticRegression(C=1e20).fit(cp,trainY)\n",
        "\n",
        "# #Five-fold cross validation\n",
        "# kf = KFold(n_splits=5)\n",
        "# avg_score = 0;\n",
        "# for train_i, test_i in kf.split(cp):\n",
        "#     #Get the training and testing data for the fold\n",
        "#     X_train, X_test = cp[train_i], cp[test_i]\n",
        "#     y_train, y_test = trainY_2[train_i], trainY_2[test_i]\n",
        "    \n",
        "#     #Fit LR model on training data\n",
        "#     lr = LogisticRegression(penalty='l2', solver = 'lbfgs').fit(X_train, y_train)\n",
        "#     score = lr.score(X_test, y_test )\n",
        "#     avg_score += score\n",
        "# avg_score /=5;\n",
        "# print(\"average score:\", avg_score)\n",
        "# #iterate thru lambda value, then tts into 5 folds (5 tts?) then fit LR model, test, return lamda with highest .score\n",
        "\n",
        "# #Save the number of features that were selected (p)\n",
        "# # numFeatures = sum(features)\n",
        "# #Add as an entry to the dataframe\n",
        "# # lpTable.loc[len(lpTable)] = [6,numFeatures]"
      ],
      "execution_count": 104,
      "outputs": [
        {
          "output_type": "stream",
          "text": [
            "/usr/local/lib/python3.6/dist-packages/sklearn/utils/validation.py:760: DataConversionWarning: A column-vector y was passed when a 1d array was expected. Please change the shape of y to (n_samples, ), for example using ravel().\n",
            "  y = column_or_1d(y, warn=True)\n"
          ],
          "name": "stderr"
        },
        {
          "output_type": "error",
          "ename": "IndexError",
          "evalue": "ignored",
          "traceback": [
            "\u001b[0;31m---------------------------------------------------------------------------\u001b[0m",
            "\u001b[0;31mIndexError\u001b[0m                                Traceback (most recent call last)",
            "\u001b[0;32m<ipython-input-104-a89822f2b920>\u001b[0m in \u001b[0;36m<module>\u001b[0;34m()\u001b[0m\n\u001b[1;32m     18\u001b[0m     \u001b[0;31m#Get the training and testing data for the fold\u001b[0m\u001b[0;34m\u001b[0m\u001b[0;34m\u001b[0m\u001b[0;34m\u001b[0m\u001b[0m\n\u001b[1;32m     19\u001b[0m     \u001b[0mX_train\u001b[0m\u001b[0;34m,\u001b[0m \u001b[0mX_test\u001b[0m \u001b[0;34m=\u001b[0m \u001b[0mcp\u001b[0m\u001b[0;34m[\u001b[0m\u001b[0mtrain_i\u001b[0m\u001b[0;34m]\u001b[0m\u001b[0;34m,\u001b[0m \u001b[0mcp\u001b[0m\u001b[0;34m[\u001b[0m\u001b[0mtest_i\u001b[0m\u001b[0;34m]\u001b[0m\u001b[0;34m\u001b[0m\u001b[0;34m\u001b[0m\u001b[0m\n\u001b[0;32m---> 20\u001b[0;31m     \u001b[0my_train\u001b[0m\u001b[0;34m,\u001b[0m \u001b[0my_test\u001b[0m \u001b[0;34m=\u001b[0m \u001b[0mtrainY_2\u001b[0m\u001b[0;34m[\u001b[0m\u001b[0mtrain_i\u001b[0m\u001b[0;34m-\u001b[0m\u001b[0;36m1\u001b[0m\u001b[0;34m]\u001b[0m\u001b[0;34m,\u001b[0m \u001b[0mtrainY_2\u001b[0m\u001b[0;34m[\u001b[0m\u001b[0mtest_i\u001b[0m\u001b[0;34m-\u001b[0m\u001b[0;36m1\u001b[0m\u001b[0;34m]\u001b[0m\u001b[0;34m\u001b[0m\u001b[0;34m\u001b[0m\u001b[0m\n\u001b[0m\u001b[1;32m     21\u001b[0m \u001b[0;34m\u001b[0m\u001b[0m\n\u001b[1;32m     22\u001b[0m     \u001b[0;31m#Fit LR model on training data\u001b[0m\u001b[0;34m\u001b[0m\u001b[0;34m\u001b[0m\u001b[0;34m\u001b[0m\u001b[0m\n",
            "\u001b[0;31mIndexError\u001b[0m: index 16559 is out of bounds for axis 0 with size 16559"
          ]
        }
      ]
    },
    {
      "cell_type": "code",
      "metadata": {
        "id": "1mSzAkv7nBhc",
        "colab_type": "code",
        "colab": {}
      },
      "source": [
        ""
      ],
      "execution_count": 0,
      "outputs": []
    },
    {
      "cell_type": "code",
      "metadata": {
        "id": "xgBnmwRHkIPP",
        "colab_type": "code",
        "colab": {
          "base_uri": "https://localhost:8080/",
          "height": 71
        },
        "outputId": "66e2e96e-c05e-4e8d-a5cb-de8086b996e8"
      },
      "source": [
        "# #Fit logistic regression model using training data\n",
        "# log_reg = LogisticRegression(C=1e20)\n",
        "# log_reg.fit(trainX,trainY)\n",
        "# #Use a selector to perorm backwards feature selection\n",
        "# selector = SelectFromModel(estimator=log_reg, prefit=True)\n",
        "# #Get the features that were chosen\n",
        "# features = selector.get_support()\n",
        "# #Save the number of features that were selected (p)\n",
        "# numFeatures = sum(features)\n",
        "# #Add as an entry to the dataframe\n",
        "# lpTable.loc[len(lpTable)] = [6,numFeatures]"
      ],
      "execution_count": 52,
      "outputs": [
        {
          "output_type": "stream",
          "text": [
            "/usr/local/lib/python3.6/dist-packages/sklearn/utils/validation.py:760: DataConversionWarning: A column-vector y was passed when a 1d array was expected. Please change the shape of y to (n_samples, ), for example using ravel().\n",
            "  y = column_or_1d(y, warn=True)\n"
          ],
          "name": "stderr"
        }
      ]
    },
    {
      "cell_type": "code",
      "metadata": {
        "id": "VnjUve99hSgY",
        "colab_type": "code",
        "colab": {
          "base_uri": "https://localhost:8080/",
          "height": 391
        },
        "outputId": "3c0cd85f-e156-4586-8f2c-75e7c10ddd2b"
      },
      "source": [
        "# # Calculate p-values\n",
        "# l = sm.Logit(trainY, trainX).fit(maxiter=11)\n",
        "# l.pvalues\n",
        "# print(l.summary())"
      ],
      "execution_count": 53,
      "outputs": [
        {
          "output_type": "stream",
          "text": [
            "Optimization terminated successfully.\n",
            "         Current function value: 0.219078\n",
            "         Iterations 8\n",
            "                           Logit Regression Results                           \n",
            "==============================================================================\n",
            "Dep. Variable:               activity   No. Observations:                33119\n",
            "Model:                          Logit   Df Residuals:                    33113\n",
            "Method:                           MLE   Df Model:                            5\n",
            "Date:                Wed, 06 May 2020   Pseudo R-squ.:                  0.4342\n",
            "Time:                        18:31:55   Log-Likelihood:                -7255.6\n",
            "converged:                       True   LL-Null:                       -12824.\n",
            "Covariance Type:            nonrobust   LLR p-value:                     0.000\n",
            "==============================================================================\n",
            "                 coef    std err          z      P>|z|      [0.025      0.975]\n",
            "------------------------------------------------------------------------------\n",
            "avg_rss12     -0.1598      0.002    -69.395      0.000      -0.164      -0.155\n",
            "var_rss12     -0.6682      0.027    -24.365      0.000      -0.722      -0.614\n",
            "avg_rss13      0.0119      0.004      2.707      0.007       0.003       0.021\n",
            "var_rss13     -0.2339      0.022    -10.797      0.000      -0.276      -0.191\n",
            "vg_rss23       0.2906      0.005     58.850      0.000       0.281       0.300\n",
            "ar_rss23      -0.1585      0.023     -6.863      0.000      -0.204      -0.113\n",
            "==============================================================================\n"
          ],
          "name": "stdout"
        }
      ]
    },
    {
      "cell_type": "code",
      "metadata": {
        "id": "tuovgcNLaCFo",
        "colab_type": "code",
        "colab": {}
      },
      "source": [
        ""
      ],
      "execution_count": 0,
      "outputs": []
    },
    {
      "cell_type": "code",
      "metadata": {
        "id": "1rHYVhQRaFeh",
        "colab_type": "code",
        "colab": {}
      },
      "source": [
        "# # Calculate p-values\n",
        "# l = sm.Logit(trainY, trainX).fit(maxiter=11)\n",
        "# l.pvalues\n",
        "# print(l.summary())\n",
        "# #Predict train labels\n",
        "# trainX = trainX.fillna(trainX.mean())\n",
        "# predictions = log_reg.predict(trainX)\n",
        "# #Get scores of train labels\n",
        "# scores = log_reg.score(trainX, trainY)\n",
        "\n",
        "# #Predict the probability of positive test label\n",
        "# probs = log_reg.predict_proba(trainX)\n",
        "# probs = probs[:,1]\n",
        "# from sklearn import metrics\n",
        "# #Precision, recall, F1\n",
        "# print(\"Classification Report:\")\n",
        "# print(classification_report(trainY,predictions))\n",
        "\n",
        "# #Confusion Matrix\n",
        "# cm = metrics.confusion_matrix(trainY, predictions)\n",
        "# print(\"Confusion Matrix: \\n\", cm)\n",
        "# import matplotlib.pyplot as plt\n",
        "# #Calcualte ROC features\n",
        "# fpr, tpr, thresholds = metrics.roc_curve(trainY, probs, pos_label=1)\n",
        "# #Calculate AUC\n",
        "# roc_auc = metrics.auc(fpr, tpr)\n",
        "\n",
        "# #Plot ROC\n",
        "# print('AUC: ', roc_auc)\n",
        "# print(\"ROC:\")\n",
        "# plt.title('ROC Plot')\n",
        "# plt.plot(fpr, tpr, 'b', label='AUC = %0.2f'%roc_auc)\n",
        "# plt.plot([0, 1], [0, 1],'r--')\n",
        "# plt.ylabel('TPR')\n",
        "# plt.xlabel('FPR')\n",
        "# plt.show()\n",
        "# AUC:  0.998"
      ],
      "execution_count": 0,
      "outputs": []
    },
    {
      "cell_type": "code",
      "metadata": {
        "id": "Jwhtrei1aHgr",
        "colab_type": "code",
        "colab": {
          "base_uri": "https://localhost:8080/",
          "height": 238
        },
        "outputId": "7633b05a-6768-468b-af7f-a6f56d7492f8"
      },
      "source": [
        ""
      ],
      "execution_count": 56,
      "outputs": [
        {
          "output_type": "stream",
          "text": [
            "Classification Report:\n",
            "              precision    recall  f1-score   support\n",
            "\n",
            "           0       0.93      0.98      0.95     28799\n",
            "           1       0.80      0.49      0.61      4320\n",
            "\n",
            "    accuracy                           0.92     33119\n",
            "   macro avg       0.86      0.73      0.78     33119\n",
            "weighted avg       0.91      0.92      0.91     33119\n",
            "\n",
            "Confusion Matrix: \n",
            " [[28271   528]\n",
            " [ 2216  2104]]\n"
          ],
          "name": "stdout"
        }
      ]
    },
    {
      "cell_type": "code",
      "metadata": {
        "id": "quCbL5WhaHyP",
        "colab_type": "code",
        "colab": {
          "base_uri": "https://localhost:8080/",
          "height": 329
        },
        "outputId": "283cd4e9-9aa3-47a1-e807-10f1ab2c44d2"
      },
      "source": [
        ""
      ],
      "execution_count": 57,
      "outputs": [
        {
          "output_type": "stream",
          "text": [
            "AUC:  0.9036096088405847\n",
            "ROC:\n"
          ],
          "name": "stdout"
        },
        {
          "output_type": "display_data",
          "data": {
            "image/png": "[encoded data removed]",
            "text/plain": [
              "<Figure size 432x288 with 1 Axes>"
            ]
          },
          "metadata": {
            "tags": [],
            "needs_background": "light"
          }
        }
      ]
    },
    {
      "cell_type": "code",
      "metadata": {
        "id": "0CjiZ-9bHoBQ",
        "colab_type": "code",
        "colab": {}
      },
      "source": [
        ""
      ],
      "execution_count": 0,
      "outputs": []
    },
    {
      "cell_type": "markdown",
      "metadata": {
        "id": "thuwS7nQho9y",
        "colab_type": "text"
      },
      "source": [
        ""
      ]
    },
    {
      "cell_type": "markdown",
      "metadata": {
        "id": "jRXrcnpQr2Gk",
        "colab_type": "text"
      },
      "source": [
        "#### v. Test the classifier on the test set. Remember to break the time series in your test set into the same number of time series into which you broke your training set. Remember that the classifier has to be tested using the features extracted from the test set. Compare the accuracy on the test set with the cross-validation accuracy you obtained previously."
      ]
    },
    {
      "cell_type": "markdown",
      "metadata": {
        "id": "iLcwiKm3r4we",
        "colab_type": "text"
      },
      "source": [
        "#### vi. Do your classes seem to be well-separated to cause instability in calculating logistic regression parameters?"
      ]
    },
    {
      "cell_type": "markdown",
      "metadata": {
        "id": "y4qpJcCQr6-Q",
        "colab_type": "text"
      },
      "source": [
        "#### vii. From the confusion matrices you obtained, do you see imbalanced classes? If yes, build a logistic regression model based on case-control sampling and adjust its parameters. Report the confusion matrix, ROC, and AUC of the model."
      ]
    },
    {
      "cell_type": "markdown",
      "metadata": {
        "id": "FXkBGUrdHoBa",
        "colab_type": "text"
      },
      "source": [
        "## (e) Binary Classification using L1 Penalized logistic regression"
      ]
    },
    {
      "cell_type": "markdown",
      "metadata": {
        "id": "sOky-rqbuwOS",
        "colab_type": "text"
      },
      "source": [
        "#### (i) Repeat 1(d)iii using L1-penalized logistic regression"
      ]
    },
    {
      "cell_type": "code",
      "metadata": {
        "id": "AL-ksK7s5g2u",
        "colab_type": "code",
        "colab": {}
      },
      "source": [
        "lpTable2 = pd.DataFrame(columns=[\"l\",\"p\",\"cv score\"])"
      ],
      "execution_count": 0,
      "outputs": []
    },
    {
      "cell_type": "code",
      "metadata": {
        "id": "HdLEt8ND46en",
        "colab_type": "code",
        "colab": {}
      },
      "source": [
        "for l in range(1,21):\n",
        "  trainX_2 = pd.DataFrame()\n",
        "  trainY_2 = pd.DataFrame()\n",
        "  #For each dataset in the training 'folder'\n",
        "  for i in range(0,len(train)):\n",
        "    sz = train[i].shape[0]\n",
        "    idx = int(sz/l)\n",
        "    series = []\n",
        "    #Find the split index points for the dataset and create subarrays of them\n",
        "    for j in range(0,l):\n",
        "      series.append(train[i].iloc[(idx*j):(idx+(j*idx)), 1:8])\n",
        "\n",
        "    series1 = pd.DataFrame()\n",
        "    #Iterate thru each subarray and add it to the final array\n",
        "    c=0\n",
        "    for s in series:\n",
        "      series1.loc[:,extraCols[c]] = pd.Series(s.var_rss12.tolist())\n",
        "      c+=1\n",
        "      series1.loc[:,extraCols[c]] = pd.Series(s.var_rss12.tolist())\n",
        "      c+=1\n",
        "      series1.loc[:,extraCols[c]] = pd.Series(s.avg_rss13.tolist())\n",
        "      c+=1\n",
        "      series1.loc[:,extraCols[c]] = pd.Series(s.var_rss13.tolist())\n",
        "      c+=1\n",
        "      series1.loc[:,extraCols[c]] = pd.Series(s.vg_rss23.tolist())\n",
        "      c+=1\n",
        "      series1.loc[:,extraCols[c]] = pd.Series(s.ar_rss23.tolist())\n",
        "      c+=1\n",
        "    #Table to hold activity class for this dataset (so that it aligns with the X indices)\n",
        "    sz2 = series1.shape[0]\n",
        "    d = pd.DataFrame(train[i].activity, index=np.arange(sz2))\n",
        "\n",
        "    #Add the X and Y sets to the overall training and testing sets\n",
        "    trainX_2 = trainX_2.append(series1)\n",
        "    trainY_2 = trainY_2.append(d)\n",
        "    \n",
        "  trainX_2 = trainX_2.fillna(trainX_2.mean())\n",
        "  trainX_2 = preprocessing.scale(trainX_2)\n",
        "  trainY_2 = trainY_2.values.ravel()\n",
        "\n",
        "\n",
        "  #Do logistic regression \n",
        "  X_scaled = preprocessing.scale(trainX_2)\n",
        "\n",
        "  log_reg = LogisticRegression(penalty='l1',solver='liblinear').fit(X_scaled, trainY_2)\n",
        "  #Perform backwards feature selection\n",
        "  selector = SelectFromModel(estimator=log_reg, prefit=True)\n",
        "  features = selector.get_support()\n",
        "  #Transform the features\n",
        "  sel = selector.transform(X_scaled)\n",
        "  #Do 5-fold CV \n",
        "  kfold = KFold(n_splits=5)\n",
        "  model = LogisticRegression(penalty='l1',solver='liblinear', max_iter=1000)\n",
        "  #Get cross validation score for the model\n",
        "  results = cross_val_score(model, X_scaled, trainY_2, cv=kfold)\n",
        "\n",
        "  numFeatures = sum(features)\n",
        "  lpTable2.loc[len(lpTable)] = [l, numFeatures, results.mean()]"
      ],
      "execution_count": 0,
      "outputs": []
    },
    {
      "cell_type": "code",
      "metadata": {
        "id": "OPa9hZUdD9e0",
        "colab_type": "code",
        "colab": {
          "base_uri": "https://localhost:8080/",
          "height": 102
        },
        "outputId": "ca597c73-f265-44fa-c066-68fc882d6efa"
      },
      "source": [
        "lpTable2 = lpTable2.sort_values(by='cv score', ascending=False)\n",
        "print(\"Best l, p combo:\\n\", lpTable2.iloc[0,:])\n",
        "#l=20, p=120"
      ],
      "execution_count": 232,
      "outputs": [
        {
          "output_type": "stream",
          "text": [
            "Best l, p combo:\n",
            " l            20.000000\n",
            "p           120.000000\n",
            "cv score      0.596979\n",
            "Name: 29, dtype: float64\n"
          ],
          "name": "stdout"
        }
      ]
    },
    {
      "cell_type": "code",
      "metadata": {
        "id": "lRXKUYk4EdaO",
        "colab_type": "code",
        "colab": {}
      },
      "source": [
        "#Fit the classifier with the above parameters\n",
        "l=20\n",
        "p=120\n",
        "trainX_2 = pd.DataFrame()\n",
        "trainY_2 = pd.DataFrame()\n",
        "#For each dataset in the training 'folder'\n",
        "for i in range(0,len(train)):\n",
        "  sz = train[i].shape[0]\n",
        "  idx = int(sz/l)\n",
        "  series = []\n",
        "  #Find the split index points for the dataset and create subarrays of them\n",
        "  for j in range(0,l):\n",
        "    series.append(train[i].iloc[(idx*j):(idx+(j*idx)), 1:8])\n",
        "  series1 = pd.DataFrame()\n",
        "  #Iterate thru each subarray and add it to the final array\n",
        "  c=0\n",
        "  for s in series:\n",
        "    series1.loc[:,extraCols[c]] = pd.Series(s.var_rss12.tolist())\n",
        "    c+=1\n",
        "    series1.loc[:,extraCols[c]] = pd.Series(s.var_rss12.tolist())\n",
        "    c+=1\n",
        "    series1.loc[:,extraCols[c]] = pd.Series(s.avg_rss13.tolist())\n",
        "    c+=1\n",
        "    series1.loc[:,extraCols[c]] = pd.Series(s.var_rss13.tolist())\n",
        "    c+=1\n",
        "    series1.loc[:,extraCols[c]] = pd.Series(s.vg_rss23.tolist())\n",
        "    c+=1\n",
        "    series1.loc[:,extraCols[c]] = pd.Series(s.ar_rss23.tolist())\n",
        "    c+=1\n",
        "  #Table to hold activity class for this dataset (so that it aligns with the X indices)\n",
        "  sz2 = series1.shape[0]\n",
        "  d = pd.DataFrame(train[i].activity, index=np.arange(sz2))\n",
        "\n",
        "  #Add the X and Y sets to the overall training and testing sets\n",
        "  trainX_2 = trainX_2.append(series1)\n",
        "  trainY_2 = trainY_2.append(d)\n",
        "  \n",
        "trainX_2 = trainX_2.fillna(trainX_2.mean())\n",
        "trainX_2 = preprocessing.scale(trainX_2)\n",
        "trainY_2['activity'].replace('bending',1, inplace=True)\n",
        "trainY_2['activity'].replace('walking',0, inplace=True)\n",
        "trainY_2['activity'].replace('lying',0, inplace=True)\n",
        "trainY_2['activity'].replace('sitting',0, inplace=True)\n",
        "trainY_2['activity'].replace('standing',0, inplace=True)\n",
        "trainY_2['activity'].replace('cycling',0, inplace=True)\n",
        "trainY_2 = trainY_2.values.ravel()\n",
        "\n",
        "#Do logistic regression \n",
        "X_scaled = preprocessing.scale(trainX_2)\n",
        "\n",
        "log_reg = LogisticRegression(penalty='l1',solver='liblinear').fit(X_scaled, trainY_2)\n",
        "#Perform backwards feature selection\n",
        "\n",
        "selector = SelectFromModel(estimator=log_reg, prefit=True, max_features=p)\n",
        "features = selector.get_support()\n",
        "#Transform the features\n",
        "sel = selector.transform(X_scaled)\n"
      ],
      "execution_count": 0,
      "outputs": []
    },
    {
      "cell_type": "code",
      "metadata": {
        "id": "y2y_o1gvEhne",
        "colab_type": "code",
        "colab": {}
      },
      "source": [
        "log_reg = LogisticRegression(penalty='l1',solver='liblinear').fit(sel, trainY_2)"
      ],
      "execution_count": 0,
      "outputs": []
    },
    {
      "cell_type": "code",
      "metadata": {
        "id": "o7x8ZYRlEkYt",
        "colab_type": "code",
        "colab": {
          "base_uri": "https://localhost:8080/",
          "height": 187
        },
        "outputId": "39985b9a-8cba-4c06-e288-2a8d10752a6b"
      },
      "source": [
        "#Predict train labels\n",
        "predictions = log_reg.predict(sel)\n",
        "#Get scores of train labels\n",
        "scores = log_reg.score(sel, trainY_2)\n",
        "#Predict the probability of positive test label\n",
        "probs = log_reg.predict_proba(sel)\n",
        "probs = probs[:,1]\n",
        "from sklearn import metrics\n",
        "#Precision, recall, F1\n",
        "print(\"Classification Report:\")\n",
        "print(classification_report(trainY_2,predictions))"
      ],
      "execution_count": 241,
      "outputs": [
        {
          "output_type": "stream",
          "text": [
            "Classification Report:\n",
            "              precision    recall  f1-score   support\n",
            "\n",
            "           0       0.98      1.00      0.99      1439\n",
            "           1       1.00      0.89      0.94       216\n",
            "\n",
            "    accuracy                           0.99      1655\n",
            "   macro avg       0.99      0.94      0.97      1655\n",
            "weighted avg       0.99      0.99      0.99      1655\n",
            "\n"
          ],
          "name": "stdout"
        }
      ]
    },
    {
      "cell_type": "code",
      "metadata": {
        "id": "IoPo7pXVEmsX",
        "colab_type": "code",
        "colab": {
          "base_uri": "https://localhost:8080/",
          "height": 68
        },
        "outputId": "ae9809af-8baa-4ec3-dad5-1f72b2c729f3"
      },
      "source": [
        "#Confusion Matrix\n",
        "cm = metrics.confusion_matrix(trainY_2, predictions)\n",
        "print(\"Confusion Matrix: \\n\", cm)"
      ],
      "execution_count": 242,
      "outputs": [
        {
          "output_type": "stream",
          "text": [
            "Confusion Matrix: \n",
            " [[1439    0]\n",
            " [  24  192]]\n"
          ],
          "name": "stdout"
        }
      ]
    },
    {
      "cell_type": "code",
      "metadata": {
        "id": "a_bICjTDEpD8",
        "colab_type": "code",
        "colab": {
          "base_uri": "https://localhost:8080/",
          "height": 329
        },
        "outputId": "a9e0b1b7-af74-47e6-d143-6ff65845316d"
      },
      "source": [
        "#Calcualte ROC features\n",
        "fpr, tpr, thresholds = metrics.roc_curve(trainY_2, probs, pos_label=1)\n",
        "#Calculate AUC\n",
        "roc_auc = metrics.auc(fpr, tpr)\n",
        "\n",
        "#Plot ROC\n",
        "print('AUC: ', roc_auc)\n",
        "print(\"ROC:\")\n",
        "plt.title('ROC Plot')\n",
        "plt.plot(fpr, tpr, 'b', label='AUC = %0.2f'%roc_auc)\n",
        "plt.plot([0, 1], [0, 1],'r--')\n",
        "plt.ylabel('TPR')\n",
        "plt.xlabel('FPR')\n",
        "plt.show()"
      ],
      "execution_count": 243,
      "outputs": [
        {
          "output_type": "stream",
          "text": [
            "AUC:  0.9670295730059455\n",
            "ROC:\n"
          ],
          "name": "stdout"
        },
        {
          "output_type": "display_data",
          "data": {
            "image/png": "[encoded data removed]",
            "text/plain": [
              "<Figure size 432x288 with 1 Axes>"
            ]
          },
          "metadata": {
            "tags": [],
            "needs_background": "light"
          }
        }
      ]
    },
    {
      "cell_type": "markdown",
      "metadata": {
        "id": "7zDEy2gLuy69",
        "colab_type": "text"
      },
      "source": [
        "#### ii. Compare the L1-penalized with variable selection using p-values. \n"
      ]
    },
    {
      "cell_type": "code",
      "metadata": {
        "id": "Tn_twEyMFaQ_",
        "colab_type": "code",
        "colab": {
          "base_uri": "https://localhost:8080/",
          "height": 460
        },
        "outputId": "c19b7ca1-9bed-4471-c871-9f960f5d3847"
      },
      "source": [
        "log_reg = LogisticRegression(C=1e20).fit(trainX_2, trainY_2)\n",
        "# Calculate p-values\n",
        "l = sm.Logit(trainY_2, trainX_2).fit(maxiter=11)\n",
        "# l.pvalues\n",
        "print(l.summary())"
      ],
      "execution_count": 246,
      "outputs": [
        {
          "output_type": "stream",
          "text": [
            "Optimization terminated successfully.\n",
            "         Current function value: 0.432206\n",
            "         Iterations 8\n"
          ],
          "name": "stdout"
        },
        {
          "output_type": "error",
          "ename": "LinAlgError",
          "evalue": "ignored",
          "traceback": [
            "\u001b[0;31m---------------------------------------------------------------------------\u001b[0m",
            "\u001b[0;31mLinAlgError\u001b[0m                               Traceback (most recent call last)",
            "\u001b[0;32m<ipython-input-246-09047ddc21dd>\u001b[0m in \u001b[0;36m<module>\u001b[0;34m()\u001b[0m\n\u001b[1;32m      1\u001b[0m \u001b[0mlog_reg\u001b[0m \u001b[0;34m=\u001b[0m \u001b[0mLogisticRegression\u001b[0m\u001b[0;34m(\u001b[0m\u001b[0mC\u001b[0m\u001b[0;34m=\u001b[0m\u001b[0;36m1e20\u001b[0m\u001b[0;34m)\u001b[0m\u001b[0;34m.\u001b[0m\u001b[0mfit\u001b[0m\u001b[0;34m(\u001b[0m\u001b[0mtrainX_2\u001b[0m\u001b[0;34m,\u001b[0m \u001b[0mtrainY_2\u001b[0m\u001b[0;34m)\u001b[0m\u001b[0;34m\u001b[0m\u001b[0;34m\u001b[0m\u001b[0m\n\u001b[1;32m      2\u001b[0m \u001b[0;31m# Calculate p-values\u001b[0m\u001b[0;34m\u001b[0m\u001b[0;34m\u001b[0m\u001b[0;34m\u001b[0m\u001b[0m\n\u001b[0;32m----> 3\u001b[0;31m \u001b[0ml\u001b[0m \u001b[0;34m=\u001b[0m \u001b[0msm\u001b[0m\u001b[0;34m.\u001b[0m\u001b[0mLogit\u001b[0m\u001b[0;34m(\u001b[0m\u001b[0mtrainY_2\u001b[0m\u001b[0;34m,\u001b[0m \u001b[0mtrainX_2\u001b[0m\u001b[0;34m)\u001b[0m\u001b[0;34m.\u001b[0m\u001b[0mfit\u001b[0m\u001b[0;34m(\u001b[0m\u001b[0mmaxiter\u001b[0m\u001b[0;34m=\u001b[0m\u001b[0;36m11\u001b[0m\u001b[0;34m)\u001b[0m\u001b[0;34m\u001b[0m\u001b[0;34m\u001b[0m\u001b[0m\n\u001b[0m\u001b[1;32m      4\u001b[0m \u001b[0;31m# l.pvalues\u001b[0m\u001b[0;34m\u001b[0m\u001b[0;34m\u001b[0m\u001b[0;34m\u001b[0m\u001b[0m\n\u001b[1;32m      5\u001b[0m \u001b[0mprint\u001b[0m\u001b[0;34m(\u001b[0m\u001b[0ml\u001b[0m\u001b[0;34m.\u001b[0m\u001b[0msummary\u001b[0m\u001b[0;34m(\u001b[0m\u001b[0;34m)\u001b[0m\u001b[0;34m)\u001b[0m\u001b[0;34m\u001b[0m\u001b[0;34m\u001b[0m\u001b[0m\n",
            "\u001b[0;32m/usr/local/lib/python3.6/dist-packages/statsmodels/discrete/discrete_model.py\u001b[0m in \u001b[0;36mfit\u001b[0;34m(self, start_params, method, maxiter, full_output, disp, callback, **kwargs)\u001b[0m\n\u001b[1;32m   1900\u001b[0m         bnryfit = super(Logit, self).fit(start_params=start_params,\n\u001b[1;32m   1901\u001b[0m                 \u001b[0mmethod\u001b[0m\u001b[0;34m=\u001b[0m\u001b[0mmethod\u001b[0m\u001b[0;34m,\u001b[0m \u001b[0mmaxiter\u001b[0m\u001b[0;34m=\u001b[0m\u001b[0mmaxiter\u001b[0m\u001b[0;34m,\u001b[0m \u001b[0mfull_output\u001b[0m\u001b[0;34m=\u001b[0m\u001b[0mfull_output\u001b[0m\u001b[0;34m,\u001b[0m\u001b[0;34m\u001b[0m\u001b[0;34m\u001b[0m\u001b[0m\n\u001b[0;32m-> 1902\u001b[0;31m                 disp=disp, callback=callback, **kwargs)\n\u001b[0m\u001b[1;32m   1903\u001b[0m \u001b[0;34m\u001b[0m\u001b[0m\n\u001b[1;32m   1904\u001b[0m         \u001b[0mdiscretefit\u001b[0m \u001b[0;34m=\u001b[0m \u001b[0mLogitResults\u001b[0m\u001b[0;34m(\u001b[0m\u001b[0mself\u001b[0m\u001b[0;34m,\u001b[0m \u001b[0mbnryfit\u001b[0m\u001b[0;34m)\u001b[0m\u001b[0;34m\u001b[0m\u001b[0;34m\u001b[0m\u001b[0m\n",
            "\u001b[0;32m/usr/local/lib/python3.6/dist-packages/statsmodels/discrete/discrete_model.py\u001b[0m in \u001b[0;36mfit\u001b[0;34m(self, start_params, method, maxiter, full_output, disp, callback, **kwargs)\u001b[0m\n\u001b[1;32m    215\u001b[0m         mlefit = super(DiscreteModel, self).fit(start_params=start_params,\n\u001b[1;32m    216\u001b[0m                 \u001b[0mmethod\u001b[0m\u001b[0;34m=\u001b[0m\u001b[0mmethod\u001b[0m\u001b[0;34m,\u001b[0m \u001b[0mmaxiter\u001b[0m\u001b[0;34m=\u001b[0m\u001b[0mmaxiter\u001b[0m\u001b[0;34m,\u001b[0m \u001b[0mfull_output\u001b[0m\u001b[0;34m=\u001b[0m\u001b[0mfull_output\u001b[0m\u001b[0;34m,\u001b[0m\u001b[0;34m\u001b[0m\u001b[0;34m\u001b[0m\u001b[0m\n\u001b[0;32m--> 217\u001b[0;31m                 disp=disp, callback=callback, **kwargs)\n\u001b[0m\u001b[1;32m    218\u001b[0m \u001b[0;34m\u001b[0m\u001b[0m\n\u001b[1;32m    219\u001b[0m         \u001b[0;32mreturn\u001b[0m \u001b[0mmlefit\u001b[0m \u001b[0;31m# up to subclasses to wrap results\u001b[0m\u001b[0;34m\u001b[0m\u001b[0;34m\u001b[0m\u001b[0m\n",
            "\u001b[0;32m/usr/local/lib/python3.6/dist-packages/statsmodels/base/model.py\u001b[0m in \u001b[0;36mfit\u001b[0;34m(self, start_params, method, maxiter, full_output, disp, fargs, callback, retall, skip_hessian, **kwargs)\u001b[0m\n\u001b[1;32m    475\u001b[0m             \u001b[0mHinv\u001b[0m \u001b[0;34m=\u001b[0m \u001b[0mcov_params_func\u001b[0m\u001b[0;34m(\u001b[0m\u001b[0mself\u001b[0m\u001b[0;34m,\u001b[0m \u001b[0mxopt\u001b[0m\u001b[0;34m,\u001b[0m \u001b[0mretvals\u001b[0m\u001b[0;34m)\u001b[0m\u001b[0;34m\u001b[0m\u001b[0;34m\u001b[0m\u001b[0m\n\u001b[1;32m    476\u001b[0m         \u001b[0;32melif\u001b[0m \u001b[0mmethod\u001b[0m \u001b[0;34m==\u001b[0m \u001b[0;34m'newton'\u001b[0m \u001b[0;32mand\u001b[0m \u001b[0mfull_output\u001b[0m\u001b[0;34m:\u001b[0m\u001b[0;34m\u001b[0m\u001b[0;34m\u001b[0m\u001b[0m\n\u001b[0;32m--> 477\u001b[0;31m             \u001b[0mHinv\u001b[0m \u001b[0;34m=\u001b[0m \u001b[0mnp\u001b[0m\u001b[0;34m.\u001b[0m\u001b[0mlinalg\u001b[0m\u001b[0;34m.\u001b[0m\u001b[0minv\u001b[0m\u001b[0;34m(\u001b[0m\u001b[0;34m-\u001b[0m\u001b[0mretvals\u001b[0m\u001b[0;34m[\u001b[0m\u001b[0;34m'Hessian'\u001b[0m\u001b[0;34m]\u001b[0m\u001b[0;34m)\u001b[0m \u001b[0;34m/\u001b[0m \u001b[0mnobs\u001b[0m\u001b[0;34m\u001b[0m\u001b[0;34m\u001b[0m\u001b[0m\n\u001b[0m\u001b[1;32m    478\u001b[0m         \u001b[0;32melif\u001b[0m \u001b[0;32mnot\u001b[0m \u001b[0mskip_hessian\u001b[0m\u001b[0;34m:\u001b[0m\u001b[0;34m\u001b[0m\u001b[0;34m\u001b[0m\u001b[0m\n\u001b[1;32m    479\u001b[0m             \u001b[0mH\u001b[0m \u001b[0;34m=\u001b[0m \u001b[0;34m-\u001b[0m\u001b[0;36m1\u001b[0m \u001b[0;34m*\u001b[0m \u001b[0mself\u001b[0m\u001b[0;34m.\u001b[0m\u001b[0mhessian\u001b[0m\u001b[0;34m(\u001b[0m\u001b[0mxopt\u001b[0m\u001b[0;34m)\u001b[0m\u001b[0;34m\u001b[0m\u001b[0;34m\u001b[0m\u001b[0m\n",
            "\u001b[0;32m<__array_function__ internals>\u001b[0m in \u001b[0;36minv\u001b[0;34m(*args, **kwargs)\u001b[0m\n",
            "\u001b[0;32m/usr/local/lib/python3.6/dist-packages/numpy/linalg/linalg.py\u001b[0m in \u001b[0;36minv\u001b[0;34m(a)\u001b[0m\n\u001b[1;32m    545\u001b[0m     \u001b[0msignature\u001b[0m \u001b[0;34m=\u001b[0m \u001b[0;34m'D->D'\u001b[0m \u001b[0;32mif\u001b[0m \u001b[0misComplexType\u001b[0m\u001b[0;34m(\u001b[0m\u001b[0mt\u001b[0m\u001b[0;34m)\u001b[0m \u001b[0;32melse\u001b[0m \u001b[0;34m'd->d'\u001b[0m\u001b[0;34m\u001b[0m\u001b[0;34m\u001b[0m\u001b[0m\n\u001b[1;32m    546\u001b[0m     \u001b[0mextobj\u001b[0m \u001b[0;34m=\u001b[0m \u001b[0mget_linalg_error_extobj\u001b[0m\u001b[0;34m(\u001b[0m\u001b[0m_raise_linalgerror_singular\u001b[0m\u001b[0;34m)\u001b[0m\u001b[0;34m\u001b[0m\u001b[0;34m\u001b[0m\u001b[0m\n\u001b[0;32m--> 547\u001b[0;31m     \u001b[0mainv\u001b[0m \u001b[0;34m=\u001b[0m \u001b[0m_umath_linalg\u001b[0m\u001b[0;34m.\u001b[0m\u001b[0minv\u001b[0m\u001b[0;34m(\u001b[0m\u001b[0ma\u001b[0m\u001b[0;34m,\u001b[0m \u001b[0msignature\u001b[0m\u001b[0;34m=\u001b[0m\u001b[0msignature\u001b[0m\u001b[0;34m,\u001b[0m \u001b[0mextobj\u001b[0m\u001b[0;34m=\u001b[0m\u001b[0mextobj\u001b[0m\u001b[0;34m)\u001b[0m\u001b[0;34m\u001b[0m\u001b[0;34m\u001b[0m\u001b[0m\n\u001b[0m\u001b[1;32m    548\u001b[0m     \u001b[0;32mreturn\u001b[0m \u001b[0mwrap\u001b[0m\u001b[0;34m(\u001b[0m\u001b[0mainv\u001b[0m\u001b[0;34m.\u001b[0m\u001b[0mastype\u001b[0m\u001b[0;34m(\u001b[0m\u001b[0mresult_t\u001b[0m\u001b[0;34m,\u001b[0m \u001b[0mcopy\u001b[0m\u001b[0;34m=\u001b[0m\u001b[0;32mFalse\u001b[0m\u001b[0;34m)\u001b[0m\u001b[0;34m)\u001b[0m\u001b[0;34m\u001b[0m\u001b[0;34m\u001b[0m\u001b[0m\n\u001b[1;32m    549\u001b[0m \u001b[0;34m\u001b[0m\u001b[0m\n",
            "\u001b[0;32m/usr/local/lib/python3.6/dist-packages/numpy/linalg/linalg.py\u001b[0m in \u001b[0;36m_raise_linalgerror_singular\u001b[0;34m(err, flag)\u001b[0m\n\u001b[1;32m     95\u001b[0m \u001b[0;34m\u001b[0m\u001b[0m\n\u001b[1;32m     96\u001b[0m \u001b[0;32mdef\u001b[0m \u001b[0m_raise_linalgerror_singular\u001b[0m\u001b[0;34m(\u001b[0m\u001b[0merr\u001b[0m\u001b[0;34m,\u001b[0m \u001b[0mflag\u001b[0m\u001b[0;34m)\u001b[0m\u001b[0;34m:\u001b[0m\u001b[0;34m\u001b[0m\u001b[0;34m\u001b[0m\u001b[0m\n\u001b[0;32m---> 97\u001b[0;31m     \u001b[0;32mraise\u001b[0m \u001b[0mLinAlgError\u001b[0m\u001b[0;34m(\u001b[0m\u001b[0;34m\"Singular matrix\"\u001b[0m\u001b[0;34m)\u001b[0m\u001b[0;34m\u001b[0m\u001b[0;34m\u001b[0m\u001b[0m\n\u001b[0m\u001b[1;32m     98\u001b[0m \u001b[0;34m\u001b[0m\u001b[0m\n\u001b[1;32m     99\u001b[0m \u001b[0;32mdef\u001b[0m \u001b[0m_raise_linalgerror_nonposdef\u001b[0m\u001b[0;34m(\u001b[0m\u001b[0merr\u001b[0m\u001b[0;34m,\u001b[0m \u001b[0mflag\u001b[0m\u001b[0;34m)\u001b[0m\u001b[0;34m:\u001b[0m\u001b[0;34m\u001b[0m\u001b[0;34m\u001b[0m\u001b[0m\n",
            "\u001b[0;31mLinAlgError\u001b[0m: Singular matrix"
          ]
        }
      ]
    },
    {
      "cell_type": "code",
      "metadata": {
        "id": "XnyrdaacGJta",
        "colab_type": "code",
        "colab": {}
      },
      "source": [
        "drop=[]\n",
        "for i in range(0,32):\n",
        "  if float(l.pvalues[i]) > 0.05:\n",
        "    drop.append(i)"
      ],
      "execution_count": 0,
      "outputs": []
    },
    {
      "cell_type": "code",
      "metadata": {
        "id": "UtiYbPrOG8Fr",
        "colab_type": "code",
        "colab": {}
      },
      "source": [
        "#Remove values by p value\n",
        "newX = np.delete(sel, drop, axis=1)"
      ],
      "execution_count": 0,
      "outputs": []
    },
    {
      "cell_type": "code",
      "metadata": {
        "id": "r6eECmh7Hwkr",
        "colab_type": "code",
        "colab": {
          "base_uri": "https://localhost:8080/",
          "height": 544
        },
        "outputId": "008625ff-4613-4a63-cc05-180f8b338313"
      },
      "source": [
        "#Fit new model with the pruned features\n",
        "log_reg = LogisticRegression(C=1e20).fit(newX, trainY_2)\n",
        "\n",
        "# Calculate p-values\n",
        "l = sm.Logit(trainY_2, newX).fit(maxiter=11)\n",
        "l.pvalues\n",
        "print(l.summary())"
      ],
      "execution_count": 206,
      "outputs": [
        {
          "output_type": "stream",
          "text": [
            "Optimization terminated successfully.\n",
            "         Current function value: 0.473077\n",
            "         Iterations 7\n",
            "                           Logit Regression Results                           \n",
            "==============================================================================\n",
            "Dep. Variable:                      y   No. Observations:                 1794\n",
            "Model:                          Logit   Df Residuals:                     1779\n",
            "Method:                           MLE   Df Model:                           14\n",
            "Date:                Wed, 06 May 2020   Pseudo R-squ.:                 -0.2217\n",
            "Time:                        22:35:32   Log-Likelihood:                -848.70\n",
            "converged:                       True   LL-Null:                       -694.66\n",
            "Covariance Type:            nonrobust   LLR p-value:                     1.000\n",
            "==============================================================================\n",
            "                 coef    std err          z      P>|z|      [0.025      0.975]\n",
            "------------------------------------------------------------------------------\n",
            "x1             0.4061      0.123      3.295      0.001       0.165       0.648\n",
            "x2             0.5889      0.120      4.916      0.000       0.354       0.824\n",
            "x3             0.7928      0.131      6.039      0.000       0.535       1.050\n",
            "x4             0.5100      0.119      4.279      0.000       0.276       0.744\n",
            "x5             0.6496      0.108      6.029      0.000       0.438       0.861\n",
            "x6            -0.2904      0.083     -3.516      0.000      -0.452      -0.129\n",
            "x7             0.2331      0.082      2.853      0.004       0.073       0.393\n",
            "x8            -0.5169      0.113     -4.585      0.000      -0.738      -0.296\n",
            "x9             0.2556      0.084      3.046      0.002       0.091       0.420\n",
            "x10           -0.3563      0.074     -4.829      0.000      -0.501      -0.212\n",
            "x11           -0.2852      0.075     -3.790      0.000      -0.433      -0.138\n",
            "x12           -0.3410      0.073     -4.691      0.000      -0.484      -0.199\n",
            "x13           -0.5123      0.083     -6.177      0.000      -0.675      -0.350\n",
            "x14            0.4550      0.098      4.643      0.000       0.263       0.647\n",
            "x15            0.2543      0.096      2.643      0.008       0.066       0.443\n",
            "==============================================================================\n"
          ],
          "name": "stdout"
        }
      ]
    },
    {
      "cell_type": "code",
      "metadata": {
        "id": "ftybC9zcICnf",
        "colab_type": "code",
        "colab": {
          "base_uri": "https://localhost:8080/",
          "height": 187
        },
        "outputId": "bcbfc7c8-18bb-4ce0-d22c-cecbc03767d0"
      },
      "source": [
        "#Predict train labels\n",
        "predictions = log_reg.predict(newX)\n",
        "#Get scores of train labels\n",
        "scores = log_reg.score(newX, trainY_2)\n",
        "#Predict the probability of positive test label\n",
        "probs = log_reg.predict_proba(newX)\n",
        "probs = probs[:,1]\n",
        "#Precision, recall, F1\n",
        "print(\"Classification Report:\")\n",
        "print(classification_report(trainY_2,predictions))"
      ],
      "execution_count": 207,
      "outputs": [
        {
          "output_type": "stream",
          "text": [
            "Classification Report:\n",
            "              precision    recall  f1-score   support\n",
            "\n",
            "           0       0.98      1.00      0.99      1560\n",
            "           1       1.00      0.89      0.94       234\n",
            "\n",
            "    accuracy                           0.98      1794\n",
            "   macro avg       0.99      0.94      0.97      1794\n",
            "weighted avg       0.99      0.98      0.98      1794\n",
            "\n"
          ],
          "name": "stdout"
        }
      ]
    },
    {
      "cell_type": "code",
      "metadata": {
        "id": "fHwoP0xtIExY",
        "colab_type": "code",
        "colab": {
          "base_uri": "https://localhost:8080/",
          "height": 68
        },
        "outputId": "326568a2-492e-454e-ddda-49a79cf7ceb6"
      },
      "source": [
        "#Confusion Matrix\n",
        "cm = metrics.confusion_matrix(trainY_2, predictions)\n",
        "print(\"Confusion Matrix: \\n\", cm)"
      ],
      "execution_count": 208,
      "outputs": [
        {
          "output_type": "stream",
          "text": [
            "Confusion Matrix: \n",
            " [[1559    1]\n",
            " [  26  208]]\n"
          ],
          "name": "stdout"
        }
      ]
    },
    {
      "cell_type": "code",
      "metadata": {
        "id": "7sWndduGIGwd",
        "colab_type": "code",
        "colab": {
          "base_uri": "https://localhost:8080/",
          "height": 329
        },
        "outputId": "46b5880a-5dcc-4000-e86a-fc4dcce8dadf"
      },
      "source": [
        "#Calcualte ROC features\n",
        "fpr, tpr, thresholds = metrics.roc_curve(trainY_2, probs, pos_label=1)\n",
        "#Calculate AUC\n",
        "roc_auc = metrics.auc(fpr, tpr)\n",
        "\n",
        "#Plot ROC\n",
        "print('AUC: ', roc_auc)\n",
        "print(\"ROC:\")\n",
        "plt.title('ROC Plot')\n",
        "plt.plot(fpr, tpr, 'b', label='AUC = %0.2f'%roc_auc)\n",
        "plt.plot([0, 1], [0, 1],'r--')\n",
        "plt.ylabel('TPR')\n",
        "plt.xlabel('FPR')\n",
        "plt.show()"
      ],
      "execution_count": 209,
      "outputs": [
        {
          "output_type": "stream",
          "text": [
            "AUC:  0.9666666666666667\n",
            "ROC:\n"
          ],
          "name": "stdout"
        },
        {
          "output_type": "display_data",
          "data": {
            "image/png": "[encoded data removed]",
            "text/plain": [
              "<Figure size 432x288 with 1 Axes>"
            ]
          },
          "metadata": {
            "tags": [],
            "needs_background": "light"
          }
        }
      ]
    },
    {
      "cell_type": "markdown",
      "metadata": {
        "id": "kZKNwyqiIc7i",
        "colab_type": "text"
      },
      "source": [
        "The L1-penalized model performed marginally better than the p-value selected model. The L1 was also easier to implement."
      ]
    },
    {
      "cell_type": "markdown",
      "metadata": {
        "id": "yjhFPGr8HoBe",
        "colab_type": "text"
      },
      "source": [
        "## (f) Multi-Class classification"
      ]
    },
    {
      "cell_type": "markdown",
      "metadata": {
        "id": "mUvBDeXIu4Z8",
        "colab_type": "text"
      },
      "source": [
        "#### i. Find the best l in the same way as you found it in 1(e)i to build an L1- penalized multinomial regression model to classify all activities in your train- ing set."
      ]
    },
    {
      "cell_type": "code",
      "metadata": {
        "id": "XBZSfEQsHoBe",
        "colab_type": "code",
        "colab": {}
      },
      "source": [
        "lpTable3 = pd.DataFrame(columns=[\"l\",\"p\",\"cv score\"])"
      ],
      "execution_count": 0,
      "outputs": []
    },
    {
      "cell_type": "code",
      "metadata": {
        "id": "vGGmzdKCJEPH",
        "colab_type": "code",
        "colab": {
          "base_uri": "https://localhost:8080/",
          "height": 1000
        },
        "outputId": "5af0d48e-3f28-4a60-b2f9-5fd4bdce239f"
      },
      "source": [
        "for l in range(1,21):\n",
        "  trainX_2 = pd.DataFrame()\n",
        "  trainY_2 = pd.DataFrame()\n",
        "  #For each dataset in the training 'folder'\n",
        "  for i in range(0,len(train)):\n",
        "    sz = train[i].shape[0]\n",
        "    idx = int(sz/l)\n",
        "    series = []\n",
        "    #Find the split index points for the dataset and create subarrays of them\n",
        "    for j in range(0,l):\n",
        "      series.append(train[i].iloc[(idx*j):(idx+(j*idx)), 1:8])\n",
        "\n",
        "    series1 = pd.DataFrame()\n",
        "    #Iterate thru each subarray and add it to the final array\n",
        "    c=0\n",
        "    for s in series:\n",
        "      series1.loc[:,extraCols[c]] = pd.Series(s.var_rss12.tolist())\n",
        "      c+=1\n",
        "      series1.loc[:,extraCols[c]] = pd.Series(s.var_rss12.tolist())\n",
        "      c+=1\n",
        "      series1.loc[:,extraCols[c]] = pd.Series(s.avg_rss13.tolist())\n",
        "      c+=1\n",
        "      series1.loc[:,extraCols[c]] = pd.Series(s.var_rss13.tolist())\n",
        "      c+=1\n",
        "      series1.loc[:,extraCols[c]] = pd.Series(s.vg_rss23.tolist())\n",
        "      c+=1\n",
        "      series1.loc[:,extraCols[c]] = pd.Series(s.ar_rss23.tolist())\n",
        "      c+=1\n",
        "    #Table to hold activity class for this dataset (so that it aligns with the X indices)\n",
        "    sz2 = series1.shape[0]\n",
        "    d = pd.DataFrame(train[i].activity, index=np.arange(sz2))\n",
        "\n",
        "    #Add the X and Y sets to the overall training and testing sets\n",
        "    trainX_2 = trainX_2.append(series1)\n",
        "    trainY_2 = trainY_2.append(d)\n",
        "    \n",
        "  trainX_2 = trainX_2.fillna(trainX_2.mean())\n",
        "  trainX_2 = preprocessing.scale(trainX_2)\n",
        "  trainY_2 = trainY_2.values.ravel()\n",
        "\n",
        "\n",
        "  #Do logistic regression \n",
        "  X_scaled = preprocessing.scale(trainX_2)\n",
        "\n",
        "  log_reg = LogisticRegression(penalty='l1', multi_class='multinomial', solver='saga').fit(X_scaled, trainY_2)\n",
        "  #Perform backwards feature selection\n",
        "  selector = SelectFromModel(estimator=log_reg, prefit=True)\n",
        "  features = selector.get_support()\n",
        "  #Transform the features\n",
        "  sel = selector.transform(X_scaled)\n",
        "  #Do 5-fold CV \n",
        "  kfold = KFold(n_splits=5)\n",
        "  model = LogisticRegression(penalty='l1', multi_class='multinomial', solver='saga', max_iter=500)\n",
        "  #Get cross validation score for the model\n",
        "  results = cross_val_score(model, X_scaled, trainY_2, cv=kfold)\n",
        "\n",
        "  numFeatures = sum(features)\n",
        "  lpTable3.loc[len(lpTable3)] = [l, numFeatures, results.mean()]"
      ],
      "execution_count": 252,
      "outputs": [
        {
          "output_type": "stream",
          "text": [
            "/usr/local/lib/python3.6/dist-packages/sklearn/linear_model/_sag.py:330: ConvergenceWarning: The max_iter was reached which means the coef_ did not converge\n",
            "  \"the coef_ did not converge\", ConvergenceWarning)\n",
            "/usr/local/lib/python3.6/dist-packages/sklearn/linear_model/_sag.py:330: ConvergenceWarning: The max_iter was reached which means the coef_ did not converge\n",
            "  \"the coef_ did not converge\", ConvergenceWarning)\n",
            "/usr/local/lib/python3.6/dist-packages/sklearn/linear_model/_sag.py:330: ConvergenceWarning: The max_iter was reached which means the coef_ did not converge\n",
            "  \"the coef_ did not converge\", ConvergenceWarning)\n",
            "/usr/local/lib/python3.6/dist-packages/sklearn/linear_model/_sag.py:330: ConvergenceWarning: The max_iter was reached which means the coef_ did not converge\n",
            "  \"the coef_ did not converge\", ConvergenceWarning)\n",
            "/usr/local/lib/python3.6/dist-packages/sklearn/linear_model/_sag.py:330: ConvergenceWarning: The max_iter was reached which means the coef_ did not converge\n",
            "  \"the coef_ did not converge\", ConvergenceWarning)\n",
            "/usr/local/lib/python3.6/dist-packages/sklearn/linear_model/_sag.py:330: ConvergenceWarning: The max_iter was reached which means the coef_ did not converge\n",
            "  \"the coef_ did not converge\", ConvergenceWarning)\n",
            "/usr/local/lib/python3.6/dist-packages/sklearn/linear_model/_sag.py:330: ConvergenceWarning: The max_iter was reached which means the coef_ did not converge\n",
            "  \"the coef_ did not converge\", ConvergenceWarning)\n",
            "/usr/local/lib/python3.6/dist-packages/sklearn/linear_model/_sag.py:330: ConvergenceWarning: The max_iter was reached which means the coef_ did not converge\n",
            "  \"the coef_ did not converge\", ConvergenceWarning)\n",
            "/usr/local/lib/python3.6/dist-packages/sklearn/linear_model/_sag.py:330: ConvergenceWarning: The max_iter was reached which means the coef_ did not converge\n",
            "  \"the coef_ did not converge\", ConvergenceWarning)\n",
            "/usr/local/lib/python3.6/dist-packages/sklearn/linear_model/_sag.py:330: ConvergenceWarning: The max_iter was reached which means the coef_ did not converge\n",
            "  \"the coef_ did not converge\", ConvergenceWarning)\n",
            "/usr/local/lib/python3.6/dist-packages/sklearn/linear_model/_sag.py:330: ConvergenceWarning: The max_iter was reached which means the coef_ did not converge\n",
            "  \"the coef_ did not converge\", ConvergenceWarning)\n",
            "/usr/local/lib/python3.6/dist-packages/sklearn/linear_model/_sag.py:330: ConvergenceWarning: The max_iter was reached which means the coef_ did not converge\n",
            "  \"the coef_ did not converge\", ConvergenceWarning)\n",
            "/usr/local/lib/python3.6/dist-packages/sklearn/linear_model/_sag.py:330: ConvergenceWarning: The max_iter was reached which means the coef_ did not converge\n",
            "  \"the coef_ did not converge\", ConvergenceWarning)\n",
            "/usr/local/lib/python3.6/dist-packages/sklearn/linear_model/_sag.py:330: ConvergenceWarning: The max_iter was reached which means the coef_ did not converge\n",
            "  \"the coef_ did not converge\", ConvergenceWarning)\n",
            "/usr/local/lib/python3.6/dist-packages/sklearn/linear_model/_sag.py:330: ConvergenceWarning: The max_iter was reached which means the coef_ did not converge\n",
            "  \"the coef_ did not converge\", ConvergenceWarning)\n",
            "/usr/local/lib/python3.6/dist-packages/sklearn/linear_model/_sag.py:330: ConvergenceWarning: The max_iter was reached which means the coef_ did not converge\n",
            "  \"the coef_ did not converge\", ConvergenceWarning)\n",
            "/usr/local/lib/python3.6/dist-packages/sklearn/linear_model/_sag.py:330: ConvergenceWarning: The max_iter was reached which means the coef_ did not converge\n",
            "  \"the coef_ did not converge\", ConvergenceWarning)\n",
            "/usr/local/lib/python3.6/dist-packages/sklearn/linear_model/_sag.py:330: ConvergenceWarning: The max_iter was reached which means the coef_ did not converge\n",
            "  \"the coef_ did not converge\", ConvergenceWarning)\n",
            "/usr/local/lib/python3.6/dist-packages/sklearn/linear_model/_sag.py:330: ConvergenceWarning: The max_iter was reached which means the coef_ did not converge\n",
            "  \"the coef_ did not converge\", ConvergenceWarning)\n",
            "/usr/local/lib/python3.6/dist-packages/sklearn/linear_model/_sag.py:330: ConvergenceWarning: The max_iter was reached which means the coef_ did not converge\n",
            "  \"the coef_ did not converge\", ConvergenceWarning)\n",
            "/usr/local/lib/python3.6/dist-packages/sklearn/linear_model/_sag.py:330: ConvergenceWarning: The max_iter was reached which means the coef_ did not converge\n",
            "  \"the coef_ did not converge\", ConvergenceWarning)\n",
            "/usr/local/lib/python3.6/dist-packages/sklearn/linear_model/_sag.py:330: ConvergenceWarning: The max_iter was reached which means the coef_ did not converge\n",
            "  \"the coef_ did not converge\", ConvergenceWarning)\n",
            "/usr/local/lib/python3.6/dist-packages/sklearn/linear_model/_sag.py:330: ConvergenceWarning: The max_iter was reached which means the coef_ did not converge\n",
            "  \"the coef_ did not converge\", ConvergenceWarning)\n",
            "/usr/local/lib/python3.6/dist-packages/sklearn/linear_model/_sag.py:330: ConvergenceWarning: The max_iter was reached which means the coef_ did not converge\n",
            "  \"the coef_ did not converge\", ConvergenceWarning)\n",
            "/usr/local/lib/python3.6/dist-packages/sklearn/linear_model/_sag.py:330: ConvergenceWarning: The max_iter was reached which means the coef_ did not converge\n",
            "  \"the coef_ did not converge\", ConvergenceWarning)\n",
            "/usr/local/lib/python3.6/dist-packages/sklearn/linear_model/_sag.py:330: ConvergenceWarning: The max_iter was reached which means the coef_ did not converge\n",
            "  \"the coef_ did not converge\", ConvergenceWarning)\n",
            "/usr/local/lib/python3.6/dist-packages/sklearn/linear_model/_sag.py:330: ConvergenceWarning: The max_iter was reached which means the coef_ did not converge\n",
            "  \"the coef_ did not converge\", ConvergenceWarning)\n",
            "/usr/local/lib/python3.6/dist-packages/sklearn/linear_model/_sag.py:330: ConvergenceWarning: The max_iter was reached which means the coef_ did not converge\n",
            "  \"the coef_ did not converge\", ConvergenceWarning)\n",
            "/usr/local/lib/python3.6/dist-packages/sklearn/linear_model/_sag.py:330: ConvergenceWarning: The max_iter was reached which means the coef_ did not converge\n",
            "  \"the coef_ did not converge\", ConvergenceWarning)\n",
            "/usr/local/lib/python3.6/dist-packages/sklearn/linear_model/_sag.py:330: ConvergenceWarning: The max_iter was reached which means the coef_ did not converge\n",
            "  \"the coef_ did not converge\", ConvergenceWarning)\n",
            "/usr/local/lib/python3.6/dist-packages/sklearn/linear_model/_sag.py:330: ConvergenceWarning: The max_iter was reached which means the coef_ did not converge\n",
            "  \"the coef_ did not converge\", ConvergenceWarning)\n",
            "/usr/local/lib/python3.6/dist-packages/sklearn/linear_model/_sag.py:330: ConvergenceWarning: The max_iter was reached which means the coef_ did not converge\n",
            "  \"the coef_ did not converge\", ConvergenceWarning)\n",
            "/usr/local/lib/python3.6/dist-packages/sklearn/linear_model/_sag.py:330: ConvergenceWarning: The max_iter was reached which means the coef_ did not converge\n",
            "  \"the coef_ did not converge\", ConvergenceWarning)\n",
            "/usr/local/lib/python3.6/dist-packages/sklearn/linear_model/_sag.py:330: ConvergenceWarning: The max_iter was reached which means the coef_ did not converge\n",
            "  \"the coef_ did not converge\", ConvergenceWarning)\n",
            "/usr/local/lib/python3.6/dist-packages/sklearn/linear_model/_sag.py:330: ConvergenceWarning: The max_iter was reached which means the coef_ did not converge\n",
            "  \"the coef_ did not converge\", ConvergenceWarning)\n",
            "/usr/local/lib/python3.6/dist-packages/sklearn/linear_model/_sag.py:330: ConvergenceWarning: The max_iter was reached which means the coef_ did not converge\n",
            "  \"the coef_ did not converge\", ConvergenceWarning)\n",
            "/usr/local/lib/python3.6/dist-packages/sklearn/linear_model/_sag.py:330: ConvergenceWarning: The max_iter was reached which means the coef_ did not converge\n",
            "  \"the coef_ did not converge\", ConvergenceWarning)\n",
            "/usr/local/lib/python3.6/dist-packages/sklearn/linear_model/_sag.py:330: ConvergenceWarning: The max_iter was reached which means the coef_ did not converge\n",
            "  \"the coef_ did not converge\", ConvergenceWarning)\n",
            "/usr/local/lib/python3.6/dist-packages/sklearn/linear_model/_sag.py:330: ConvergenceWarning: The max_iter was reached which means the coef_ did not converge\n",
            "  \"the coef_ did not converge\", ConvergenceWarning)\n",
            "/usr/local/lib/python3.6/dist-packages/sklearn/linear_model/_sag.py:330: ConvergenceWarning: The max_iter was reached which means the coef_ did not converge\n",
            "  \"the coef_ did not converge\", ConvergenceWarning)\n",
            "/usr/local/lib/python3.6/dist-packages/sklearn/linear_model/_sag.py:330: ConvergenceWarning: The max_iter was reached which means the coef_ did not converge\n",
            "  \"the coef_ did not converge\", ConvergenceWarning)\n",
            "/usr/local/lib/python3.6/dist-packages/sklearn/linear_model/_sag.py:330: ConvergenceWarning: The max_iter was reached which means the coef_ did not converge\n",
            "  \"the coef_ did not converge\", ConvergenceWarning)\n",
            "/usr/local/lib/python3.6/dist-packages/sklearn/linear_model/_sag.py:330: ConvergenceWarning: The max_iter was reached which means the coef_ did not converge\n",
            "  \"the coef_ did not converge\", ConvergenceWarning)\n",
            "/usr/local/lib/python3.6/dist-packages/sklearn/linear_model/_sag.py:330: ConvergenceWarning: The max_iter was reached which means the coef_ did not converge\n",
            "  \"the coef_ did not converge\", ConvergenceWarning)\n",
            "/usr/local/lib/python3.6/dist-packages/sklearn/linear_model/_sag.py:330: ConvergenceWarning: The max_iter was reached which means the coef_ did not converge\n",
            "  \"the coef_ did not converge\", ConvergenceWarning)\n",
            "/usr/local/lib/python3.6/dist-packages/sklearn/linear_model/_sag.py:330: ConvergenceWarning: The max_iter was reached which means the coef_ did not converge\n",
            "  \"the coef_ did not converge\", ConvergenceWarning)\n",
            "/usr/local/lib/python3.6/dist-packages/sklearn/linear_model/_sag.py:330: ConvergenceWarning: The max_iter was reached which means the coef_ did not converge\n",
            "  \"the coef_ did not converge\", ConvergenceWarning)\n",
            "/usr/local/lib/python3.6/dist-packages/sklearn/linear_model/_sag.py:330: ConvergenceWarning: The max_iter was reached which means the coef_ did not converge\n",
            "  \"the coef_ did not converge\", ConvergenceWarning)\n",
            "/usr/local/lib/python3.6/dist-packages/sklearn/linear_model/_sag.py:330: ConvergenceWarning: The max_iter was reached which means the coef_ did not converge\n",
            "  \"the coef_ did not converge\", ConvergenceWarning)\n",
            "/usr/local/lib/python3.6/dist-packages/sklearn/linear_model/_sag.py:330: ConvergenceWarning: The max_iter was reached which means the coef_ did not converge\n",
            "  \"the coef_ did not converge\", ConvergenceWarning)\n",
            "/usr/local/lib/python3.6/dist-packages/sklearn/linear_model/_sag.py:330: ConvergenceWarning: The max_iter was reached which means the coef_ did not converge\n",
            "  \"the coef_ did not converge\", ConvergenceWarning)\n",
            "/usr/local/lib/python3.6/dist-packages/sklearn/linear_model/_sag.py:330: ConvergenceWarning: The max_iter was reached which means the coef_ did not converge\n",
            "  \"the coef_ did not converge\", ConvergenceWarning)\n",
            "/usr/local/lib/python3.6/dist-packages/sklearn/linear_model/_sag.py:330: ConvergenceWarning: The max_iter was reached which means the coef_ did not converge\n",
            "  \"the coef_ did not converge\", ConvergenceWarning)\n",
            "/usr/local/lib/python3.6/dist-packages/sklearn/linear_model/_sag.py:330: ConvergenceWarning: The max_iter was reached which means the coef_ did not converge\n",
            "  \"the coef_ did not converge\", ConvergenceWarning)\n",
            "/usr/local/lib/python3.6/dist-packages/sklearn/linear_model/_sag.py:330: ConvergenceWarning: The max_iter was reached which means the coef_ did not converge\n",
            "  \"the coef_ did not converge\", ConvergenceWarning)\n",
            "/usr/local/lib/python3.6/dist-packages/sklearn/linear_model/_sag.py:330: ConvergenceWarning: The max_iter was reached which means the coef_ did not converge\n",
            "  \"the coef_ did not converge\", ConvergenceWarning)\n",
            "/usr/local/lib/python3.6/dist-packages/sklearn/linear_model/_sag.py:330: ConvergenceWarning: The max_iter was reached which means the coef_ did not converge\n",
            "  \"the coef_ did not converge\", ConvergenceWarning)\n",
            "/usr/local/lib/python3.6/dist-packages/sklearn/linear_model/_sag.py:330: ConvergenceWarning: The max_iter was reached which means the coef_ did not converge\n",
            "  \"the coef_ did not converge\", ConvergenceWarning)\n",
            "/usr/local/lib/python3.6/dist-packages/sklearn/linear_model/_sag.py:330: ConvergenceWarning: The max_iter was reached which means the coef_ did not converge\n",
            "  \"the coef_ did not converge\", ConvergenceWarning)\n",
            "/usr/local/lib/python3.6/dist-packages/sklearn/linear_model/_sag.py:330: ConvergenceWarning: The max_iter was reached which means the coef_ did not converge\n",
            "  \"the coef_ did not converge\", ConvergenceWarning)\n",
            "/usr/local/lib/python3.6/dist-packages/sklearn/linear_model/_sag.py:330: ConvergenceWarning: The max_iter was reached which means the coef_ did not converge\n",
            "  \"the coef_ did not converge\", ConvergenceWarning)\n",
            "/usr/local/lib/python3.6/dist-packages/sklearn/linear_model/_sag.py:330: ConvergenceWarning: The max_iter was reached which means the coef_ did not converge\n",
            "  \"the coef_ did not converge\", ConvergenceWarning)\n",
            "/usr/local/lib/python3.6/dist-packages/sklearn/linear_model/_sag.py:330: ConvergenceWarning: The max_iter was reached which means the coef_ did not converge\n",
            "  \"the coef_ did not converge\", ConvergenceWarning)\n",
            "/usr/local/lib/python3.6/dist-packages/sklearn/linear_model/_sag.py:330: ConvergenceWarning: The max_iter was reached which means the coef_ did not converge\n",
            "  \"the coef_ did not converge\", ConvergenceWarning)\n",
            "/usr/local/lib/python3.6/dist-packages/sklearn/linear_model/_sag.py:330: ConvergenceWarning: The max_iter was reached which means the coef_ did not converge\n",
            "  \"the coef_ did not converge\", ConvergenceWarning)\n",
            "/usr/local/lib/python3.6/dist-packages/sklearn/linear_model/_sag.py:330: ConvergenceWarning: The max_iter was reached which means the coef_ did not converge\n",
            "  \"the coef_ did not converge\", ConvergenceWarning)\n",
            "/usr/local/lib/python3.6/dist-packages/sklearn/linear_model/_sag.py:330: ConvergenceWarning: The max_iter was reached which means the coef_ did not converge\n",
            "  \"the coef_ did not converge\", ConvergenceWarning)\n",
            "/usr/local/lib/python3.6/dist-packages/sklearn/linear_model/_sag.py:330: ConvergenceWarning: The max_iter was reached which means the coef_ did not converge\n",
            "  \"the coef_ did not converge\", ConvergenceWarning)\n",
            "/usr/local/lib/python3.6/dist-packages/sklearn/linear_model/_sag.py:330: ConvergenceWarning: The max_iter was reached which means the coef_ did not converge\n",
            "  \"the coef_ did not converge\", ConvergenceWarning)\n",
            "/usr/local/lib/python3.6/dist-packages/sklearn/linear_model/_sag.py:330: ConvergenceWarning: The max_iter was reached which means the coef_ did not converge\n",
            "  \"the coef_ did not converge\", ConvergenceWarning)\n",
            "/usr/local/lib/python3.6/dist-packages/sklearn/linear_model/_sag.py:330: ConvergenceWarning: The max_iter was reached which means the coef_ did not converge\n",
            "  \"the coef_ did not converge\", ConvergenceWarning)\n",
            "/usr/local/lib/python3.6/dist-packages/sklearn/linear_model/_sag.py:330: ConvergenceWarning: The max_iter was reached which means the coef_ did not converge\n",
            "  \"the coef_ did not converge\", ConvergenceWarning)\n",
            "/usr/local/lib/python3.6/dist-packages/sklearn/linear_model/_sag.py:330: ConvergenceWarning: The max_iter was reached which means the coef_ did not converge\n",
            "  \"the coef_ did not converge\", ConvergenceWarning)\n",
            "/usr/local/lib/python3.6/dist-packages/sklearn/linear_model/_sag.py:330: ConvergenceWarning: The max_iter was reached which means the coef_ did not converge\n",
            "  \"the coef_ did not converge\", ConvergenceWarning)\n",
            "/usr/local/lib/python3.6/dist-packages/sklearn/linear_model/_sag.py:330: ConvergenceWarning: The max_iter was reached which means the coef_ did not converge\n",
            "  \"the coef_ did not converge\", ConvergenceWarning)\n",
            "/usr/local/lib/python3.6/dist-packages/sklearn/linear_model/_sag.py:330: ConvergenceWarning: The max_iter was reached which means the coef_ did not converge\n",
            "  \"the coef_ did not converge\", ConvergenceWarning)\n",
            "/usr/local/lib/python3.6/dist-packages/sklearn/linear_model/_sag.py:330: ConvergenceWarning: The max_iter was reached which means the coef_ did not converge\n",
            "  \"the coef_ did not converge\", ConvergenceWarning)\n",
            "/usr/local/lib/python3.6/dist-packages/sklearn/linear_model/_sag.py:330: ConvergenceWarning: The max_iter was reached which means the coef_ did not converge\n",
            "  \"the coef_ did not converge\", ConvergenceWarning)\n",
            "/usr/local/lib/python3.6/dist-packages/sklearn/linear_model/_sag.py:330: ConvergenceWarning: The max_iter was reached which means the coef_ did not converge\n",
            "  \"the coef_ did not converge\", ConvergenceWarning)\n",
            "/usr/local/lib/python3.6/dist-packages/sklearn/linear_model/_sag.py:330: ConvergenceWarning: The max_iter was reached which means the coef_ did not converge\n",
            "  \"the coef_ did not converge\", ConvergenceWarning)\n",
            "/usr/local/lib/python3.6/dist-packages/sklearn/linear_model/_sag.py:330: ConvergenceWarning: The max_iter was reached which means the coef_ did not converge\n",
            "  \"the coef_ did not converge\", ConvergenceWarning)\n",
            "/usr/local/lib/python3.6/dist-packages/sklearn/linear_model/_sag.py:330: ConvergenceWarning: The max_iter was reached which means the coef_ did not converge\n",
            "  \"the coef_ did not converge\", ConvergenceWarning)\n",
            "/usr/local/lib/python3.6/dist-packages/sklearn/linear_model/_sag.py:330: ConvergenceWarning: The max_iter was reached which means the coef_ did not converge\n",
            "  \"the coef_ did not converge\", ConvergenceWarning)\n",
            "/usr/local/lib/python3.6/dist-packages/sklearn/linear_model/_sag.py:330: ConvergenceWarning: The max_iter was reached which means the coef_ did not converge\n",
            "  \"the coef_ did not converge\", ConvergenceWarning)\n",
            "/usr/local/lib/python3.6/dist-packages/sklearn/linear_model/_sag.py:330: ConvergenceWarning: The max_iter was reached which means the coef_ did not converge\n",
            "  \"the coef_ did not converge\", ConvergenceWarning)\n",
            "/usr/local/lib/python3.6/dist-packages/sklearn/linear_model/_sag.py:330: ConvergenceWarning: The max_iter was reached which means the coef_ did not converge\n",
            "  \"the coef_ did not converge\", ConvergenceWarning)\n",
            "/usr/local/lib/python3.6/dist-packages/sklearn/linear_model/_sag.py:330: ConvergenceWarning: The max_iter was reached which means the coef_ did not converge\n",
            "  \"the coef_ did not converge\", ConvergenceWarning)\n",
            "/usr/local/lib/python3.6/dist-packages/sklearn/linear_model/_sag.py:330: ConvergenceWarning: The max_iter was reached which means the coef_ did not converge\n",
            "  \"the coef_ did not converge\", ConvergenceWarning)\n",
            "/usr/local/lib/python3.6/dist-packages/sklearn/linear_model/_sag.py:330: ConvergenceWarning: The max_iter was reached which means the coef_ did not converge\n",
            "  \"the coef_ did not converge\", ConvergenceWarning)\n",
            "/usr/local/lib/python3.6/dist-packages/sklearn/linear_model/_sag.py:330: ConvergenceWarning: The max_iter was reached which means the coef_ did not converge\n",
            "  \"the coef_ did not converge\", ConvergenceWarning)\n",
            "/usr/local/lib/python3.6/dist-packages/sklearn/linear_model/_sag.py:330: ConvergenceWarning: The max_iter was reached which means the coef_ did not converge\n",
            "  \"the coef_ did not converge\", ConvergenceWarning)\n",
            "/usr/local/lib/python3.6/dist-packages/sklearn/linear_model/_sag.py:330: ConvergenceWarning: The max_iter was reached which means the coef_ did not converge\n",
            "  \"the coef_ did not converge\", ConvergenceWarning)\n",
            "/usr/local/lib/python3.6/dist-packages/sklearn/linear_model/_sag.py:330: ConvergenceWarning: The max_iter was reached which means the coef_ did not converge\n",
            "  \"the coef_ did not converge\", ConvergenceWarning)\n",
            "/usr/local/lib/python3.6/dist-packages/sklearn/linear_model/_sag.py:330: ConvergenceWarning: The max_iter was reached which means the coef_ did not converge\n",
            "  \"the coef_ did not converge\", ConvergenceWarning)\n",
            "/usr/local/lib/python3.6/dist-packages/sklearn/linear_model/_sag.py:330: ConvergenceWarning: The max_iter was reached which means the coef_ did not converge\n",
            "  \"the coef_ did not converge\", ConvergenceWarning)\n",
            "/usr/local/lib/python3.6/dist-packages/sklearn/linear_model/_sag.py:330: ConvergenceWarning: The max_iter was reached which means the coef_ did not converge\n",
            "  \"the coef_ did not converge\", ConvergenceWarning)\n",
            "/usr/local/lib/python3.6/dist-packages/sklearn/linear_model/_sag.py:330: ConvergenceWarning: The max_iter was reached which means the coef_ did not converge\n",
            "  \"the coef_ did not converge\", ConvergenceWarning)\n",
            "/usr/local/lib/python3.6/dist-packages/sklearn/linear_model/_sag.py:330: ConvergenceWarning: The max_iter was reached which means the coef_ did not converge\n",
            "  \"the coef_ did not converge\", ConvergenceWarning)\n",
            "/usr/local/lib/python3.6/dist-packages/sklearn/linear_model/_sag.py:330: ConvergenceWarning: The max_iter was reached which means the coef_ did not converge\n",
            "  \"the coef_ did not converge\", ConvergenceWarning)\n"
          ],
          "name": "stderr"
        }
      ]
    },
    {
      "cell_type": "code",
      "metadata": {
        "id": "mE0G5MUnJKG8",
        "colab_type": "code",
        "colab": {
          "base_uri": "https://localhost:8080/",
          "height": 102
        },
        "outputId": "e8c2ba22-07ce-4db5-f691-25db4c74bf9b"
      },
      "source": [
        "lpTable3 = lpTable3.sort_values(by='cv score', ascending=False)\n",
        "print(\"Best l, p combo:\\n\", lpTable3.iloc[0,:])\n",
        "#l=18, p=32"
      ],
      "execution_count": 253,
      "outputs": [
        {
          "output_type": "stream",
          "text": [
            "Best l, p combo:\n",
            " l            18.000000\n",
            "p           108.000000\n",
            "cv score      0.680027\n",
            "Name: 31, dtype: float64\n"
          ],
          "name": "stdout"
        }
      ]
    },
    {
      "cell_type": "markdown",
      "metadata": {
        "id": "W3pLrxykRY5t",
        "colab_type": "text"
      },
      "source": [
        "Test on training data"
      ]
    },
    {
      "cell_type": "code",
      "metadata": {
        "id": "vJK1-VjvJM1Y",
        "colab_type": "code",
        "colab": {
          "base_uri": "https://localhost:8080/",
          "height": 51
        },
        "outputId": "0bf41dbe-5119-4213-d1aa-ca145df350aa"
      },
      "source": [
        "#Fit the classifier with the above parameters and try on training set\n",
        "l=18\n",
        "p=108\n",
        "trainX_2 = pd.DataFrame()\n",
        "trainY_2 = pd.DataFrame()\n",
        "#For each dataset in the training 'folder'\n",
        "for i in range(0,len(train)):\n",
        "  sz = train[i].shape[0]\n",
        "  idx = int(sz/l)\n",
        "  series = []\n",
        "  #Find the split index points for the dataset and create subarrays of them\n",
        "  for j in range(0,l):\n",
        "    series.append(train[i].iloc[(idx*j):(idx+(j*idx)), 1:8])\n",
        "  series1 = pd.DataFrame()\n",
        "  #Iterate thru each subarray and add it to the final array\n",
        "  c=0\n",
        "  for s in series:\n",
        "    series1.loc[:,extraCols[c]] = pd.Series(s.var_rss12.tolist())\n",
        "    c+=1\n",
        "    series1.loc[:,extraCols[c]] = pd.Series(s.var_rss12.tolist())\n",
        "    c+=1\n",
        "    series1.loc[:,extraCols[c]] = pd.Series(s.avg_rss13.tolist())\n",
        "    c+=1\n",
        "    series1.loc[:,extraCols[c]] = pd.Series(s.var_rss13.tolist())\n",
        "    c+=1\n",
        "    series1.loc[:,extraCols[c]] = pd.Series(s.vg_rss23.tolist())\n",
        "    c+=1\n",
        "    series1.loc[:,extraCols[c]] = pd.Series(s.ar_rss23.tolist())\n",
        "    c+=1\n",
        "  #Table to hold activity class for this dataset (so that it aligns with the X indices)\n",
        "  sz2 = series1.shape[0]\n",
        "  d = pd.DataFrame(train[i].activity, index=np.arange(sz2))\n",
        "\n",
        "  #Add the X and Y sets to the overall training and testing sets\n",
        "  trainX_2 = trainX_2.append(series1)\n",
        "  trainY_2 = trainY_2.append(d)\n",
        "  \n",
        "trainX_2 = trainX_2.fillna(trainX_2.mean())\n",
        "trainX_2 = preprocessing.scale(trainX_2)\n",
        "trainY_2['activity'].replace('bending',1, inplace=True)\n",
        "trainY_2['activity'].replace('walking',2, inplace=True)\n",
        "trainY_2['activity'].replace('lying',3, inplace=True)\n",
        "trainY_2['activity'].replace('sitting',4, inplace=True)\n",
        "trainY_2['activity'].replace('standing',5, inplace=True)\n",
        "trainY_2['activity'].replace('cycling',6, inplace=True)\n",
        "trainY_2 = trainY_2.values.ravel()\n",
        "\n",
        "#Do logistic regression \n",
        "X_scaled = preprocessing.scale(trainX_2)\n",
        "\n",
        "log_reg = LogisticRegression(penalty='l1', multi_class='multinomial', solver='saga').fit(X_scaled, trainY_2)\n",
        "#Perform backwards feature selection\n",
        "\n",
        "selector = SelectFromModel(estimator=log_reg, prefit=True, max_features=p)\n",
        "features = selector.get_support()\n",
        "#Transform the features\n",
        "sel = selector.transform(X_scaled)"
      ],
      "execution_count": 254,
      "outputs": [
        {
          "output_type": "stream",
          "text": [
            "/usr/local/lib/python3.6/dist-packages/sklearn/linear_model/_sag.py:330: ConvergenceWarning: The max_iter was reached which means the coef_ did not converge\n",
            "  \"the coef_ did not converge\", ConvergenceWarning)\n"
          ],
          "name": "stderr"
        }
      ]
    },
    {
      "cell_type": "code",
      "metadata": {
        "id": "JBLBdAm2JPIm",
        "colab_type": "code",
        "colab": {
          "base_uri": "https://localhost:8080/",
          "height": 51
        },
        "outputId": "34fabf97-ee24-4fee-a32a-4b564d9341e0"
      },
      "source": [
        "log_reg = LogisticRegression(penalty='l1', multi_class='multinomial', solver='saga').fit(sel, trainY_2)"
      ],
      "execution_count": 256,
      "outputs": [
        {
          "output_type": "stream",
          "text": [
            "/usr/local/lib/python3.6/dist-packages/sklearn/linear_model/_sag.py:330: ConvergenceWarning: The max_iter was reached which means the coef_ did not converge\n",
            "  \"the coef_ did not converge\", ConvergenceWarning)\n"
          ],
          "name": "stderr"
        }
      ]
    },
    {
      "cell_type": "code",
      "metadata": {
        "id": "WraA7zGhJSPU",
        "colab_type": "code",
        "colab": {
          "base_uri": "https://localhost:8080/",
          "height": 255
        },
        "outputId": "375ca6c9-5054-4599-f5c0-2bcad066a75d"
      },
      "source": [
        "#Predict train labels\n",
        "predictions = log_reg.predict(sel)\n",
        "#Get scores of train labels\n",
        "scores = log_reg.score(sel, trainY_2)\n",
        "#Predict the probability of positive test label\n",
        "probs = log_reg.predict_proba(sel)\n",
        "probs = probs[:,1]\n",
        "from sklearn import metrics\n",
        "#Precision, recall, F1\n",
        "print(\"Classification Report:\")\n",
        "print(classification_report(trainY_2,predictions))"
      ],
      "execution_count": 257,
      "outputs": [
        {
          "output_type": "stream",
          "text": [
            "Classification Report:\n",
            "              precision    recall  f1-score   support\n",
            "\n",
            "           1       1.00      1.00      1.00       234\n",
            "           2       0.99      0.98      0.98       312\n",
            "           3       1.00      1.00      1.00       312\n",
            "           4       0.98      1.00      0.99       312\n",
            "           5       1.00      0.98      0.99       312\n",
            "           6       0.98      0.99      0.98       312\n",
            "\n",
            "    accuracy                           0.99      1794\n",
            "   macro avg       0.99      0.99      0.99      1794\n",
            "weighted avg       0.99      0.99      0.99      1794\n",
            "\n"
          ],
          "name": "stdout"
        }
      ]
    },
    {
      "cell_type": "code",
      "metadata": {
        "id": "oWWCenr5JUjc",
        "colab_type": "code",
        "colab": {
          "base_uri": "https://localhost:8080/",
          "height": 136
        },
        "outputId": "69f7adb8-dd00-4dfd-ec0b-2eba33e5a702"
      },
      "source": [
        "#Confusion Matrix\n",
        "cm = metrics.confusion_matrix(trainY_2, predictions)\n",
        "print(\"Confusion Matrix: \\n\", cm)"
      ],
      "execution_count": 258,
      "outputs": [
        {
          "output_type": "stream",
          "text": [
            "Confusion Matrix: \n",
            " [[234   0   0   0   0   0]\n",
            " [  0 306   0   0   0   6]\n",
            " [  0   0 312   0   0   0]\n",
            " [  0   0   0 311   1   0]\n",
            " [  0   0   0   6 306   0]\n",
            " [  0   4   0   0   0 308]]\n"
          ],
          "name": "stdout"
        }
      ]
    },
    {
      "cell_type": "code",
      "metadata": {
        "id": "tjcez8x_JWeX",
        "colab_type": "code",
        "colab": {
          "base_uri": "https://localhost:8080/",
          "height": 329
        },
        "outputId": "f1c84cbc-d7c3-4923-c223-afe888578b4f"
      },
      "source": [
        "#Calcualte ROC features\n",
        "fpr, tpr, thresholds = metrics.roc_curve(trainY_2, probs, pos_label=1)\n",
        "#Calculate AUC\n",
        "roc_auc = metrics.auc(fpr, tpr)\n",
        "\n",
        "#Plot ROC\n",
        "print('AUC: ', roc_auc)\n",
        "print(\"ROC:\")\n",
        "plt.title('ROC Plot')\n",
        "plt.plot(fpr, tpr, 'b', label='AUC = %0.2f'%roc_auc)\n",
        "plt.plot([0, 1], [0, 1],'r--')\n",
        "plt.ylabel('TPR')\n",
        "plt.xlabel('FPR')\n",
        "plt.show()"
      ],
      "execution_count": 259,
      "outputs": [
        {
          "output_type": "stream",
          "text": [
            "AUC:  0.12300843743151436\n",
            "ROC:\n"
          ],
          "name": "stdout"
        },
        {
          "output_type": "display_data",
          "data": {
            "image/png": "[encoded data removed]",
            "text/plain": [
              "<Figure size 432x288 with 1 Axes>"
            ]
          },
          "metadata": {
            "tags": [],
            "needs_background": "light"
          }
        }
      ]
    },
    {
      "cell_type": "markdown",
      "metadata": {
        "id": "jtZbNmTGRctO",
        "colab_type": "text"
      },
      "source": [
        "Test on test data"
      ]
    },
    {
      "cell_type": "code",
      "metadata": {
        "id": "TU_1fJ2wRbr_",
        "colab_type": "code",
        "colab": {
          "base_uri": "https://localhost:8080/",
          "height": 51
        },
        "outputId": "440c1b8a-b7c3-4943-e21c-f4c0a9f4561f"
      },
      "source": [
        "#Fit the classifier with the above parameters and try on training set\n",
        "l=18\n",
        "p=108\n",
        "trainX_2 = pd.DataFrame()\n",
        "trainY_2 = pd.DataFrame()\n",
        "#For each dataset in the training 'folder'\n",
        "for i in range(0,len(test)):\n",
        "  sz = test[i].shape[0]\n",
        "  idx = int(sz/l)\n",
        "  series = []\n",
        "  #Find the split index points for the dataset and create subarrays of them\n",
        "  for j in range(0,l):\n",
        "    series.append(test[i].iloc[(idx*j):(idx+(j*idx)), 1:8])\n",
        "  series1 = pd.DataFrame()\n",
        "  #Iterate thru each subarray and add it to the final array\n",
        "  c=0\n",
        "  for s in series:\n",
        "    series1.loc[:,extraCols[c]] = pd.Series(s.var_rss12.tolist())\n",
        "    c+=1\n",
        "    series1.loc[:,extraCols[c]] = pd.Series(s.var_rss12.tolist())\n",
        "    c+=1\n",
        "    series1.loc[:,extraCols[c]] = pd.Series(s.avg_rss13.tolist())\n",
        "    c+=1\n",
        "    series1.loc[:,extraCols[c]] = pd.Series(s.var_rss13.tolist())\n",
        "    c+=1\n",
        "    series1.loc[:,extraCols[c]] = pd.Series(s.vg_rss23.tolist())\n",
        "    c+=1\n",
        "    series1.loc[:,extraCols[c]] = pd.Series(s.ar_rss23.tolist())\n",
        "    c+=1\n",
        "  #Table to hold activity class for this dataset (so that it aligns with the X indices)\n",
        "  sz2 = series1.shape[0]\n",
        "  d = pd.DataFrame(train[i].activity, index=np.arange(sz2))\n",
        "\n",
        "  #Add the X and Y sets to the overall training and testing sets\n",
        "  trainX_2 = trainX_2.append(series1)\n",
        "  trainY_2 = trainY_2.append(d)\n",
        "  \n",
        "trainX_2 = trainX_2.fillna(trainX_2.mean())\n",
        "trainX_2 = preprocessing.scale(trainX_2)\n",
        "trainY_2['activity'].replace('bending',1, inplace=True)\n",
        "trainY_2['activity'].replace('walking',2, inplace=True)\n",
        "trainY_2['activity'].replace('lying',3, inplace=True)\n",
        "trainY_2['activity'].replace('sitting',4, inplace=True)\n",
        "trainY_2['activity'].replace('standing',5, inplace=True)\n",
        "trainY_2['activity'].replace('cycling',6, inplace=True)\n",
        "trainY_2 = trainY_2.values.ravel()\n",
        "\n",
        "#Do logistic regression \n",
        "X_scaled = preprocessing.scale(trainX_2)\n",
        "\n",
        "log_reg = LogisticRegression(penalty='l1', multi_class='multinomial', solver='saga').fit(X_scaled, trainY_2)\n",
        "#Perform backwards feature selection\n",
        "\n",
        "selector = SelectFromModel(estimator=log_reg, prefit=True, max_features=p)\n",
        "features = selector.get_support()\n",
        "#Transform the features\n",
        "sel = selector.transform(X_scaled)"
      ],
      "execution_count": 262,
      "outputs": [
        {
          "output_type": "stream",
          "text": [
            "/usr/local/lib/python3.6/dist-packages/sklearn/linear_model/_sag.py:330: ConvergenceWarning: The max_iter was reached which means the coef_ did not converge\n",
            "  \"the coef_ did not converge\", ConvergenceWarning)\n"
          ],
          "name": "stderr"
        }
      ]
    },
    {
      "cell_type": "code",
      "metadata": {
        "id": "wHUjfwsqRgUr",
        "colab_type": "code",
        "colab": {
          "base_uri": "https://localhost:8080/",
          "height": 51
        },
        "outputId": "af9fb98f-c495-4e67-f923-7ca1fd5cb408"
      },
      "source": [
        "log_reg = LogisticRegression(penalty='l1', multi_class='multinomial', solver='saga').fit(sel, trainY_2)"
      ],
      "execution_count": 263,
      "outputs": [
        {
          "output_type": "stream",
          "text": [
            "/usr/local/lib/python3.6/dist-packages/sklearn/linear_model/_sag.py:330: ConvergenceWarning: The max_iter was reached which means the coef_ did not converge\n",
            "  \"the coef_ did not converge\", ConvergenceWarning)\n"
          ],
          "name": "stderr"
        }
      ]
    },
    {
      "cell_type": "code",
      "metadata": {
        "id": "O_agPY2aRjRX",
        "colab_type": "code",
        "colab": {
          "base_uri": "https://localhost:8080/",
          "height": 255
        },
        "outputId": "613ba7db-8484-4b3e-ac35-30d7f29147fd"
      },
      "source": [
        "#Predict test labels\n",
        "predictions = log_reg.predict(sel)\n",
        "#Get scores of train labels\n",
        "scores = log_reg.score(sel, trainY_2)\n",
        "#Predict the probability of positive test label\n",
        "probs = log_reg.predict_proba(sel)\n",
        "probs = probs[:,1]\n",
        "from sklearn import metrics\n",
        "#Precision, recall, F1\n",
        "print(\"Classification Report:\")\n",
        "print(classification_report(trainY_2,predictions))"
      ],
      "execution_count": 264,
      "outputs": [
        {
          "output_type": "stream",
          "text": [
            "Classification Report:\n",
            "              precision    recall  f1-score   support\n",
            "\n",
            "           1       0.99      1.00      0.99       234\n",
            "           2       1.00      0.96      0.98        52\n",
            "           3       1.00      1.00      1.00        52\n",
            "           4       0.96      1.00      0.98        52\n",
            "           5       1.00      0.94      0.97        52\n",
            "           6       1.00      1.00      1.00        52\n",
            "\n",
            "    accuracy                           0.99       494\n",
            "   macro avg       0.99      0.98      0.99       494\n",
            "weighted avg       0.99      0.99      0.99       494\n",
            "\n"
          ],
          "name": "stdout"
        }
      ]
    },
    {
      "cell_type": "code",
      "metadata": {
        "id": "QxIbX03nRlzj",
        "colab_type": "code",
        "colab": {
          "base_uri": "https://localhost:8080/",
          "height": 136
        },
        "outputId": "e286de28-5c0f-4f7c-b52a-576dcc87ff2d"
      },
      "source": [
        "#Confusion Matrix\n",
        "cm = metrics.confusion_matrix(trainY_2, predictions)\n",
        "print(\"Confusion Matrix: \\n\", cm)"
      ],
      "execution_count": 265,
      "outputs": [
        {
          "output_type": "stream",
          "text": [
            "Confusion Matrix: \n",
            " [[234   0   0   0   0   0]\n",
            " [  2  50   0   0   0   0]\n",
            " [  0   0  52   0   0   0]\n",
            " [  0   0   0  52   0   0]\n",
            " [  1   0   0   2  49   0]\n",
            " [  0   0   0   0   0  52]]\n"
          ],
          "name": "stdout"
        }
      ]
    },
    {
      "cell_type": "code",
      "metadata": {
        "id": "OpvEDrscRn3U",
        "colab_type": "code",
        "colab": {
          "base_uri": "https://localhost:8080/",
          "height": 329
        },
        "outputId": "d1181975-8b60-47a2-ac76-c6b9b60d9a60"
      },
      "source": [
        "#Calcualte ROC features\n",
        "fpr, tpr, thresholds = metrics.roc_curve(trainY_2, probs, pos_label=1)\n",
        "#Calculate AUC\n",
        "roc_auc = metrics.auc(fpr, tpr)\n",
        "\n",
        "#Plot ROC\n",
        "print('AUC: ', roc_auc)\n",
        "print(\"ROC:\")\n",
        "plt.title('ROC Plot')\n",
        "plt.plot(fpr, tpr, 'b', label='AUC = %0.2f'%roc_auc)\n",
        "plt.plot([0, 1], [0, 1],'r--')\n",
        "plt.ylabel('TPR')\n",
        "plt.xlabel('FPR')\n",
        "plt.show()"
      ],
      "execution_count": 266,
      "outputs": [
        {
          "output_type": "stream",
          "text": [
            "AUC:  0.45309007232084153\n",
            "ROC:\n"
          ],
          "name": "stdout"
        },
        {
          "output_type": "display_data",
          "data": {
            "image/png": "[encoded data removed]",
            "text/plain": [
              "<Figure size 432x288 with 1 Axes>"
            ]
          },
          "metadata": {
            "tags": [],
            "needs_background": "light"
          }
        }
      ]
    },
    {
      "cell_type": "markdown",
      "metadata": {
        "id": "arqiSCPou_pv",
        "colab_type": "text"
      },
      "source": [
        "#### ii. Repeat 1(f)i using a Na ̈ıve Bayes’ classifier. Use both Gaussian and Multi-nomial priors and compare the results."
      ]
    },
    {
      "cell_type": "code",
      "metadata": {
        "id": "iRlIg9ZxSzp_",
        "colab_type": "code",
        "colab": {}
      },
      "source": [
        "from sklearn.naive_bayes import MultinomialNB\n",
        "lpTable4 = pd.DataFrame(columns=[\"l\",\"p\",\"cv score\"])"
      ],
      "execution_count": 0,
      "outputs": []
    },
    {
      "cell_type": "code",
      "metadata": {
        "id": "Nh58Sa6TS3-q",
        "colab_type": "code",
        "colab": {}
      },
      "source": [
        "for l in range(1,21):\n",
        "  trainX_2 = pd.DataFrame()\n",
        "  trainY_2 = pd.DataFrame()\n",
        "  #For each dataset in the training 'folder'\n",
        "  for i in range(0,len(train)):\n",
        "    sz = train[i].shape[0]\n",
        "    idx = int(sz/l)\n",
        "    series = []\n",
        "    #Find the split index points for the dataset and create subarrays of them\n",
        "    for j in range(0,l):\n",
        "      series.append(train[i].iloc[(idx*j):(idx+(j*idx)), 1:8])\n",
        "\n",
        "    series1 = pd.DataFrame()\n",
        "    #Iterate thru each subarray and add it to the final array\n",
        "    c=0\n",
        "    for s in series:\n",
        "      series1.loc[:,extraCols[c]] = pd.Series(s.var_rss12.tolist())\n",
        "      c+=1\n",
        "      series1.loc[:,extraCols[c]] = pd.Series(s.var_rss12.tolist())\n",
        "      c+=1\n",
        "      series1.loc[:,extraCols[c]] = pd.Series(s.avg_rss13.tolist())\n",
        "      c+=1\n",
        "      series1.loc[:,extraCols[c]] = pd.Series(s.var_rss13.tolist())\n",
        "      c+=1\n",
        "      series1.loc[:,extraCols[c]] = pd.Series(s.vg_rss23.tolist())\n",
        "      c+=1\n",
        "      series1.loc[:,extraCols[c]] = pd.Series(s.ar_rss23.tolist())\n",
        "      c+=1\n",
        "    #Table to hold activity class for this dataset (so that it aligns with the X indices)\n",
        "    sz2 = series1.shape[0]\n",
        "    d = pd.DataFrame(train[i].activity, index=np.arange(sz2))\n",
        "\n",
        "    #Add the X and Y sets to the overall training and testing sets\n",
        "    trainX_2 = trainX_2.append(series1)\n",
        "    trainY_2 = trainY_2.append(d)\n",
        "    \n",
        "  trainX_2 = trainX_2.fillna(trainX_2.mean())\n",
        "  trainY_2 = trainY_2.values.ravel()\n",
        "\n",
        "  #Create a new naiive bayes classifier\n",
        "  g = MultinomialNB()\n",
        "  g.fit(trainX_2, trainY_2)\n",
        "  \n",
        "  #Perform backwards feature selection\n",
        "  selector = SelectFromModel(estimator=g, prefit=True)\n",
        "  features = selector.get_support()\n",
        "  #Transform the features\n",
        "  sel = selector.transform(trainX_2)\n",
        "  #Do 5-fold CV \n",
        "  kfold = KFold(n_splits=5)\n",
        "  model = MultinomialNB()\n",
        "  #Get cross validation score for the model\n",
        "  results = cross_val_score(model, sel, trainY_2, cv=kfold)\n",
        "\n",
        "  numFeatures = sum(features)\n",
        "  lpTable4.loc[len(lpTable4)] = [l, numFeatures, results.mean()]"
      ],
      "execution_count": 0,
      "outputs": []
    },
    {
      "cell_type": "code",
      "metadata": {
        "id": "FTHBavezb6Ip",
        "colab_type": "code",
        "colab": {
          "base_uri": "https://localhost:8080/",
          "height": 102
        },
        "outputId": "7db24d0f-28b5-4714-9412-777793fd4d4f"
      },
      "source": [
        "lpTable4 = lpTable4.sort_values(by='cv score', ascending=False)\n",
        "print(\"Best l, p combo:\\n\", lpTable3.iloc[0,:])\n",
        "#l=18, p=32"
      ],
      "execution_count": 286,
      "outputs": [
        {
          "output_type": "stream",
          "text": [
            "Best l, p combo:\n",
            " l            18.000000\n",
            "p           108.000000\n",
            "cv score      0.680027\n",
            "Name: 31, dtype: float64\n"
          ],
          "name": "stdout"
        }
      ]
    },
    {
      "cell_type": "code",
      "metadata": {
        "id": "JXxrFEpoSu2d",
        "colab_type": "code",
        "colab": {}
      },
      "source": [
        "#Fit the classifier with the above parameters and try on training set\n",
        "l=18\n",
        "p=108\n",
        "trainX_2 = pd.DataFrame()\n",
        "trainY_2 = pd.DataFrame()\n",
        "#For each dataset in the training 'folder'\n",
        "for i in range(0,len(train)):\n",
        "  sz = train[i].shape[0]\n",
        "  idx = int(sz/l)\n",
        "  series = []\n",
        "  #Find the split index points for the dataset and create subarrays of them\n",
        "  for j in range(0,l):\n",
        "    series.append(train[i].iloc[(idx*j):(idx+(j*idx)), 1:8])\n",
        "  series1 = pd.DataFrame()\n",
        "  #Iterate thru each subarray and add it to the final array\n",
        "  c=0\n",
        "  for s in series:\n",
        "    series1.loc[:,extraCols[c]] = pd.Series(s.var_rss12.tolist())\n",
        "    c+=1\n",
        "    series1.loc[:,extraCols[c]] = pd.Series(s.var_rss12.tolist())\n",
        "    c+=1\n",
        "    series1.loc[:,extraCols[c]] = pd.Series(s.avg_rss13.tolist())\n",
        "    c+=1\n",
        "    series1.loc[:,extraCols[c]] = pd.Series(s.var_rss13.tolist())\n",
        "    c+=1\n",
        "    series1.loc[:,extraCols[c]] = pd.Series(s.vg_rss23.tolist())\n",
        "    c+=1\n",
        "    series1.loc[:,extraCols[c]] = pd.Series(s.ar_rss23.tolist())\n",
        "    c+=1\n",
        "  #Table to hold activity class for this dataset (so that it aligns with the X indices)\n",
        "  sz2 = series1.shape[0]\n",
        "  d = pd.DataFrame(train[i].activity, index=np.arange(sz2))\n",
        "\n",
        "  #Add the X and Y sets to the overall training and testing sets\n",
        "  trainX_2 = trainX_2.append(series1)\n",
        "  trainY_2 = trainY_2.append(d)\n",
        "  \n",
        "trainX_2 = trainX_2.fillna(trainX_2.mean())\n",
        "trainY_2['activity'].replace('bending',1, inplace=True)\n",
        "trainY_2['activity'].replace('walking',2, inplace=True)\n",
        "trainY_2['activity'].replace('lying',3, inplace=True)\n",
        "trainY_2['activity'].replace('sitting',4, inplace=True)\n",
        "trainY_2['activity'].replace('standing',5, inplace=True)\n",
        "trainY_2['activity'].replace('cycling',6, inplace=True)\n",
        "trainY_2 = trainY_2.values.ravel()\n",
        "\n",
        "g = MultinomialNB()\n",
        "g.fit(trainX_2, trainY_2)\n",
        "\n",
        "selector = SelectFromModel(estimator=g, prefit=True)\n"
      ],
      "execution_count": 0,
      "outputs": []
    },
    {
      "cell_type": "code",
      "metadata": {
        "id": "4BWs2QLzdett",
        "colab_type": "code",
        "colab": {}
      },
      "source": [
        "features = selector.get_support()\n",
        "# #Transform the features\n",
        "sel = selector.transform(trainX_2)"
      ],
      "execution_count": 0,
      "outputs": []
    },
    {
      "cell_type": "code",
      "metadata": {
        "id": "KTHX9aPZSpPk",
        "colab_type": "code",
        "colab": {}
      },
      "source": [
        "#Create a new naiive bayes classifier\n",
        "g = MultinomialNB().fit(sel, trainY_2)\n",
        "#Fit with the training data\n",
        "predictions = g.predict(sel)"
      ],
      "execution_count": 0,
      "outputs": []
    },
    {
      "cell_type": "code",
      "metadata": {
        "id": "RXhIm_zMdsRt",
        "colab_type": "code",
        "colab": {}
      },
      "source": [
        "#Make predictions for test data\n",
        "probs = g.predict_proba(sel)\n",
        "probs = probs[:,1]"
      ],
      "execution_count": 0,
      "outputs": []
    },
    {
      "cell_type": "code",
      "metadata": {
        "id": "UikxjrW_eOA4",
        "colab_type": "code",
        "colab": {
          "base_uri": "https://localhost:8080/",
          "height": 465
        },
        "outputId": "932947a6-e310-4807-d965-4b0419848eba"
      },
      "source": [
        "#Confusion Matrix\n",
        "cm = metrics.confusion_matrix(trainY_2, predictions)\n",
        "print(\"Multinomial Naiive Bayes Train Confusion Matrix: \\n\", cm)\n",
        "\n",
        "#plot ROC\n",
        "fpr, tpr, thresholds = metrics.roc_curve(trainY_2, probs, pos_label=1)\n",
        "roc_auc = metrics.auc(fpr, tpr)\n",
        "\n",
        "print('\\nMultinomial NB Train AUC: ', roc_auc)\n",
        "print(\"Multinomial NB Train ROC:\")\n",
        "plt.title('Multinomial NB Train ROC Plot')\n",
        "plt.plot(fpr, tpr, 'b', label='AUC = %0.2f'%roc_auc)\n",
        "plt.plot([0, 1], [0, 1],'r--')\n",
        "plt.ylabel('TPR')\n",
        "plt.xlabel('FPR')\n",
        "plt.show()"
      ],
      "execution_count": 311,
      "outputs": [
        {
          "output_type": "stream",
          "text": [
            "Multinomial Naiive Bayes Train Confusion Matrix: \n",
            " [[ 74  13  13  40  37  57]\n",
            " [  0 277   0   0   0  35]\n",
            " [  6  54 109  39  39  65]\n",
            " [ 16   0  43 166  68  19]\n",
            " [ 23   0  28  41 209  11]\n",
            " [ 32  44  29  11   2 194]]\n",
            "\n",
            "Multinomial NB Train AUC:  0.46950197238658775\n",
            "Multinomial NB Train ROC:\n"
          ],
          "name": "stdout"
        },
        {
          "output_type": "display_data",
          "data": {
            "image/png": "[encoded data removed]",
            "text/plain": [
              "<Figure size 432x288 with 1 Axes>"
            ]
          },
          "metadata": {
            "tags": [],
            "needs_background": "light"
          }
        }
      ]
    },
    {
      "cell_type": "markdown",
      "metadata": {
        "id": "x-mio_BUvED3",
        "colab_type": "text"
      },
      "source": [
        "#### iii. Which method is better for multi-class classification in this problem?"
      ]
    },
    {
      "cell_type": "markdown",
      "metadata": {
        "id": "CAhK7falfKq9",
        "colab_type": "text"
      },
      "source": [
        "The logistic regression performed significantly better than the Naiive Bayes, so the logistic regression is better for multi-class classification in this problem."
      ]
    }
  ]
}