{
 "cells": [
  {
   "cell_type": "markdown",
   "metadata": {},
   "source": [
    "Elisabeth Vehling\n",
    "INF 352\n",
    "Lab 6"
   ]
  },
  {
   "cell_type": "markdown",
   "metadata": {},
   "source": [
    "# Deep CNNs for Image Colorization "
   ]
  },
  {
   "cell_type": "markdown",
   "metadata": {},
   "source": [
    " **1(a) Download dataset**"
   ]
  },
  {
   "cell_type": "code",
   "execution_count": 405,
   "metadata": {},
   "outputs": [],
   "source": [
    "import tensorflow as tf\n",
    "import tensorflow.keras as tfk\n",
    "import matplotlib.pyplot as plt\n",
    "import numpy as np"
   ]
  },
  {
   "cell_type": "code",
   "execution_count": 406,
   "metadata": {},
   "outputs": [],
   "source": [
    "(xtrain, ytrain), (xtest, ytest) = tfk.datasets.cifar10.load_data()"
   ]
  },
  {
   "cell_type": "code",
   "execution_count": 408,
   "metadata": {},
   "outputs": [],
   "source": [
    "data = np.concatenate([xtrain, xtest])\n",
    "ys = np.concatenate([ytrain, ytest])"
   ]
  },
  {
   "cell_type": "markdown",
   "metadata": {},
   "source": [
    "**1(b) Extract the birds class from train and test set**"
   ]
  },
  {
   "cell_type": "code",
   "execution_count": 409,
   "metadata": {},
   "outputs": [],
   "source": [
    "x = data[(ys==2).reshape(-1)] #6000 members"
   ]
  },
  {
   "cell_type": "markdown",
   "metadata": {},
   "source": [
    "**1(c) Choose at least 10% of the pixels randomly (between P=61440 and P=6144000 pixels**"
   ]
  },
  {
   "cell_type": "code",
   "execution_count": 412,
   "metadata": {},
   "outputs": [],
   "source": [
    "from numpy import random\n",
    "#Select random 10% subsample from all x data\n",
    "r = x[np.random.choice(x.shape[0], 6000, replace=False), :]"
   ]
  },
  {
   "cell_type": "code",
   "execution_count": 414,
   "metadata": {},
   "outputs": [
    {
     "data": {
      "text/plain": [
       "6144000"
      ]
     },
     "execution_count": 414,
     "metadata": {},
     "output_type": "execute_result"
    }
   ],
   "source": [
    "#r = 6144000 pixels\n",
    "pixels = []\n",
    "#Add the pixel vectors\n",
    "for i in range(0,6000):\n",
    "    for j in range(0,32):\n",
    "        for k in range(0,32):\n",
    "            pixels.append(r[i,j,k])\n",
    "len(pixels)"
   ]
  },
  {
   "cell_type": "markdown",
   "metadata": {},
   "source": [
    "**1(d) Run K-means clustering on the P vectors using k=4. Centers of clusters will be main colors.**"
   ]
  },
  {
   "cell_type": "code",
   "execution_count": 415,
   "metadata": {},
   "outputs": [],
   "source": [
    "import sklearn as sk\n",
    "from sklearn.cluster import KMeans"
   ]
  },
  {
   "cell_type": "code",
   "execution_count": 416,
   "metadata": {},
   "outputs": [],
   "source": [
    "km = KMeans(n_clusters=4, random_state=0).fit(pixels)"
   ]
  },
  {
   "cell_type": "code",
   "execution_count": 417,
   "metadata": {},
   "outputs": [
    {
     "data": {
      "text/plain": [
       "[array([107, 107,  81], dtype=int32),\n",
       " array([205, 210, 210], dtype=int32),\n",
       " array([155, 154, 133], dtype=int32),\n",
       " array([48, 49, 37], dtype=int32)]"
      ]
     },
     "execution_count": 417,
     "metadata": {},
     "output_type": "execute_result"
    }
   ],
   "source": [
    "#Centers of clusters (aka main colors)\n",
    "[c1,c2,c3,c4] = km.cluster_centers_\n",
    "\n",
    "c1 = c1.astype('int32')\n",
    "c2 = c2.astype('int32')\n",
    "c3 = c3.astype('int32')\n",
    "c4 = c4.astype('int32')\n",
    "\n",
    "clusters = [c1, c2, c3, c4]\n",
    "clusters"
   ]
  },
  {
   "cell_type": "markdown",
   "metadata": {},
   "source": [
    "**1(d) Convert colored images to k-color images by converting each pixel's value to the closest main color in terms of Euclidean distance**"
   ]
  },
  {
   "cell_type": "code",
   "execution_count": 418,
   "metadata": {},
   "outputs": [],
   "source": [
    "from numpy import linalg"
   ]
  },
  {
   "cell_type": "code",
   "execution_count": 419,
   "metadata": {},
   "outputs": [],
   "source": [
    "#Convert to one hot encoding\n",
    "\n",
    "#New matrix to store one hot encoded colors\n",
    "newX = np.zeros(shape=(6000,32,32,4),dtype='int32') \n",
    "\n",
    "#Iterate thru each pixel and find closest cluster\n",
    "for i in range(0,6000):\n",
    "    for j in range(0,32):\n",
    "        for k in range(0,32):\n",
    "            #Get the pixel vector from original array\n",
    "            old = x[i,j,k]\n",
    "            \n",
    "            #To store min cluster and distance\n",
    "            minC = 0\n",
    "            minDist = 1000\n",
    "            \n",
    "            #Iterate thru each cluster and calculate the distance\n",
    "            for c in range(0,4):\n",
    "                dist = linalg.norm(old-clusters[c])\n",
    "                #Replace if it's the minimum distance so far\n",
    "                if dist < minDist:\n",
    "                    minDist = dist\n",
    "                    minC = c\n",
    "            #Assign the nearest cluster as the encoded class of the pixel\n",
    "            newX[i,j,k,minC] = 1"
   ]
  },
  {
   "cell_type": "markdown",
   "metadata": {},
   "source": [
    "**1(e) Obtain grayscale 32x32x1 images from the original 32x32x3 images**"
   ]
  },
  {
   "cell_type": "code",
   "execution_count": 420,
   "metadata": {},
   "outputs": [],
   "source": [
    "#Convert  data to grayscale images\n",
    "gray = tf.image.rgb_to_grayscale(x)\n",
    "graytrain = gray[0:5000]\n",
    "graytest = gray[5000:]"
   ]
  },
  {
   "cell_type": "code",
   "execution_count": 421,
   "metadata": {},
   "outputs": [],
   "source": [
    "newX = newX.reshape(-1, 32*32*4)"
   ]
  },
  {
   "cell_type": "markdown",
   "metadata": {},
   "source": [
    "**1(f) Set up a deep CNN with two convolution layers and two MLP layers. Use 5x5 filters and a softmax output layer. Determine # of filters, strides, and whether or not to use padding. Use a min of one max pooling layer. Use a classiciation scheme**"
   ]
  },
  {
   "cell_type": "code",
   "execution_count": 422,
   "metadata": {},
   "outputs": [],
   "source": [
    "newX = newX.astype('float32')\n",
    "newXtrain = newX[0:5000]\n",
    "newXtest = newX[5000:]"
   ]
  },
  {
   "cell_type": "code",
   "execution_count": 424,
   "metadata": {},
   "outputs": [
    {
     "name": "stdout",
     "output_type": "stream",
     "text": [
      "Train on 4500 samples, validate on 500 samples\n",
      "Epoch 1/30\n",
      "4500/4500 [==============================] - 11s 2ms/sample - loss: 0.5516 - val_loss: 0.4868\n",
      "Epoch 2/30\n",
      "4500/4500 [==============================] - 11s 2ms/sample - loss: 0.4827 - val_loss: 0.4702\n",
      "Epoch 3/30\n",
      "4500/4500 [==============================] - 11s 2ms/sample - loss: 0.4627 - val_loss: 0.4652\n",
      "Epoch 4/30\n",
      "4500/4500 [==============================] - 11s 2ms/sample - loss: 0.4438 - val_loss: 0.4505\n",
      "Epoch 5/30\n",
      "4500/4500 [==============================] - 12s 3ms/sample - loss: 0.4307 - val_loss: 0.4377\n",
      "Epoch 6/30\n",
      "4500/4500 [==============================] - 12s 3ms/sample - loss: 0.4169 - val_loss: 0.4389\n",
      "Epoch 7/30\n",
      "4500/4500 [==============================] - 12s 3ms/sample - loss: 0.4054 - val_loss: 0.4354\n",
      "Epoch 8/30\n",
      "4500/4500 [==============================] - 12s 3ms/sample - loss: 0.3926 - val_loss: 0.4270\n",
      "Epoch 9/30\n",
      "4500/4500 [==============================] - 11s 3ms/sample - loss: 0.3767 - val_loss: 0.4259\n",
      "Epoch 10/30\n",
      "4500/4500 [==============================] - 11s 3ms/sample - loss: 0.3639 - val_loss: 0.4287\n",
      "Epoch 11/30\n",
      "4500/4500 [==============================] - 11s 3ms/sample - loss: 0.3502 - val_loss: 0.4444\n",
      "Epoch 12/30\n",
      "4500/4500 [==============================] - 11s 3ms/sample - loss: 0.3372 - val_loss: 0.4555\n",
      "Epoch 13/30\n",
      "4500/4500 [==============================] - 12s 3ms/sample - loss: 0.3252 - val_loss: 0.4395\n",
      "Epoch 14/30\n",
      "4500/4500 [==============================] - 11s 3ms/sample - loss: 0.3182 - val_loss: 0.4392\n",
      "Epoch 15/30\n",
      "4500/4500 [==============================] - 11s 2ms/sample - loss: 0.3093 - val_loss: 0.4512\n",
      "Epoch 16/30\n",
      "4500/4500 [==============================] - 12s 3ms/sample - loss: 0.2996 - val_loss: 0.4868\n",
      "Epoch 17/30\n",
      "4500/4500 [==============================] - 12s 3ms/sample - loss: 0.2896 - val_loss: 0.4644\n",
      "Epoch 18/30\n",
      "4500/4500 [==============================] - 12s 3ms/sample - loss: 0.2805 - val_loss: 0.4707\n",
      "Epoch 19/30\n",
      "4500/4500 [==============================] - 11s 3ms/sample - loss: 0.2748 - val_loss: 0.4859\n",
      "Epoch 20/30\n",
      "4500/4500 [==============================] - 11s 3ms/sample - loss: 0.2686 - val_loss: 0.4763\n",
      "Epoch 21/30\n",
      "4500/4500 [==============================] - 11s 3ms/sample - loss: 0.2644 - val_loss: 0.4810\n",
      "Epoch 22/30\n",
      "4500/4500 [==============================] - 11s 3ms/sample - loss: 0.2587 - val_loss: 0.4889\n",
      "Epoch 23/30\n",
      "4500/4500 [==============================] - 12s 3ms/sample - loss: 0.2530 - val_loss: 0.4951\n",
      "Epoch 24/30\n",
      "4500/4500 [==============================] - 12s 3ms/sample - loss: 0.2496 - val_loss: 0.5071\n",
      "Epoch 25/30\n",
      "4500/4500 [==============================] - 11s 3ms/sample - loss: 0.2469 - val_loss: 0.5117\n",
      "Epoch 26/30\n",
      "4500/4500 [==============================] - 12s 3ms/sample - loss: 0.2457 - val_loss: 0.5103\n",
      "Epoch 27/30\n",
      "4500/4500 [==============================] - 12s 3ms/sample - loss: 0.2425 - val_loss: 0.5191\n",
      "Epoch 28/30\n",
      "4500/4500 [==============================] - 12s 3ms/sample - loss: 0.2378 - val_loss: 0.5319\n",
      "Epoch 29/30\n",
      "4500/4500 [==============================] - 12s 3ms/sample - loss: 0.2350 - val_loss: 0.5363\n",
      "Epoch 30/30\n",
      "4500/4500 [==============================] - 12s 3ms/sample - loss: 0.2318 - val_loss: 0.5429\n"
     ]
    }
   ],
   "source": [
    "#Create a tf model\n",
    "model = tfk.Sequential()\n",
    "\n",
    "#Add 2 convolutional layers\n",
    "model.add(tfk.layers.Conv2D(filters = 64, kernel_size=5, strides=1,activation='relu', input_shape=(32,32,1)))\n",
    "model.add(tfk.layers.Conv2D(filters = 64, kernel_size=5, strides=2,activation='relu'))\n",
    "    \n",
    "#Flatten before passing through MLP\n",
    "model.add(tfk.layers.Flatten())\n",
    "\n",
    "#Add 2 MLP layers\n",
    "model.add(tfk.layers.Dense(512, activation='relu'))\n",
    "\n",
    "#Second layer must have 4069 neurons (output layer)\n",
    "model.add(tfk.layers.Dense(4096, activation='linear'))\n",
    "\n",
    "#define loss\n",
    "#use a loss function that supports multilabel classification\n",
    "def lossF(y_actual, y_pred):\n",
    "    loss = tf.nn.sigmoid_cross_entropy_with_logits(y_actual, y_pred)\n",
    "    return tf.reduce_mean(loss)\n",
    "\n",
    "\n",
    "optimizer = tfk.optimizers.Adam(1e-3)\n",
    "\n",
    "#compile model\n",
    "model.compile(loss=lossF, optimizer=optimizer)\n",
    "\n",
    "#start training the model\n",
    "history = model.fit(x=graytrain, y=newXtrain, validation_split = 0.1, epochs=30, batch_size=32)"
   ]
  },
  {
   "cell_type": "code",
   "execution_count": 425,
   "metadata": {},
   "outputs": [
    {
     "name": "stdout",
     "output_type": "stream",
     "text": [
      "1000/1000 [==============================] - 0s 490us/sample - loss: 0.5708\n",
      "test loss, test acc: 0.5707771310806274\n"
     ]
    }
   ],
   "source": [
    "# # Evaluate the model on the test data using `evaluate`\n",
    "results = model.evaluate(graytest, newXtest, batch_size=128)\n",
    "print('test loss:', results)"
   ]
  },
  {
   "cell_type": "code",
   "execution_count": 426,
   "metadata": {},
   "outputs": [
    {
     "name": "stdout",
     "output_type": "stream",
     "text": [
      "dict_keys(['loss', 'val_loss'])\n"
     ]
    },
    {
     "data": {
      "image/png": "[encoded data removed]",
      "text/plain": [
       "<Figure size 432x288 with 1 Axes>"
      ]
     },
     "metadata": {
      "needs_background": "light"
     },
     "output_type": "display_data"
    }
   ],
   "source": [
    "print(history.history.keys())\n",
    "# summarize history for loss\n",
    "plt.plot(history.history['loss'])\n",
    "plt.plot(history.history['val_loss'])\n",
    "plt.title('model loss')\n",
    "plt.ylabel('loss')\n",
    "plt.xlabel('epoch')\n",
    "plt.legend(['train', 'test'], loc='upper left')\n",
    "plt.show()"
   ]
  },
  {
   "cell_type": "code",
   "execution_count": 431,
   "metadata": {},
   "outputs": [],
   "source": [
    "clusters = [c1, c2, c3, c4]\n",
    "out = model.predict(x=graytrain[0:5000]).reshape(5000,32,32,4)\n",
    "\n",
    "#Output array to store converted RGB values\n",
    "finalOut = np.zeros(shape=(6000,32,32,3),dtype='int32') \n",
    "\n",
    "#find max\n",
    "for i in range(0,5000):\n",
    "    for j in range(0,32):\n",
    "        for k in range(0,32):\n",
    "            m = np.argmax(out[i,j,k])\n",
    "            #Assign to nearest cluster\n",
    "            finalOut[i,j,k] = clusters[m]"
   ]
  },
  {
   "cell_type": "code",
   "execution_count": 453,
   "metadata": {},
   "outputs": [
    {
     "name": "stdout",
     "output_type": "stream",
     "text": [
      "Image 1\n"
     ]
    },
    {
     "data": {
      "text/plain": [
       "<matplotlib.image.AxesImage at 0x1fd5487d0>"
      ]
     },
     "execution_count": 453,
     "metadata": {},
     "output_type": "execute_result"
    },
    {
     "data": {
      "image/png": "[encoded data removed]",
      "text/plain": [
       "<Figure size 432x288 with 2 Axes>"
      ]
     },
     "metadata": {
      "needs_background": "light"
     },
     "output_type": "display_data"
    }
   ],
   "source": [
    "#compare 10 artifically colored images with original images\n",
    "print(\"Image 1\")\n",
    "f, axarr = plt.subplots(2,1) \n",
    "axarr[0].imshow(x[0])\n",
    "axarr[1].imshow(finalOut[0])"
   ]
  },
  {
   "cell_type": "code",
   "execution_count": 454,
   "metadata": {},
   "outputs": [
    {
     "name": "stdout",
     "output_type": "stream",
     "text": [
      "Image 2\n"
     ]
    },
    {
     "data": {
      "text/plain": [
       "<matplotlib.image.AxesImage at 0x1fd57d250>"
      ]
     },
     "execution_count": 454,
     "metadata": {},
     "output_type": "execute_result"
    },
    {
     "data": {
      "image/png": "[encoded data removed]",
      "text/plain": [
       "<Figure size 432x288 with 2 Axes>"
      ]
     },
     "metadata": {
      "needs_background": "light"
     },
     "output_type": "display_data"
    }
   ],
   "source": [
    "print(\"Image 2\")\n",
    "f, axarr = plt.subplots(2,1) \n",
    "axarr[0].imshow(x[1])\n",
    "axarr[1].imshow(finalOut[1])"
   ]
  },
  {
   "cell_type": "code",
   "execution_count": 463,
   "metadata": {},
   "outputs": [
    {
     "name": "stdout",
     "output_type": "stream",
     "text": [
      "Image 3\n"
     ]
    },
    {
     "data": {
      "text/plain": [
       "<matplotlib.image.AxesImage at 0x150a7bc50>"
      ]
     },
     "execution_count": 463,
     "metadata": {},
     "output_type": "execute_result"
    },
    {
     "data": {
      "image/png": "[encoded data removed]",
      "text/plain": [
       "<Figure size 432x288 with 2 Axes>"
      ]
     },
     "metadata": {
      "needs_background": "light"
     },
     "output_type": "display_data"
    }
   ],
   "source": [
    "print(\"Image 3\")\n",
    "f, axarr = plt.subplots(2,1) \n",
    "axarr[0].imshow(x[2])\n",
    "axarr[1].imshow(finalOut[2])"
   ]
  },
  {
   "cell_type": "code",
   "execution_count": 464,
   "metadata": {},
   "outputs": [
    {
     "name": "stdout",
     "output_type": "stream",
     "text": [
      "Image 4\n"
     ]
    },
    {
     "data": {
      "text/plain": [
       "<matplotlib.image.AxesImage at 0x1466e51d0>"
      ]
     },
     "execution_count": 464,
     "metadata": {},
     "output_type": "execute_result"
    },
    {
     "data": {
      "image/png": "[encoded data removed]",
      "text/plain": [
       "<Figure size 432x288 with 2 Axes>"
      ]
     },
     "metadata": {
      "needs_background": "light"
     },
     "output_type": "display_data"
    }
   ],
   "source": [
    "print(\"Image 4\")\n",
    "f, axarr = plt.subplots(2,1) \n",
    "axarr[0].imshow(x[3])\n",
    "axarr[1].imshow(finalOut[3])"
   ]
  },
  {
   "cell_type": "code",
   "execution_count": 465,
   "metadata": {},
   "outputs": [
    {
     "name": "stdout",
     "output_type": "stream",
     "text": [
      "Image 5\n"
     ]
    },
    {
     "data": {
      "text/plain": [
       "<matplotlib.image.AxesImage at 0x1466e1690>"
      ]
     },
     "execution_count": 465,
     "metadata": {},
     "output_type": "execute_result"
    },
    {
     "data": {
      "image/png": "[encoded data removed]",
      "text/plain": [
       "<Figure size 432x288 with 2 Axes>"
      ]
     },
     "metadata": {
      "needs_background": "light"
     },
     "output_type": "display_data"
    }
   ],
   "source": [
    "print(\"Image 5\")\n",
    "f, axarr = plt.subplots(2,1) \n",
    "axarr[0].imshow(x[4])\n",
    "axarr[1].imshow(finalOut[4])"
   ]
  },
  {
   "cell_type": "code",
   "execution_count": 466,
   "metadata": {},
   "outputs": [
    {
     "name": "stdout",
     "output_type": "stream",
     "text": [
      "Image 6\n"
     ]
    },
    {
     "data": {
      "text/plain": [
       "<matplotlib.image.AxesImage at 0x14ed93650>"
      ]
     },
     "execution_count": 466,
     "metadata": {},
     "output_type": "execute_result"
    },
    {
     "data": {
      "image/png": "[encoded data removed]",
      "text/plain": [
       "<Figure size 432x288 with 2 Axes>"
      ]
     },
     "metadata": {
      "needs_background": "light"
     },
     "output_type": "display_data"
    }
   ],
   "source": [
    "print(\"Image 6\")\n",
    "f, axarr = plt.subplots(2,1) \n",
    "axarr[0].imshow(x[5])\n",
    "axarr[1].imshow(finalOut[5])"
   ]
  },
  {
   "cell_type": "code",
   "execution_count": 467,
   "metadata": {},
   "outputs": [
    {
     "name": "stdout",
     "output_type": "stream",
     "text": [
      "Image 7\n"
     ]
    },
    {
     "data": {
      "text/plain": [
       "<matplotlib.image.AxesImage at 0x1fcdf7dd0>"
      ]
     },
     "execution_count": 467,
     "metadata": {},
     "output_type": "execute_result"
    },
    {
     "data": {
      "image/png": "[encoded data removed]",
      "text/plain": [
       "<Figure size 432x288 with 2 Axes>"
      ]
     },
     "metadata": {
      "needs_background": "light"
     },
     "output_type": "display_data"
    }
   ],
   "source": [
    "print(\"Image 7\")\n",
    "f, axarr = plt.subplots(2,1) \n",
    "axarr[0].imshow(x[6])\n",
    "axarr[1].imshow(finalOut[6])"
   ]
  },
  {
   "cell_type": "code",
   "execution_count": 468,
   "metadata": {},
   "outputs": [
    {
     "name": "stdout",
     "output_type": "stream",
     "text": [
      "Image 8\n"
     ]
    },
    {
     "data": {
      "text/plain": [
       "<matplotlib.image.AxesImage at 0x14ed41d90>"
      ]
     },
     "execution_count": 468,
     "metadata": {},
     "output_type": "execute_result"
    },
    {
     "data": {
      "image/png": "[encoded data removed]",
      "text/plain": [
       "<Figure size 432x288 with 2 Axes>"
      ]
     },
     "metadata": {
      "needs_background": "light"
     },
     "output_type": "display_data"
    }
   ],
   "source": [
    "print(\"Image 8\")\n",
    "f, axarr = plt.subplots(2,1) \n",
    "axarr[0].imshow(x[7])\n",
    "axarr[1].imshow(finalOut[7])"
   ]
  },
  {
   "cell_type": "code",
   "execution_count": 469,
   "metadata": {},
   "outputs": [
    {
     "name": "stdout",
     "output_type": "stream",
     "text": [
      "Image 9\n"
     ]
    },
    {
     "data": {
      "text/plain": [
       "<matplotlib.image.AxesImage at 0x144580550>"
      ]
     },
     "execution_count": 469,
     "metadata": {},
     "output_type": "execute_result"
    },
    {
     "data": {
      "image/png": "[encoded data removed]",
      "text/plain": [
       "<Figure size 432x288 with 2 Axes>"
      ]
     },
     "metadata": {
      "needs_background": "light"
     },
     "output_type": "display_data"
    }
   ],
   "source": [
    "print(\"Image 9\")\n",
    "f, axarr = plt.subplots(2,1) \n",
    "axarr[0].imshow(x[8])\n",
    "axarr[1].imshow(finalOut[8])"
   ]
  },
  {
   "cell_type": "code",
   "execution_count": 470,
   "metadata": {},
   "outputs": [
    {
     "name": "stdout",
     "output_type": "stream",
     "text": [
      "Image 10\n"
     ]
    },
    {
     "data": {
      "text/plain": [
       "<matplotlib.image.AxesImage at 0x14ecbca90>"
      ]
     },
     "execution_count": 470,
     "metadata": {},
     "output_type": "execute_result"
    },
    {
     "data": {
      "image/png": "[encoded data removed]",
      "text/plain": [
       "<Figure size 432x288 with 2 Axes>"
      ]
     },
     "metadata": {
      "needs_background": "light"
     },
     "output_type": "display_data"
    }
   ],
   "source": [
    "print(\"Image 10\")\n",
    "f, axarr = plt.subplots(2,1) \n",
    "axarr[0].imshow(x[9])\n",
    "axarr[1].imshow(finalOut[9])"
   ]
  },
  {
   "cell_type": "markdown",
   "metadata": {},
   "source": [
    "**1(g) Repeat whole exercise with k=16 (extra credit)**"
   ]
  },
  {
   "cell_type": "code",
   "execution_count": 471,
   "metadata": {},
   "outputs": [],
   "source": [
    "km = KMeans(n_clusters=16, random_state=0).fit(pixels)\n",
    "#Centers of clusters (aka main colors)\n",
    "[c1,c2,c3,c4,c5,c6,c7,c8,c9,c10,c11,c12,c13,c14,c15,c16] = km.cluster_centers_\n",
    "\n",
    "c1 = c1.astype('int32')\n",
    "c2 = c2.astype('int32')\n",
    "c3 = c3.astype('int32')\n",
    "c4 = c4.astype('int32')\n",
    "c5 = c4.astype('int32')\n",
    "c6 = c4.astype('int32')\n",
    "c7 = c4.astype('int32')\n",
    "c8 = c4.astype('int32')\n",
    "c9 = c4.astype('int32')\n",
    "c10 = c4.astype('int32')\n",
    "c11 = c4.astype('int32')\n",
    "c12 = c4.astype('int32')\n",
    "c13 = c4.astype('int32')\n",
    "c14 = c4.astype('int32')\n",
    "c15 = c4.astype('int32')\n",
    "c16 = c4.astype('int32')\n",
    "clusters = [c1,c2,c3,c4,c5,c6,c7,c8,c9,c10,c11,c12,c13,c14,c15,c16] "
   ]
  },
  {
   "cell_type": "code",
   "execution_count": 499,
   "metadata": {},
   "outputs": [],
   "source": [
    "#One hot encoding, this time using 16 potential classes (colors)\n",
    "newX = np.zeros(shape=(6000,32,32,16),dtype='int32') \n",
    "\n",
    "#Same process as before, but this time find the min of each of the 16 classes\n",
    "for i in range(0,6000):\n",
    "    for j in range(0,32):\n",
    "        for k in range(0,32):\n",
    "            old = x[i,j,k]\n",
    "            minC = 0\n",
    "            minDist = 1000\n",
    "            for c in range(0,16):\n",
    "                dist = linalg.norm(old-clusters[c])\n",
    "                if dist < minDist:\n",
    "                    minDist = dist\n",
    "                    minC = c\n",
    "            #Assign to nearest cluster\n",
    "            newX[i,j,k,minC] = 1"
   ]
  },
  {
   "cell_type": "code",
   "execution_count": 501,
   "metadata": {},
   "outputs": [],
   "source": [
    "newX = newX.reshape(-1, 32*32*16)\n",
    "newX = newX.astype('float32')\n",
    "newXtrain = newX[0:5000]\n",
    "newXtest = newX[5000:]"
   ]
  },
  {
   "cell_type": "code",
   "execution_count": 502,
   "metadata": {},
   "outputs": [
    {
     "name": "stdout",
     "output_type": "stream",
     "text": [
      "Train on 4500 samples, validate on 500 samples\n",
      "Epoch 1/15\n",
      "4500/4500 [==============================] - 23s 5ms/sample - loss: 0.1376 - val_loss: 0.1071\n",
      "Epoch 2/15\n",
      "4500/4500 [==============================] - 22s 5ms/sample - loss: 0.1056 - val_loss: 0.1014\n",
      "Epoch 3/15\n",
      "4500/4500 [==============================] - 19s 4ms/sample - loss: 0.1008 - val_loss: 0.0983\n",
      "Epoch 4/15\n",
      "4500/4500 [==============================] - 18s 4ms/sample - loss: 0.0950 - val_loss: 0.0947\n",
      "Epoch 5/15\n",
      "4500/4500 [==============================] - 18s 4ms/sample - loss: 0.0913 - val_loss: 0.0955\n",
      "Epoch 6/15\n",
      "4500/4500 [==============================] - 20s 4ms/sample - loss: 0.0879 - val_loss: 0.0938\n",
      "Epoch 7/15\n",
      "4500/4500 [==============================] - 21s 5ms/sample - loss: 0.0840 - val_loss: 0.0910\n",
      "Epoch 8/15\n",
      "4500/4500 [==============================] - 22s 5ms/sample - loss: 0.0807 - val_loss: 0.0918\n",
      "Epoch 9/15\n",
      "4500/4500 [==============================] - 18s 4ms/sample - loss: 0.0764 - val_loss: 0.0934\n",
      "Epoch 10/15\n",
      "4500/4500 [==============================] - 21s 5ms/sample - loss: 0.0741 - val_loss: 0.0947\n",
      "Epoch 11/15\n",
      "4500/4500 [==============================] - 21s 5ms/sample - loss: 0.0705 - val_loss: 0.0975\n",
      "Epoch 12/15\n",
      "4500/4500 [==============================] - 19s 4ms/sample - loss: 0.0667 - val_loss: 0.0949\n",
      "Epoch 13/15\n",
      "4500/4500 [==============================] - 17s 4ms/sample - loss: 0.0634 - val_loss: 0.0990\n",
      "Epoch 14/15\n",
      "4500/4500 [==============================] - 20s 4ms/sample - loss: 0.0621 - val_loss: 0.0999\n",
      "Epoch 15/15\n",
      "4500/4500 [==============================] - 18s 4ms/sample - loss: 0.0594 - val_loss: 0.1023\n"
     ]
    }
   ],
   "source": [
    "#Create a tf model\n",
    "model = tfk.Sequential()\n",
    "\n",
    "#Add 2 convolutional layers\n",
    "model.add(tfk.layers.Conv2D(filters = 64, kernel_size=5, strides=1,activation='relu', input_shape=(32,32,1)))\n",
    "model.add(tfk.layers.Conv2D(filters = 64, kernel_size=5, strides=2,activation='relu'))\n",
    "    \n",
    "#Flatten before passing through MLP\n",
    "model.add(tfk.layers.Flatten())\n",
    "\n",
    "#Add 2 MLP layers\n",
    "model.add(tfk.layers.Dense(512, activation='relu'))\n",
    "\n",
    "#Second layer must have 4069 neurons (output layer)\n",
    "model.add(tfk.layers.Dense(16384, activation='linear'))\n",
    "\n",
    "#define loss\n",
    "#use a loss function that supports multilabel classification\n",
    "def lossF(y_actual, y_pred):\n",
    "    loss = tf.nn.sigmoid_cross_entropy_with_logits(y_actual, y_pred)\n",
    "    return tf.reduce_mean(loss)\n",
    "\n",
    "\n",
    "optimizer = tfk.optimizers.Adam(1e-3)\n",
    "\n",
    "#compile model\n",
    "model.compile(loss=lossF, optimizer=optimizer)\n",
    "\n",
    "#start training the model\n",
    "history = model.fit(x=graytrain, y=newXtrain, validation_split = 0.1, epochs=15, batch_size=32)"
   ]
  },
  {
   "cell_type": "code",
   "execution_count": 503,
   "metadata": {},
   "outputs": [
    {
     "name": "stdout",
     "output_type": "stream",
     "text": [
      "1000/1000 [==============================] - 1s 656us/sample - loss: 0.1139\n",
      "test loss: 0.11385549986362457\n"
     ]
    }
   ],
   "source": [
    "results = model.evaluate(graytest, newXtest, batch_size=128)\n",
    "print('test loss:', results)"
   ]
  },
  {
   "cell_type": "code",
   "execution_count": 504,
   "metadata": {},
   "outputs": [
    {
     "name": "stdout",
     "output_type": "stream",
     "text": [
      "dict_keys(['loss', 'val_loss'])\n"
     ]
    },
    {
     "data": {
      "image/png": "[encoded data removed]",
      "text/plain": [
       "<Figure size 432x288 with 1 Axes>"
      ]
     },
     "metadata": {
      "needs_background": "light"
     },
     "output_type": "display_data"
    }
   ],
   "source": [
    "print(history.history.keys())\n",
    "# summarize history for loss\n",
    "plt.plot(history.history['loss'])\n",
    "plt.plot(history.history['val_loss'])\n",
    "plt.title('model loss')\n",
    "plt.ylabel('loss')\n",
    "plt.xlabel('epoch')\n",
    "plt.legend(['train', 'test'], loc='upper left')\n",
    "plt.show()"
   ]
  },
  {
   "cell_type": "code",
   "execution_count": 505,
   "metadata": {},
   "outputs": [],
   "source": [
    "out = model.predict(x=graytrain[0:5000]).reshape(5000,32,32,16)\n",
    "\n",
    "#Output array to store converted RGB values\n",
    "finalOut = np.zeros(shape=(6000,32,32,3),dtype='int32') \n",
    "\n",
    "#find max\n",
    "for i in range(0,5000):\n",
    "    for j in range(0,32):\n",
    "        for k in range(0,32):\n",
    "            m = np.argmax(out[i,j,k])\n",
    "            #Assign to nearest cluster\n",
    "            finalOut[i,j,k] = clusters[m]"
   ]
  },
  {
   "cell_type": "code",
   "execution_count": 506,
   "metadata": {},
   "outputs": [
    {
     "name": "stdout",
     "output_type": "stream",
     "text": [
      "Image 1\n"
     ]
    },
    {
     "data": {
      "text/plain": [
       "<matplotlib.image.AxesImage at 0x168f13750>"
      ]
     },
     "execution_count": 506,
     "metadata": {},
     "output_type": "execute_result"
    },
    {
     "data": {
      "image/png": "[encoded data removed]",
      "text/plain": [
       "<Figure size 432x288 with 2 Axes>"
      ]
     },
     "metadata": {
      "needs_background": "light"
     },
     "output_type": "display_data"
    }
   ],
   "source": [
    "print(\"Image 1\")\n",
    "f, axarr = plt.subplots(2,1) \n",
    "axarr[0].imshow(x[0])\n",
    "axarr[1].imshow(finalOut[0])"
   ]
  },
  {
   "cell_type": "code",
   "execution_count": 507,
   "metadata": {},
   "outputs": [
    {
     "name": "stdout",
     "output_type": "stream",
     "text": [
      "Image 2\n"
     ]
    },
    {
     "data": {
      "text/plain": [
       "<matplotlib.image.AxesImage at 0x16a200e10>"
      ]
     },
     "execution_count": 507,
     "metadata": {},
     "output_type": "execute_result"
    },
    {
     "data": {
      "image/png": "[encoded data removed]",
      "text/plain": [
       "<Figure size 432x288 with 2 Axes>"
      ]
     },
     "metadata": {
      "needs_background": "light"
     },
     "output_type": "display_data"
    }
   ],
   "source": [
    "print(\"Image 2\")\n",
    "f, axarr = plt.subplots(2,1) \n",
    "axarr[0].imshow(x[1])\n",
    "axarr[1].imshow(finalOut[1])"
   ]
  },
  {
   "cell_type": "code",
   "execution_count": 508,
   "metadata": {},
   "outputs": [
    {
     "name": "stdout",
     "output_type": "stream",
     "text": [
      "Image 3\n"
     ]
    },
    {
     "data": {
      "text/plain": [
       "<matplotlib.image.AxesImage at 0x16a3772d0>"
      ]
     },
     "execution_count": 508,
     "metadata": {},
     "output_type": "execute_result"
    },
    {
     "data": {
      "image/png": "[encoded data removed]",
      "text/plain": [
       "<Figure size 432x288 with 2 Axes>"
      ]
     },
     "metadata": {
      "needs_background": "light"
     },
     "output_type": "display_data"
    }
   ],
   "source": [
    "print(\"Image 3\")\n",
    "f, axarr = plt.subplots(2,1) \n",
    "axarr[0].imshow(x[2])\n",
    "axarr[1].imshow(finalOut[2])"
   ]
  },
  {
   "cell_type": "code",
   "execution_count": 509,
   "metadata": {},
   "outputs": [
    {
     "name": "stdout",
     "output_type": "stream",
     "text": [
      "Image 4\n"
     ]
    },
    {
     "data": {
      "text/plain": [
       "<matplotlib.image.AxesImage at 0x16a3c4e50>"
      ]
     },
     "execution_count": 509,
     "metadata": {},
     "output_type": "execute_result"
    },
    {
     "data": {
      "image/png": "[encoded data removed]",
      "text/plain": [
       "<Figure size 432x288 with 2 Axes>"
      ]
     },
     "metadata": {
      "needs_background": "light"
     },
     "output_type": "display_data"
    }
   ],
   "source": [
    "print(\"Image 4\")\n",
    "f, axarr = plt.subplots(2,1) \n",
    "axarr[0].imshow(x[3])\n",
    "axarr[1].imshow(finalOut[3])"
   ]
  },
  {
   "cell_type": "code",
   "execution_count": 510,
   "metadata": {},
   "outputs": [
    {
     "name": "stdout",
     "output_type": "stream",
     "text": [
      "Image 5\n"
     ]
    },
    {
     "data": {
      "text/plain": [
       "<matplotlib.image.AxesImage at 0x1c644a990>"
      ]
     },
     "execution_count": 510,
     "metadata": {},
     "output_type": "execute_result"
    },
    {
     "data": {
      "image/png": "[encoded data removed]",
      "text/plain": [
       "<Figure size 432x288 with 2 Axes>"
      ]
     },
     "metadata": {
      "needs_background": "light"
     },
     "output_type": "display_data"
    }
   ],
   "source": [
    "print(\"Image 5\")\n",
    "f, axarr = plt.subplots(2,1) \n",
    "axarr[0].imshow(x[4])\n",
    "axarr[1].imshow(finalOut[4])"
   ]
  },
  {
   "cell_type": "code",
   "execution_count": 511,
   "metadata": {},
   "outputs": [
    {
     "name": "stdout",
     "output_type": "stream",
     "text": [
      "Image 6\n"
     ]
    },
    {
     "data": {
      "text/plain": [
       "<matplotlib.image.AxesImage at 0x1c6548390>"
      ]
     },
     "execution_count": 511,
     "metadata": {},
     "output_type": "execute_result"
    },
    {
     "data": {
      "image/png": "[encoded data removed]",
      "text/plain": [
       "<Figure size 432x288 with 2 Axes>"
      ]
     },
     "metadata": {
      "needs_background": "light"
     },
     "output_type": "display_data"
    }
   ],
   "source": [
    "print(\"Image 6\")\n",
    "f, axarr = plt.subplots(2,1) \n",
    "axarr[0].imshow(x[5])\n",
    "axarr[1].imshow(finalOut[5])"
   ]
  },
  {
   "cell_type": "code",
   "execution_count": 512,
   "metadata": {},
   "outputs": [
    {
     "name": "stdout",
     "output_type": "stream",
     "text": [
      "Image 7\n"
     ]
    },
    {
     "data": {
      "text/plain": [
       "<matplotlib.image.AxesImage at 0x1c6e00c50>"
      ]
     },
     "execution_count": 512,
     "metadata": {},
     "output_type": "execute_result"
    },
    {
     "data": {
      "image/png": "[encoded data removed]",
      "text/plain": [
       "<Figure size 432x288 with 2 Axes>"
      ]
     },
     "metadata": {
      "needs_background": "light"
     },
     "output_type": "display_data"
    }
   ],
   "source": [
    "print(\"Image 7\")\n",
    "f, axarr = plt.subplots(2,1) \n",
    "axarr[0].imshow(x[6])\n",
    "axarr[1].imshow(finalOut[6])"
   ]
  },
  {
   "cell_type": "code",
   "execution_count": 513,
   "metadata": {},
   "outputs": [
    {
     "name": "stdout",
     "output_type": "stream",
     "text": [
      "Image 8\n"
     ]
    },
    {
     "data": {
      "text/plain": [
       "<matplotlib.image.AxesImage at 0x1c6ea6e50>"
      ]
     },
     "execution_count": 513,
     "metadata": {},
     "output_type": "execute_result"
    },
    {
     "data": {
      "image/png": "[encoded data removed]",
      "text/plain": [
       "<Figure size 432x288 with 2 Axes>"
      ]
     },
     "metadata": {
      "needs_background": "light"
     },
     "output_type": "display_data"
    }
   ],
   "source": [
    "print(\"Image 8\")\n",
    "f, axarr = plt.subplots(2,1) \n",
    "axarr[0].imshow(x[7])\n",
    "axarr[1].imshow(finalOut[7])"
   ]
  },
  {
   "cell_type": "code",
   "execution_count": 514,
   "metadata": {},
   "outputs": [
    {
     "name": "stdout",
     "output_type": "stream",
     "text": [
      "Image 9\n"
     ]
    },
    {
     "data": {
      "text/plain": [
       "<matplotlib.image.AxesImage at 0x1c6fb6450>"
      ]
     },
     "execution_count": 514,
     "metadata": {},
     "output_type": "execute_result"
    },
    {
     "data": {
      "image/png": "[encoded data removed]",
      "text/plain": [
       "<Figure size 432x288 with 2 Axes>"
      ]
     },
     "metadata": {
      "needs_background": "light"
     },
     "output_type": "display_data"
    }
   ],
   "source": [
    "print(\"Image 9\")\n",
    "f, axarr = plt.subplots(2,1) \n",
    "axarr[0].imshow(x[8])\n",
    "axarr[1].imshow(finalOut[8])"
   ]
  },
  {
   "cell_type": "code",
   "execution_count": 515,
   "metadata": {},
   "outputs": [
    {
     "name": "stdout",
     "output_type": "stream",
     "text": [
      "Image 10\n"
     ]
    },
    {
     "data": {
      "text/plain": [
       "<matplotlib.image.AxesImage at 0x1c6fe7190>"
      ]
     },
     "execution_count": 515,
     "metadata": {},
     "output_type": "execute_result"
    },
    {
     "data": {
      "image/png": "[encoded data removed]",
      "text/plain": [
       "<Figure size 432x288 with 2 Axes>"
      ]
     },
     "metadata": {
      "needs_background": "light"
     },
     "output_type": "display_data"
    }
   ],
   "source": [
    "print(\"Image 10\")\n",
    "f, axarr = plt.subplots(2,1) \n",
    "axarr[0].imshow(x[9])\n",
    "axarr[1].imshow(finalOut[9])"
   ]
  },
  {
   "cell_type": "markdown",
   "metadata": {},
   "source": [
    "**1(g) Repeat whole exercise with k=24**"
   ]
  },
  {
   "cell_type": "code",
   "execution_count": 491,
   "metadata": {},
   "outputs": [],
   "source": [
    "km = KMeans(n_clusters=24, random_state=0).fit(pixels)\n",
    "#Centers of clusters (aka main colors)\n",
    "[c1,c2,c3,c4,c5,c6,c7,c8,c9,c10,c11,c12,c13,c14,c15,c16,c17,c18,c19,c20,c21,c22,c23,c24] = km.cluster_centers_\n",
    "\n",
    "c1 = c1.astype('int32')\n",
    "c2 = c2.astype('int32')\n",
    "c3 = c3.astype('int32')\n",
    "c4 = c4.astype('int32')\n",
    "c5 = c4.astype('int32')\n",
    "c6 = c4.astype('int32')\n",
    "c7 = c4.astype('int32')\n",
    "c8 = c4.astype('int32')\n",
    "c9 = c4.astype('int32')\n",
    "c10 = c4.astype('int32')\n",
    "c11 = c4.astype('int32')\n",
    "c12 = c4.astype('int32')\n",
    "c13 = c4.astype('int32')\n",
    "c14 = c4.astype('int32')\n",
    "c15 = c4.astype('int32')\n",
    "c16 = c4.astype('int32')\n",
    "c17 = c4.astype('int32')\n",
    "c18 = c4.astype('int32')\n",
    "c19 = c4.astype('int32')\n",
    "c20 = c4.astype('int32')\n",
    "c21 = c4.astype('int32')\n",
    "c22 = c4.astype('int32')\n",
    "c23 = c4.astype('int32')\n",
    "c24 = c4.astype('int32')\n",
    "\n",
    "clusters = [c1,c2,c3,c4,c5,c6,c7,c8,c9,c10,c11,c12,c13,c14,c15,c16,c17,c18,c19,c20,c21,c22,c23,c24]"
   ]
  },
  {
   "cell_type": "code",
   "execution_count": 516,
   "metadata": {},
   "outputs": [],
   "source": [
    "#Assign to nearest class using one hot encoding\n",
    "newX = np.zeros(shape=(6000,32,32,24),dtype='int32') \n",
    "\n",
    "#Repeat with 24 color\n",
    "for i in range(0,6000):\n",
    "    for j in range(0,32):\n",
    "        for k in range(0,32):\n",
    "            old = x[i,j,k]\n",
    "            minC = 0\n",
    "            minDist = 1000\n",
    "            for c in range(0,24):\n",
    "                dist = linalg.norm(old-clusters[c])\n",
    "                if dist < minDist:\n",
    "                    minDist = dist\n",
    "                    minC = c\n",
    "            #Assign to nearest cluster\n",
    "            newX[i,j,k,minC] = 1"
   ]
  },
  {
   "cell_type": "code",
   "execution_count": 517,
   "metadata": {},
   "outputs": [],
   "source": [
    "newX = newX.reshape(-1, 32*32*24)\n",
    "newX = newX.astype('float32')\n",
    "newXtrain = newX[0:5000]\n",
    "newXtest = newX[5000:]"
   ]
  },
  {
   "cell_type": "code",
   "execution_count": 518,
   "metadata": {},
   "outputs": [
    {
     "name": "stdout",
     "output_type": "stream",
     "text": [
      "Train on 4500 samples, validate on 500 samples\n",
      "Epoch 1/15\n",
      "4500/4500 [==============================] - 23s 5ms/sample - loss: 0.0998 - val_loss: 0.0738\n",
      "Epoch 2/15\n",
      "4500/4500 [==============================] - 22s 5ms/sample - loss: 0.0728 - val_loss: 0.0684\n",
      "Epoch 3/15\n",
      "4500/4500 [==============================] - 23s 5ms/sample - loss: 0.0696 - val_loss: 0.0672\n",
      "Epoch 4/15\n",
      "4500/4500 [==============================] - 23s 5ms/sample - loss: 0.0670 - val_loss: 0.0664\n",
      "Epoch 5/15\n",
      "4500/4500 [==============================] - 22s 5ms/sample - loss: 0.0647 - val_loss: 0.0650\n",
      "Epoch 6/15\n",
      "4500/4500 [==============================] - 22s 5ms/sample - loss: 0.0629 - val_loss: 0.0652\n",
      "Epoch 7/15\n",
      "4500/4500 [==============================] - 23s 5ms/sample - loss: 0.0608 - val_loss: 0.0623\n",
      "Epoch 8/15\n",
      "4500/4500 [==============================] - 23s 5ms/sample - loss: 0.0592 - val_loss: 0.0622\n",
      "Epoch 9/15\n",
      "4500/4500 [==============================] - 23s 5ms/sample - loss: 0.0568 - val_loss: 0.0618\n",
      "Epoch 10/15\n",
      "4500/4500 [==============================] - 23s 5ms/sample - loss: 0.0560 - val_loss: 0.0639\n",
      "Epoch 11/15\n",
      "4500/4500 [==============================] - 26s 6ms/sample - loss: 0.0536 - val_loss: 0.0625\n",
      "Epoch 12/15\n",
      "4500/4500 [==============================] - 23s 5ms/sample - loss: 0.0518 - val_loss: 0.0634\n",
      "Epoch 13/15\n",
      "4500/4500 [==============================] - 30s 7ms/sample - loss: 0.0509 - val_loss: 0.0633\n",
      "Epoch 14/15\n",
      "4500/4500 [==============================] - 23s 5ms/sample - loss: 0.0488 - val_loss: 0.0644\n",
      "Epoch 15/15\n",
      "4500/4500 [==============================] - 24s 5ms/sample - loss: 0.0477 - val_loss: 0.0644\n"
     ]
    }
   ],
   "source": [
    "#Create a tf model\n",
    "model = tfk.Sequential()\n",
    "\n",
    "#Add 2 convolutional layers\n",
    "model.add(tfk.layers.Conv2D(filters = 64, kernel_size=5, strides=1,activation='relu', input_shape=(32,32,1)))\n",
    "model.add(tfk.layers.Conv2D(filters = 64, kernel_size=5, strides=2,activation='relu'))\n",
    "    \n",
    "#Flatten before passing through MLP\n",
    "model.add(tfk.layers.Flatten())\n",
    "\n",
    "#Add 2 MLP layers\n",
    "model.add(tfk.layers.Dense(512, activation='relu'))\n",
    "\n",
    "#Second layer must have 4069 neurons (output layer)\n",
    "model.add(tfk.layers.Dense(24576, activation='linear'))\n",
    "\n",
    "#define loss\n",
    "#use a loss function that supports multilabel classification\n",
    "def lossF(y_actual, y_pred):\n",
    "    loss = tf.nn.sigmoid_cross_entropy_with_logits(y_actual, y_pred)\n",
    "    return tf.reduce_mean(loss)\n",
    "\n",
    "\n",
    "optimizer = tfk.optimizers.Adam(1e-3)\n",
    "\n",
    "#compile model\n",
    "model.compile(loss=lossF, optimizer=optimizer)\n",
    "\n",
    "#start training the model\n",
    "history = model.fit(x=graytrain, y=newXtrain, validation_split = 0.1, epochs=15, batch_size=32)"
   ]
  },
  {
   "cell_type": "code",
   "execution_count": 519,
   "metadata": {},
   "outputs": [
    {
     "name": "stdout",
     "output_type": "stream",
     "text": [
      "1000/1000 [==============================] - 1s 779us/sample - loss: 0.0698\n",
      "test loss: 0.06977891272306443\n"
     ]
    }
   ],
   "source": [
    "results = model.evaluate(graytest, newXtest, batch_size=128)\n",
    "print('test loss:', results)"
   ]
  },
  {
   "cell_type": "code",
   "execution_count": 520,
   "metadata": {},
   "outputs": [
    {
     "name": "stdout",
     "output_type": "stream",
     "text": [
      "dict_keys(['loss', 'val_loss'])\n"
     ]
    },
    {
     "data": {
      "image/png": "[encoded data removed]",
      "text/plain": [
       "<Figure size 432x288 with 1 Axes>"
      ]
     },
     "metadata": {
      "needs_background": "light"
     },
     "output_type": "display_data"
    }
   ],
   "source": [
    "print(history.history.keys())\n",
    "# summarize history for loss\n",
    "plt.plot(history.history['loss'])\n",
    "plt.plot(history.history['val_loss'])\n",
    "plt.title('model loss')\n",
    "plt.ylabel('loss')\n",
    "plt.xlabel('epoch')\n",
    "plt.legend(['train', 'test'], loc='upper left')\n",
    "plt.show()"
   ]
  },
  {
   "cell_type": "code",
   "execution_count": 521,
   "metadata": {},
   "outputs": [],
   "source": [
    "out = model.predict(x=graytrain[0:5000]).reshape(5000,32,32,24)\n",
    "\n",
    "#Output array to store converted RGB values\n",
    "finalOut = np.zeros(shape=(6000,32,32,3),dtype='int32') \n",
    "\n",
    "#find max\n",
    "for i in range(0,5000):\n",
    "    for j in range(0,32):\n",
    "        for k in range(0,32):\n",
    "            m = np.argmax(out[i,j,k])\n",
    "            #Assign to nearest cluster\n",
    "            finalOut[i,j,k] = clusters[m]"
   ]
  },
  {
   "cell_type": "code",
   "execution_count": 522,
   "metadata": {},
   "outputs": [
    {
     "name": "stdout",
     "output_type": "stream",
     "text": [
      "Image 1\n"
     ]
    },
    {
     "data": {
      "text/plain": [
       "<matplotlib.image.AxesImage at 0x1699a1350>"
      ]
     },
     "execution_count": 522,
     "metadata": {},
     "output_type": "execute_result"
    },
    {
     "data": {
      "image/png": "[encoded data removed]",
      "text/plain": [
       "<Figure size 432x288 with 2 Axes>"
      ]
     },
     "metadata": {
      "needs_background": "light"
     },
     "output_type": "display_data"
    }
   ],
   "source": [
    "print(\"Image 1\")\n",
    "f, axarr = plt.subplots(2,1) \n",
    "axarr[0].imshow(x[0])\n",
    "axarr[1].imshow(finalOut[0])"
   ]
  },
  {
   "cell_type": "code",
   "execution_count": 523,
   "metadata": {},
   "outputs": [
    {
     "name": "stdout",
     "output_type": "stream",
     "text": [
      "Image 2\n"
     ]
    },
    {
     "data": {
      "text/plain": [
       "<matplotlib.image.AxesImage at 0x169a7f110>"
      ]
     },
     "execution_count": 523,
     "metadata": {},
     "output_type": "execute_result"
    },
    {
     "data": {
      "image/png": "[encoded data removed]",
      "text/plain": [
       "<Figure size 432x288 with 2 Axes>"
      ]
     },
     "metadata": {
      "needs_background": "light"
     },
     "output_type": "display_data"
    }
   ],
   "source": [
    "print(\"Image 2\")\n",
    "f, axarr = plt.subplots(2,1) \n",
    "axarr[0].imshow(x[1])\n",
    "axarr[1].imshow(finalOut[1])"
   ]
  },
  {
   "cell_type": "code",
   "execution_count": 524,
   "metadata": {},
   "outputs": [
    {
     "name": "stdout",
     "output_type": "stream",
     "text": [
      "Image 3\n"
     ]
    },
    {
     "data": {
      "text/plain": [
       "<matplotlib.image.AxesImage at 0x169ab38d0>"
      ]
     },
     "execution_count": 524,
     "metadata": {},
     "output_type": "execute_result"
    },
    {
     "data": {
      "image/png": "[encoded data removed]",
      "text/plain": [
       "<Figure size 432x288 with 2 Axes>"
      ]
     },
     "metadata": {
      "needs_background": "light"
     },
     "output_type": "display_data"
    }
   ],
   "source": [
    "print(\"Image 3\")\n",
    "f, axarr = plt.subplots(2,1) \n",
    "axarr[0].imshow(x[2])\n",
    "axarr[1].imshow(finalOut[2])"
   ]
  },
  {
   "cell_type": "code",
   "execution_count": 525,
   "metadata": {},
   "outputs": [
    {
     "name": "stdout",
     "output_type": "stream",
     "text": [
      "Image 4\n"
     ]
    },
    {
     "data": {
      "text/plain": [
       "<matplotlib.image.AxesImage at 0x169f03390>"
      ]
     },
     "execution_count": 525,
     "metadata": {},
     "output_type": "execute_result"
    },
    {
     "data": {
      "image/png": "[encoded data removed]",
      "text/plain": [
       "<Figure size 432x288 with 2 Axes>"
      ]
     },
     "metadata": {
      "needs_background": "light"
     },
     "output_type": "display_data"
    }
   ],
   "source": [
    "print(\"Image 4\")\n",
    "f, axarr = plt.subplots(2,1) \n",
    "axarr[0].imshow(x[3])\n",
    "axarr[1].imshow(finalOut[3])"
   ]
  },
  {
   "cell_type": "code",
   "execution_count": 526,
   "metadata": {},
   "outputs": [
    {
     "name": "stdout",
     "output_type": "stream",
     "text": [
      "Image 5\n"
     ]
    },
    {
     "data": {
      "text/plain": [
       "<matplotlib.image.AxesImage at 0x169ff31d0>"
      ]
     },
     "execution_count": 526,
     "metadata": {},
     "output_type": "execute_result"
    },
    {
     "data": {
      "image/png": "[encoded data removed]",
      "text/plain": [
       "<Figure size 432x288 with 2 Axes>"
      ]
     },
     "metadata": {
      "needs_background": "light"
     },
     "output_type": "display_data"
    }
   ],
   "source": [
    "print(\"Image 5\")\n",
    "f, axarr = plt.subplots(2,1) \n",
    "axarr[0].imshow(x[4])\n",
    "axarr[1].imshow(finalOut[4])"
   ]
  },
  {
   "cell_type": "code",
   "execution_count": 527,
   "metadata": {},
   "outputs": [
    {
     "name": "stdout",
     "output_type": "stream",
     "text": [
      "Image 6\n"
     ]
    },
    {
     "data": {
      "text/plain": [
       "<matplotlib.image.AxesImage at 0x16a02c110>"
      ]
     },
     "execution_count": 527,
     "metadata": {},
     "output_type": "execute_result"
    },
    {
     "data": {
      "image/png": "[encoded data removed]",
      "text/plain": [
       "<Figure size 432x288 with 2 Axes>"
      ]
     },
     "metadata": {
      "needs_background": "light"
     },
     "output_type": "display_data"
    }
   ],
   "source": [
    "print(\"Image 6\")\n",
    "f, axarr = plt.subplots(2,1) \n",
    "axarr[0].imshow(x[5])\n",
    "axarr[1].imshow(finalOut[5])"
   ]
  },
  {
   "cell_type": "code",
   "execution_count": 528,
   "metadata": {},
   "outputs": [
    {
     "name": "stdout",
     "output_type": "stream",
     "text": [
      "Image 7\n"
     ]
    },
    {
     "data": {
      "text/plain": [
       "<matplotlib.image.AxesImage at 0x16a0e6450>"
      ]
     },
     "execution_count": 528,
     "metadata": {},
     "output_type": "execute_result"
    },
    {
     "data": {
      "image/png": "[encoded data removed]",
      "text/plain": [
       "<Figure size 432x288 with 2 Axes>"
      ]
     },
     "metadata": {
      "needs_background": "light"
     },
     "output_type": "display_data"
    }
   ],
   "source": [
    "print(\"Image 7\")\n",
    "f, axarr = plt.subplots(2,1) \n",
    "axarr[0].imshow(x[6])\n",
    "axarr[1].imshow(finalOut[6])"
   ]
  },
  {
   "cell_type": "code",
   "execution_count": 529,
   "metadata": {},
   "outputs": [
    {
     "name": "stdout",
     "output_type": "stream",
     "text": [
      "Image 8\n"
     ]
    },
    {
     "data": {
      "text/plain": [
       "<matplotlib.image.AxesImage at 0x1c7c99290>"
      ]
     },
     "execution_count": 529,
     "metadata": {},
     "output_type": "execute_result"
    },
    {
     "data": {
      "image/png": "[encoded data removed]",
      "text/plain": [
       "<Figure size 432x288 with 2 Axes>"
      ]
     },
     "metadata": {
      "needs_background": "light"
     },
     "output_type": "display_data"
    }
   ],
   "source": [
    "print(\"Image 8\")\n",
    "f, axarr = plt.subplots(2,1) \n",
    "axarr[0].imshow(x[7])\n",
    "axarr[1].imshow(finalOut[7])"
   ]
  },
  {
   "cell_type": "code",
   "execution_count": 530,
   "metadata": {},
   "outputs": [
    {
     "name": "stdout",
     "output_type": "stream",
     "text": [
      "Image 9\n"
     ]
    },
    {
     "data": {
      "text/plain": [
       "<matplotlib.image.AxesImage at 0x1c7ccf5d0>"
      ]
     },
     "execution_count": 530,
     "metadata": {},
     "output_type": "execute_result"
    },
    {
     "data": {
      "image/png": "[encoded data removed]",
      "text/plain": [
       "<Figure size 432x288 with 2 Axes>"
      ]
     },
     "metadata": {
      "needs_background": "light"
     },
     "output_type": "display_data"
    }
   ],
   "source": [
    "print(\"Image 9\")\n",
    "f, axarr = plt.subplots(2,1) \n",
    "axarr[0].imshow(x[8])\n",
    "axarr[1].imshow(finalOut[8])"
   ]
  },
  {
   "cell_type": "code",
   "execution_count": 531,
   "metadata": {},
   "outputs": [
    {
     "name": "stdout",
     "output_type": "stream",
     "text": [
      "Image 10\n"
     ]
    },
    {
     "data": {
      "text/plain": [
       "<matplotlib.image.AxesImage at 0x1c7d76a50>"
      ]
     },
     "execution_count": 531,
     "metadata": {},
     "output_type": "execute_result"
    },
    {
     "data": {
      "image/png": "[encoded data removed]",
      "text/plain": [
       "<Figure size 432x288 with 2 Axes>"
      ]
     },
     "metadata": {
      "needs_background": "light"
     },
     "output_type": "display_data"
    }
   ],
   "source": [
    "print(\"Image 10\")\n",
    "f, axarr = plt.subplots(2,1) \n",
    "axarr[0].imshow(x[9])\n",
    "axarr[1].imshow(finalOut[9])"
   ]
  },
  {
   "cell_type": "markdown",
   "metadata": {},
   "source": [
    "**1(g) Repeat whole exercise with k=32**"
   ]
  },
  {
   "cell_type": "code",
   "execution_count": 532,
   "metadata": {},
   "outputs": [],
   "source": [
    "km = KMeans(n_clusters=32, random_state=0).fit(pixels)\n",
    "#Centers of clusters (aka main colors)\n",
    "[c1,c2,c3,c4,c5,c6,c7,c8,c9,c10,c11,c12,c13,c14,c15,c16,c17,c18,c19,c20,c21,c22,c23,c24,c25,c26,c27,c28,c29,c30,c31,c32] = km.cluster_centers_\n",
    "\n",
    "c1 = c1.astype('int32')\n",
    "c2 = c2.astype('int32')\n",
    "c3 = c3.astype('int32')\n",
    "c4 = c4.astype('int32')\n",
    "c5 = c4.astype('int32')\n",
    "c6 = c4.astype('int32')\n",
    "c7 = c4.astype('int32')\n",
    "c8 = c4.astype('int32')\n",
    "c9 = c4.astype('int32')\n",
    "c10 = c4.astype('int32')\n",
    "c11 = c4.astype('int32')\n",
    "c12 = c4.astype('int32')\n",
    "c13 = c4.astype('int32')\n",
    "c14 = c4.astype('int32')\n",
    "c15 = c4.astype('int32')\n",
    "c16 = c4.astype('int32')\n",
    "c17 = c4.astype('int32')\n",
    "c18 = c4.astype('int32')\n",
    "c19 = c4.astype('int32')\n",
    "c20 = c4.astype('int32')\n",
    "c21 = c4.astype('int32')\n",
    "c22 = c4.astype('int32')\n",
    "c23 = c4.astype('int32')\n",
    "c24 = c4.astype('int32')\n",
    "c25 = c4.astype('int32')\n",
    "c26 = c4.astype('int32')\n",
    "c27 = c4.astype('int32')\n",
    "c28 = c4.astype('int32')\n",
    "c29 = c4.astype('int32')\n",
    "c30 = c4.astype('int32')\n",
    "c31 = c4.astype('int32')\n",
    "c32 = c4.astype('int32')\n",
    "\n",
    "clusters = [c1,c2,c3,c4,c5,c6,c7,c8,c9,c10,c11,c12,c13,c14,c15,c16,c17,c18,c19,c20,c21,c22,c23,c24,c25,c26,c27,c28,c29,c30,c31,c32]"
   ]
  },
  {
   "cell_type": "code",
   "execution_count": 533,
   "metadata": {},
   "outputs": [],
   "source": [
    "#Assign to nearest class using one hot encoding\n",
    "newX = np.zeros(shape=(6000,32,32,32),dtype='int32') #32 possible colors to encode\n",
    "\n",
    "for i in range(0,6000):\n",
    "    for j in range(0,32):\n",
    "        for k in range(0,32):\n",
    "            old = x[i,j,k]\n",
    "            minC = 0\n",
    "            minDist = 1000\n",
    "            for c in range(0,32):\n",
    "                dist = linalg.norm(old-clusters[c])\n",
    "                if dist < minDist:\n",
    "                    minDist = dist\n",
    "                    minC = c\n",
    "            #Assign to nearest cluster\n",
    "            newX[i,j,k,minC] = 1"
   ]
  },
  {
   "cell_type": "code",
   "execution_count": 534,
   "metadata": {},
   "outputs": [],
   "source": [
    "newX = newX.reshape(-1, 32*32*32)\n",
    "newX = newX.astype('float32')\n",
    "newXtrain = newX[0:5000]\n",
    "newXtest = newX[5000:]"
   ]
  },
  {
   "cell_type": "code",
   "execution_count": 536,
   "metadata": {},
   "outputs": [
    {
     "name": "stdout",
     "output_type": "stream",
     "text": [
      "Train on 4500 samples, validate on 500 samples\n",
      "Epoch 1/15\n",
      "4500/4500 [==============================] - 29s 6ms/sample - loss: 0.0822 - val_loss: 0.0577\n",
      "Epoch 2/15\n",
      "4500/4500 [==============================] - 27s 6ms/sample - loss: 0.0583 - val_loss: 0.0555\n",
      "Epoch 3/15\n",
      "4500/4500 [==============================] - 27s 6ms/sample - loss: 0.0554 - val_loss: 0.0548\n",
      "Epoch 4/15\n",
      "4500/4500 [==============================] - 27s 6ms/sample - loss: 0.0535 - val_loss: 0.0527\n",
      "Epoch 5/15\n",
      "4500/4500 [==============================] - 28s 6ms/sample - loss: 0.0518 - val_loss: 0.0511\n",
      "Epoch 6/15\n",
      "4500/4500 [==============================] - 28s 6ms/sample - loss: 0.0501 - val_loss: 0.0500\n",
      "Epoch 7/15\n",
      "4500/4500 [==============================] - 27s 6ms/sample - loss: 0.0487 - val_loss: 0.0498\n",
      "Epoch 8/15\n",
      "4500/4500 [==============================] - 26s 6ms/sample - loss: 0.0473 - val_loss: 0.0507\n",
      "Epoch 9/15\n",
      "4500/4500 [==============================] - 26s 6ms/sample - loss: 0.0465 - val_loss: 0.0490\n",
      "Epoch 10/15\n",
      "4500/4500 [==============================] - 34s 7ms/sample - loss: 0.0453 - val_loss: 0.0498\n",
      "Epoch 11/15\n",
      "4500/4500 [==============================] - 27s 6ms/sample - loss: 0.0439 - val_loss: 0.0497\n",
      "Epoch 12/15\n",
      "4500/4500 [==============================] - 27s 6ms/sample - loss: 0.0431 - val_loss: 0.0500\n",
      "Epoch 13/15\n",
      "4500/4500 [==============================] - 27s 6ms/sample - loss: 0.0423 - val_loss: 0.0503\n",
      "Epoch 14/15\n",
      "4500/4500 [==============================] - 28s 6ms/sample - loss: 0.0410 - val_loss: 0.0514\n",
      "Epoch 15/15\n",
      "4500/4500 [==============================] - 28s 6ms/sample - loss: 0.0400 - val_loss: 0.0516\n"
     ]
    }
   ],
   "source": [
    "#Create a tf model\n",
    "model = tfk.Sequential()\n",
    "\n",
    "#Add 2 convolutional layers\n",
    "model.add(tfk.layers.Conv2D(filters = 64, kernel_size=5, strides=1,activation='relu', input_shape=(32,32,1)))\n",
    "model.add(tfk.layers.Conv2D(filters = 64, kernel_size=5, strides=2,activation='relu'))\n",
    "    \n",
    "#Flatten before passing through MLP\n",
    "model.add(tfk.layers.Flatten())\n",
    "\n",
    "#Add 2 MLP layers\n",
    "model.add(tfk.layers.Dense(512, activation='relu'))\n",
    "\n",
    "#Second layer must have 4069 neurons (output layer)\n",
    "model.add(tfk.layers.Dense(32768, activation='linear'))\n",
    "\n",
    "#define loss\n",
    "#use a loss function that supports multilabel classification\n",
    "def lossF(y_actual, y_pred):\n",
    "    loss = tf.nn.sigmoid_cross_entropy_with_logits(y_actual, y_pred)\n",
    "    return tf.reduce_mean(loss)\n",
    "\n",
    "\n",
    "optimizer = tfk.optimizers.Adam(1e-3)\n",
    "\n",
    "#compile model\n",
    "model.compile(loss=lossF, optimizer=optimizer)\n",
    "\n",
    "#start training the model\n",
    "history = model.fit(x=graytrain, y=newXtrain, validation_split = 0.1, epochs=15, batch_size=32)"
   ]
  },
  {
   "cell_type": "code",
   "execution_count": 537,
   "metadata": {},
   "outputs": [
    {
     "name": "stdout",
     "output_type": "stream",
     "text": [
      "1000/1000 [==============================] - 1s 948us/sample - loss: 0.0541\n",
      "test loss: 0.054105276554822924\n"
     ]
    }
   ],
   "source": [
    "results = model.evaluate(graytest, newXtest, batch_size=128)\n",
    "print('test loss:', results)"
   ]
  },
  {
   "cell_type": "code",
   "execution_count": 538,
   "metadata": {},
   "outputs": [
    {
     "name": "stdout",
     "output_type": "stream",
     "text": [
      "dict_keys(['loss', 'val_loss'])\n"
     ]
    },
    {
     "data": {
      "image/png": "[encoded data removed]",
      "text/plain": [
       "<Figure size 432x288 with 1 Axes>"
      ]
     },
     "metadata": {
      "needs_background": "light"
     },
     "output_type": "display_data"
    }
   ],
   "source": [
    "print(history.history.keys())\n",
    "# summarize history for loss\n",
    "plt.plot(history.history['loss'])\n",
    "plt.plot(history.history['val_loss'])\n",
    "plt.title('model loss')\n",
    "plt.ylabel('loss')\n",
    "plt.xlabel('epoch')\n",
    "plt.legend(['train', 'test'], loc='upper left')\n",
    "plt.show()"
   ]
  },
  {
   "cell_type": "code",
   "execution_count": 539,
   "metadata": {},
   "outputs": [],
   "source": [
    "out = model.predict(x=graytrain[0:5000]).reshape(5000,32,32,32)\n",
    "\n",
    "#Output array to store converted RGB values\n",
    "finalOut = np.zeros(shape=(6000,32,32,3),dtype='int32') \n",
    "\n",
    "#find max\n",
    "for i in range(0,5000):\n",
    "    for j in range(0,32):\n",
    "        for k in range(0,32):\n",
    "            m = np.argmax(out[i,j,k])\n",
    "            #Assign to nearest cluster\n",
    "            finalOut[i,j,k] = clusters[m]"
   ]
  },
  {
   "cell_type": "code",
   "execution_count": 540,
   "metadata": {},
   "outputs": [
    {
     "name": "stdout",
     "output_type": "stream",
     "text": [
      "Image 1\n"
     ]
    },
    {
     "data": {
      "text/plain": [
       "<matplotlib.image.AxesImage at 0x1fcd1f590>"
      ]
     },
     "execution_count": 540,
     "metadata": {},
     "output_type": "execute_result"
    },
    {
     "data": {
      "image/png": "[encoded data removed]",
      "text/plain": [
       "<Figure size 432x288 with 2 Axes>"
      ]
     },
     "metadata": {
      "needs_background": "light"
     },
     "output_type": "display_data"
    }
   ],
   "source": [
    "print(\"Image 1\")\n",
    "f, axarr = plt.subplots(2,1) \n",
    "axarr[0].imshow(x[0])\n",
    "axarr[1].imshow(finalOut[0])"
   ]
  },
  {
   "cell_type": "code",
   "execution_count": 541,
   "metadata": {},
   "outputs": [
    {
     "name": "stdout",
     "output_type": "stream",
     "text": [
      "Image 2\n"
     ]
    },
    {
     "data": {
      "text/plain": [
       "<matplotlib.image.AxesImage at 0x1439a9510>"
      ]
     },
     "execution_count": 541,
     "metadata": {},
     "output_type": "execute_result"
    },
    {
     "data": {
      "image/png": "[encoded data removed]",
      "text/plain": [
       "<Figure size 432x288 with 2 Axes>"
      ]
     },
     "metadata": {
      "needs_background": "light"
     },
     "output_type": "display_data"
    }
   ],
   "source": [
    "print(\"Image 2\")\n",
    "f, axarr = plt.subplots(2,1) \n",
    "axarr[0].imshow(x[1])\n",
    "axarr[1].imshow(finalOut[1])"
   ]
  },
  {
   "cell_type": "code",
   "execution_count": 542,
   "metadata": {},
   "outputs": [
    {
     "name": "stdout",
     "output_type": "stream",
     "text": [
      "Image 3\n"
     ]
    },
    {
     "data": {
      "text/plain": [
       "<matplotlib.image.AxesImage at 0x1fcd75850>"
      ]
     },
     "execution_count": 542,
     "metadata": {},
     "output_type": "execute_result"
    },
    {
     "data": {
      "image/png": "[encoded data removed]",
      "text/plain": [
       "<Figure size 432x288 with 2 Axes>"
      ]
     },
     "metadata": {
      "needs_background": "light"
     },
     "output_type": "display_data"
    }
   ],
   "source": [
    "print(\"Image 3\")\n",
    "f, axarr = plt.subplots(2,1) \n",
    "axarr[0].imshow(x[2])\n",
    "axarr[1].imshow(finalOut[2])"
   ]
  },
  {
   "cell_type": "code",
   "execution_count": 543,
   "metadata": {},
   "outputs": [
    {
     "name": "stdout",
     "output_type": "stream",
     "text": [
      "Image 4\n"
     ]
    },
    {
     "data": {
      "text/plain": [
       "<matplotlib.image.AxesImage at 0x16942a0d0>"
      ]
     },
     "execution_count": 543,
     "metadata": {},
     "output_type": "execute_result"
    },
    {
     "data": {
      "image/png": "[encoded data removed]",
      "text/plain": [
       "<Figure size 432x288 with 2 Axes>"
      ]
     },
     "metadata": {
      "needs_background": "light"
     },
     "output_type": "display_data"
    }
   ],
   "source": [
    "print(\"Image 4\")\n",
    "f, axarr = plt.subplots(2,1) \n",
    "axarr[0].imshow(x[3])\n",
    "axarr[1].imshow(finalOut[3])"
   ]
  },
  {
   "cell_type": "code",
   "execution_count": 544,
   "metadata": {},
   "outputs": [
    {
     "name": "stdout",
     "output_type": "stream",
     "text": [
      "Image 5\n"
     ]
    },
    {
     "data": {
      "text/plain": [
       "<matplotlib.image.AxesImage at 0x1693a89d0>"
      ]
     },
     "execution_count": 544,
     "metadata": {},
     "output_type": "execute_result"
    },
    {
     "data": {
      "image/png": "[encoded data removed]",
      "text/plain": [
       "<Figure size 432x288 with 2 Axes>"
      ]
     },
     "metadata": {
      "needs_background": "light"
     },
     "output_type": "display_data"
    }
   ],
   "source": [
    "print(\"Image 5\")\n",
    "f, axarr = plt.subplots(2,1) \n",
    "axarr[0].imshow(x[4])\n",
    "axarr[1].imshow(finalOut[4])"
   ]
  },
  {
   "cell_type": "code",
   "execution_count": 545,
   "metadata": {},
   "outputs": [
    {
     "name": "stdout",
     "output_type": "stream",
     "text": [
      "Image 6\n"
     ]
    },
    {
     "data": {
      "text/plain": [
       "<matplotlib.image.AxesImage at 0x1c7685690>"
      ]
     },
     "execution_count": 545,
     "metadata": {},
     "output_type": "execute_result"
    },
    {
     "data": {
      "image/png": "[encoded data removed]",
      "text/plain": [
       "<Figure size 432x288 with 2 Axes>"
      ]
     },
     "metadata": {
      "needs_background": "light"
     },
     "output_type": "display_data"
    }
   ],
   "source": [
    "print(\"Image 6\")\n",
    "f, axarr = plt.subplots(2,1) \n",
    "axarr[0].imshow(x[5])\n",
    "axarr[1].imshow(finalOut[5])"
   ]
  },
  {
   "cell_type": "code",
   "execution_count": 546,
   "metadata": {},
   "outputs": [
    {
     "name": "stdout",
     "output_type": "stream",
     "text": [
      "Image 7\n"
     ]
    },
    {
     "data": {
      "text/plain": [
       "<matplotlib.image.AxesImage at 0x16cd53190>"
      ]
     },
     "execution_count": 546,
     "metadata": {},
     "output_type": "execute_result"
    },
    {
     "data": {
      "image/png": "[encoded data removed]",
      "text/plain": [
       "<Figure size 432x288 with 2 Axes>"
      ]
     },
     "metadata": {
      "needs_background": "light"
     },
     "output_type": "display_data"
    }
   ],
   "source": [
    "print(\"Image 7\")\n",
    "f, axarr = plt.subplots(2,1) \n",
    "axarr[0].imshow(x[6])\n",
    "axarr[1].imshow(finalOut[6])"
   ]
  },
  {
   "cell_type": "code",
   "execution_count": 547,
   "metadata": {},
   "outputs": [
    {
     "name": "stdout",
     "output_type": "stream",
     "text": [
      "Image 8\n"
     ]
    },
    {
     "data": {
      "text/plain": [
       "<matplotlib.image.AxesImage at 0x169123410>"
      ]
     },
     "execution_count": 547,
     "metadata": {},
     "output_type": "execute_result"
    },
    {
     "data": {
      "image/png": "[encoded data removed]",
      "text/plain": [
       "<Figure size 432x288 with 2 Axes>"
      ]
     },
     "metadata": {
      "needs_background": "light"
     },
     "output_type": "display_data"
    }
   ],
   "source": [
    "print(\"Image 8\")\n",
    "f, axarr = plt.subplots(2,1) \n",
    "axarr[0].imshow(x[7])\n",
    "axarr[1].imshow(finalOut[7])"
   ]
  },
  {
   "cell_type": "code",
   "execution_count": 548,
   "metadata": {},
   "outputs": [
    {
     "name": "stdout",
     "output_type": "stream",
     "text": [
      "Image 9\n"
     ]
    },
    {
     "data": {
      "text/plain": [
       "<matplotlib.image.AxesImage at 0x14ed02950>"
      ]
     },
     "execution_count": 548,
     "metadata": {},
     "output_type": "execute_result"
    },
    {
     "data": {
      "image/png": "[encoded data removed]",
      "text/plain": [
       "<Figure size 432x288 with 2 Axes>"
      ]
     },
     "metadata": {
      "needs_background": "light"
     },
     "output_type": "display_data"
    }
   ],
   "source": [
    "print(\"Image 9\")\n",
    "f, axarr = plt.subplots(2,1) \n",
    "axarr[0].imshow(x[8])\n",
    "axarr[1].imshow(finalOut[8])"
   ]
  },
  {
   "cell_type": "code",
   "execution_count": 549,
   "metadata": {},
   "outputs": [
    {
     "name": "stdout",
     "output_type": "stream",
     "text": [
      "Image 10\n"
     ]
    },
    {
     "data": {
      "text/plain": [
       "<matplotlib.image.AxesImage at 0x169561250>"
      ]
     },
     "execution_count": 549,
     "metadata": {},
     "output_type": "execute_result"
    },
    {
     "data": {
      "image/png": "[encoded data removed]",
      "text/plain": [
       "<Figure size 432x288 with 2 Axes>"
      ]
     },
     "metadata": {
      "needs_background": "light"
     },
     "output_type": "display_data"
    }
   ],
   "source": [
    "print(\"Image 10\")\n",
    "f, axarr = plt.subplots(2,1) \n",
    "axarr[0].imshow(x[9])\n",
    "axarr[1].imshow(finalOut[9])"
   ]
  },
  {
   "cell_type": "code",
   "execution_count": null,
   "metadata": {},
   "outputs": [],
   "source": []
  },
  {
   "cell_type": "code",
   "execution_count": null,
   "metadata": {},
   "outputs": [],
   "source": []
  }
 ],
 "metadata": {
  "kernelspec": {
   "display_name": "Python 3",
   "language": "python",
   "name": "python3"
  },
  "language_info": {
   "codemirror_mode": {
    "name": "ipython",
    "version": 3
   },
   "file_extension": ".py",
   "mimetype": "text/x-python",
   "name": "python",
   "nbconvert_exporter": "python",
   "pygments_lexer": "ipython3",
   "version": "3.7.4"
  }
 },
 "nbformat": 4,
 "nbformat_minor": 2
}
