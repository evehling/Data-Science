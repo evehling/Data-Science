{
  "nbformat": 4,
  "nbformat_minor": 0,
  "metadata": {
    "colab": {
      "name": "Neural Net Skeleton",
      "version": "0.3.2",
      "provenance": [],
      "collapsed_sections": [],
      "include_colab_link": true
    },
    "kernelspec": {
      "name": "python3",
      "display_name": "Python 3"
    }
  },
  "cells": [
    {
      "cell_type": "markdown",
      "metadata": {
        "id": "view-in-github",
        "colab_type": "text"
      },
      "source": [
        "<a href=\"https://colab.research.google.com/github/evehling/Data-Science/blob/master/Neural_Net_Skeleton.ipynb\" target=\"_parent\"><img src=\"https://colab.research.google.com/assets/colab-badge.svg\" alt=\"Open In Colab\"/></a>"
      ]
    },
    {
      "metadata": {
        "id": "17ZT-_V9l3pj",
        "colab_type": "text"
      },
      "cell_type": "markdown",
      "source": [
        "Neural Net Skeleton"
      ]
    },
    {
      "metadata": {
        "id": "hP55xYkfl1Gf",
        "colab_type": "code",
        "outputId": "f706d090-5310-4e15-b50c-0ae568354206",
        "colab": {
          "base_uri": "https://localhost:8080/",
          "height": 204
        }
      },
      "cell_type": "code",
      "source": [
        "import numpy as np\n",
        "\n",
        "def sigmoid(x):\n",
        "  return 1.0/(1+ np.exp(-x))\n",
        "#define sigmoid curve 1/(1+e^-x); use numpy's exponent function\n",
        "\n",
        "def sigmoid_derivative(x):\n",
        "  return x * (1.0 -x)\n",
        "#define sigmoid derivative function\n",
        "\n",
        "class NeuralNetwork:\n",
        "  def __init__(self,x,y):\n",
        "#define 2 attributes, x (the input values) and y (the expected output)\n",
        "    self.input = x\n",
        " #define first set of weights--initially they are randomly chosen\n",
        "    self.weights1 = np.random.rand(self.input.shape[1],4)\n",
        "    self.weights2 = np.random.rand(4,1)\n",
        "    self.y = y\n",
        "    self.output = np.zeros(self.y.shape)\n",
        " #returns an array with self.y.shape \n",
        "   \n",
        "  def feedforward(self):\n",
        " #apply the sigmoid function to the results of matrix multiplication of X (the array of 0 and 1) and weights\n",
        "      self.layer1 = sigmoid(np.dot(self.input, self.weights1))\n",
        " #apply sigmoid function to the matrix multiplication of the above results and the second set of weights\n",
        "      self.output = sigmoid(np.dot(self.layer1, self.weights2))\n",
        "  \n",
        "  def backprop(self):\n",
        "  #to calculate second set of weights, multiply error by the sigmoid derivative of the output from above\n",
        "  #the multiplying by 2 of the error calc is bc of the the way you derive the sigmoid function\n",
        "    d_weights2 = np.dot(self.layer1.T, (2*(self.y - self.output) * sigmoid_derivative(self.output)))\n",
        "    #matrix multiplication of layer 1 X (2* error calc * derivative of hidden layer output)\n",
        " \n",
        "    d_weights1 = np.dot(self.input.T, (np.dot(2*(self.y - self.output)* sigmoid_derivative(self.output), self.weights2.T)* \n",
        "                                      sigmoid_derivative(self.layer1)))\n",
        "    \n",
        " #the np.dot creates an array of the weights (that we can see in the output cell)\n",
        "\n",
        "    #update weights with matrix multiplication that we did in calculation d_weights 1 & 2\n",
        "    \n",
        "    self.weights1 += d_weights1\n",
        "    self.weights2 += d_weights2\n",
        "    \n",
        "if __name__ == \"__main__\":\n",
        "  #inputs/training data in an array\n",
        "  X = np.array([[0,0,1],\n",
        "               [0,1,1],\n",
        "               [1,0,1],\n",
        "               [1,1,1]])\n",
        "  #the expected y outcomes for training data\n",
        "  y= np.array([[0], [1], [1], [0]])\n",
        "  #create new NeuralNetwork object using array and expected outputs\n",
        "  nn = NeuralNetwork(X,y)\n",
        "  \n",
        "  #for integers in range 0-10,000 run through feedforward() and backprop() methods \n",
        "  for i in range(50000):\n",
        "    #iterate these two functions in range^^\n",
        "    nn.feedforward()\n",
        "    nn.backprop()\n",
        "    \n",
        "  print(nn.weights1)\n",
        "  print(nn.weights2)\n",
        "  print(nn.output)\n",
        "\n"
      ],
      "execution_count": 0,
      "outputs": [
        {
          "output_type": "stream",
          "text": [
            "[[ 7.2286654   5.41424057  0.11755715  3.87443952]\n",
            " [ 7.3828378   5.19532697  0.60381793  4.06314229]\n",
            " [-3.18934235 -7.99870787  1.83196799 -1.38272154]]\n",
            "[[ 11.17048373]\n",
            " [-13.36106102]\n",
            " [ -7.85947311]\n",
            " [  2.91076883]]\n",
            "[[0.00316167]\n",
            " [0.99678937]\n",
            " [0.99712289]\n",
            " [0.00346493]]\n"
          ],
          "name": "stdout"
        }
      ]
    }
  ]
}