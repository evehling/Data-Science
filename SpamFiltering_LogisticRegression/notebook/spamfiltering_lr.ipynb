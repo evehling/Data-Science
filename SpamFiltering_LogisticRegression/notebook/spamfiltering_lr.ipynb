{
 "cells": [
  {
   "cell_type": "markdown",
   "metadata": {},
   "source": [
    "Elisabeth Vehling\n",
    "INF 352\n",
    "Lab 4"
   ]
  },
  {
   "cell_type": "code",
   "execution_count": 6,
   "metadata": {},
   "outputs": [],
   "source": [
    "import pandas as pd\n",
    "import sklearn as sk\n",
    "from sklearn import model_selection\n",
    "import math as math\n",
    "import numpy as np"
   ]
  },
  {
   "cell_type": "markdown",
   "metadata": {},
   "source": [
    "**(a) Download YouTube Spam Collection data set**"
   ]
  },
  {
   "cell_type": "code",
   "execution_count": 7,
   "metadata": {},
   "outputs": [],
   "source": [
    "#Load eminem data set\n",
    "data = pd.read_csv('../data/Youtube04-Eminem.csv')"
   ]
  },
  {
   "cell_type": "markdown",
   "metadata": {},
   "source": [
    "**(b) Select the first 80% of hams and first 80% of spams as training set and rest as test set**"
   ]
  },
  {
   "cell_type": "code",
   "execution_count": 8,
   "metadata": {},
   "outputs": [],
   "source": [
    "#Divide dataset into ham and spam\n",
    "ham = data.loc[data['CLASS'] == 0]\n",
    "spam = data.loc[data['CLASS'] == 1]\n",
    "\n",
    "#Split ham into train and test data\n",
    "hamTrainIndex = math.floor(ham.shape[0]*.8)\n",
    "hamTrain = ham.iloc[0:hamTrainIndex, :]\n",
    "hamTest = ham.iloc[hamTrainIndex:, :]\n",
    "\n",
    "#Split spam into train and test data\n",
    "spamTrainIndex = math.floor(spam.shape[0]*.8)\n",
    "spamTrain = spam.iloc[0:spamTrainIndex, :]\n",
    "spamTest = spam.iloc[spamTrainIndex:, :]\n",
    "\n",
    "#Concat the training and testing datasets\n",
    "train = pd.concat([hamTrain, spamTrain])\n",
    "test = pd.concat([hamTest,spamTest])"
   ]
  },
  {
   "cell_type": "markdown",
   "metadata": {},
   "source": [
    "**(c) Represent each comment using TF-IDF features. Consider each comment a document and the whole set of comments in the file as the corpus**"
   ]
  },
  {
   "cell_type": "code",
   "execution_count": 9,
   "metadata": {},
   "outputs": [],
   "source": [
    "from sklearn.feature_extraction.text import TfidfVectorizer\n",
    "vectorizer = TfidfVectorizer()\n",
    "x_train = vectorizer.fit_transform(train['CONTENT'])\n",
    "x_test = vectorizer.transform(test['CONTENT'])"
   ]
  },
  {
   "cell_type": "markdown",
   "metadata": {},
   "source": [
    "**(d) L2 Penalized Logistic regression**"
   ]
  },
  {
   "cell_type": "code",
   "execution_count": 10,
   "metadata": {},
   "outputs": [],
   "source": [
    "# import numpy as np\n",
    "x_train = x_train.toarray()\n",
    "x_test = x_test.toarray()\n",
    "\n",
    "X = np.nan_to_num(x_train)\n",
    "Y = np.nan_to_num(train.CLASS)"
   ]
  },
  {
   "cell_type": "markdown",
   "metadata": {},
   "source": [
    "**(i) determine lambda using 5-fold CV on training set. Consiter log10 lamda is in the set of {-5->5}**"
   ]
  },
  {
   "cell_type": "code",
   "execution_count": 11,
   "metadata": {},
   "outputs": [
    {
     "name": "stdout",
     "output_type": "stream",
     "text": [
      "C= -5 average score: 0.9023082942097027\n",
      "C= -4 average score: 0.8995305164319249\n",
      "C= -3 average score: 0.8939358372456964\n",
      "C= -2 average score: 0.8911971830985916\n",
      "C= -1 average score: 0.8687793427230048\n",
      "C= 0 average score: 0.6985524256651017\n",
      "C= 1 average score: 0.23998435054773082\n",
      "C= 2 average score: 0.125\n",
      "C= 3 average score: 0.05\n",
      "C= 4 average score: 0.05\n",
      "C= 5 average score: 0.05\n",
      "Best lamda: -5\n"
     ]
    }
   ],
   "source": [
    "from sklearn.linear_model import LogisticRegressionCV\n",
    "from sklearn.linear_model import LogisticRegression\n",
    "from sklearn.model_selection import KFold\n",
    "#Lamdas to test:\n",
    "cs =[-5,-4,-3,-2,-1,0,1,2,3,4,5]\n",
    "\n",
    "lamda = 0\n",
    "max_score = 0\n",
    "#Iterate through each possible lamda\n",
    "for c in cs:\n",
    "    #Lambda:\n",
    "    l = 1/(10**(c))\n",
    "    \n",
    "    #Five-fold cross validation\n",
    "    kf = KFold(n_splits=5)\n",
    "    avg_score = 0;\n",
    "    for train_i, test_i in kf.split(X):\n",
    "        #Get the training and testing data for the fold\n",
    "        X_train, X_test = X[train_i], X[test_i]\n",
    "        y_train, y_test = Y[train_i], Y[test_i]\n",
    "        \n",
    "        #Fit LR model on training data\n",
    "        lr = LogisticRegression(penalty='l2', C=l, solver = 'lbfgs').fit(X_train, y_train)\n",
    "        score = lr.score(X_test, y_test )\n",
    "        avg_score += score\n",
    "    avg_score /=5;\n",
    "    print(\"C=\",c, \"average score:\" , avg_score)\n",
    "    if avg_score > max_score:\n",
    "        max_score = avg_score\n",
    "        lamda = c\n",
    "#iterate thru lambda value, then tts into 5 folds (5 tts?) then fit LR model, test, return lamda with highest .score\n",
    "print(\"Best lamda:\", lamda)"
   ]
  },
  {
   "cell_type": "markdown",
   "metadata": {},
   "source": [
    "**(ii) Train L2 penalized LR using the lambda from above. Calculate confusion matrix, accuracy, precision, recall, and F1 score as well as the ROC curve and AUC for training set**"
   ]
  },
  {
   "cell_type": "code",
   "execution_count": 14,
   "metadata": {},
   "outputs": [
    {
     "name": "stdout",
     "output_type": "stream",
     "text": [
      "Train Classification Report:\n",
      "Accuracy: 1.0 \n",
      "Precision: 1.0 \n",
      "Recall: 1.0 \n",
      "F1: 1.0\n",
      "Train Confusion Matrix: \n",
      " [[162   0]\n",
      " [  0 196]]\n"
     ]
    }
   ],
   "source": [
    "from sklearn import metrics\n",
    "from sklearn.metrics import classification_report\n",
    "from sklearn.metrics import precision_recall_fscore_support\n",
    "\n",
    "#change C to be 1/lamda \n",
    "#Fit a LR model with the lamda from above\n",
    "lr = LogisticRegression(penalty='l2', C=1/(10**lamda), solver='lbfgs').fit(x_train, train[\"CLASS\"] )\n",
    "\n",
    "predictions = lr.predict(x_train)\n",
    "scores = lr.score(x_train, train[\"CLASS\"])\n",
    "probs = lr.predict_proba(x_train)\n",
    "probs = probs[:,1]\n",
    "\n",
    "#Precision, recall, F1\n",
    "print(\"Train Classification Report:\")\n",
    "accuracy = metrics.accuracy_score(train[\"CLASS\"], predictions)\n",
    "precision, recall, fscore, support = precision_recall_fscore_support(train[\"CLASS\"], predictions, pos_label=1, average= 'binary')\n",
    "\n",
    "print(\"Accuracy:\", accuracy, \"\\nPrecision:\",precision, \"\\nRecall:\",recall, \"\\nF1:\", fscore)\n",
    "\n",
    "\n",
    "#Confusion Matrix\n",
    "cm = metrics.confusion_matrix(train[\"CLASS\"], predictions)\n",
    "print(\"Train Confusion Matrix: \\n\", cm)\n"
   ]
  },
  {
   "cell_type": "code",
   "execution_count": 15,
   "metadata": {},
   "outputs": [
    {
     "name": "stdout",
     "output_type": "stream",
     "text": [
      "Train AUC:  1.0\n",
      "Train ROC:\n"
     ]
    },
    {
     "data": {
      "image/png": "[encoded data removed]",
      "text/plain": [
       "<Figure size 432x288 with 1 Axes>"
      ]
     },
     "metadata": {
      "needs_background": "light"
     },
     "output_type": "display_data"
    }
   ],
   "source": [
    "import matplotlib.pyplot as plt\n",
    "\n",
    "#Calcualte ROC features\n",
    "fpr, tpr, thresholds = metrics.roc_curve(train[\"CLASS\"], probs, pos_label=1)\n",
    "\n",
    "#Calculate AUC\n",
    "roc_auc = metrics.auc(fpr, tpr)\n",
    "\n",
    "#Plot ROC\n",
    "print('Train AUC: ', roc_auc)\n",
    "print(\"Train ROC:\")\n",
    "plt.title('Train ROC Plot')\n",
    "plt.plot(fpr, tpr, 'b', label='AUC = %0.2f'%roc_auc)\n",
    "plt.plot([0, 1], [0, 1],'r--')\n",
    "plt.ylabel('TPR')\n",
    "plt.xlabel('FPR')\n",
    "plt.show()\n"
   ]
  },
  {
   "cell_type": "markdown",
   "metadata": {},
   "source": [
    "**(iii) Test on test set and calculate confusion matrix, accuracy, precision, recall, and F1 score + ROC curve and AUC for test set. **"
   ]
  },
  {
   "cell_type": "code",
   "execution_count": 16,
   "metadata": {},
   "outputs": [
    {
     "name": "stdout",
     "output_type": "stream",
     "text": [
      "Test Classification Report:\n",
      "Accuracy: 0.9666666666666667 \n",
      "Precision: 0.9791666666666666 \n",
      "Recall: 0.9591836734693877 \n",
      "F1: 0.9690721649484536\n",
      "Test Confusion Matrix: \n",
      " [[40  1]\n",
      " [ 2 47]]\n"
     ]
    }
   ],
   "source": [
    "#Fit a LR model with the lamda \n",
    "lr = LogisticRegression(penalty='l2', C=1/(10**lamda), solver='lbfgs').fit(x_train, train[\"CLASS\"] )\n",
    "\n",
    "predictions = lr.predict(x_test)\n",
    "scores = lr.score(x_test, test[\"CLASS\"])\n",
    "probs = lr.predict_proba(x_test)\n",
    "probs = probs[:,1]\n",
    "\n",
    "#Precision, recall, F1\n",
    "print(\"Test Classification Report:\")\n",
    "accuracy = metrics.accuracy_score(test[\"CLASS\"], predictions)\n",
    "precision, recall, fscore, support = precision_recall_fscore_support(test[\"CLASS\"], predictions, pos_label=1, average= 'binary')\n",
    "\n",
    "print(\"Accuracy:\", accuracy, \"\\nPrecision:\",precision, \"\\nRecall:\",recall, \"\\nF1:\", fscore)\n",
    "\n",
    "#Confusion Matrix\n",
    "cm = metrics.confusion_matrix(test[\"CLASS\"], predictions)\n",
    "print(\"Test Confusion Matrix: \\n\", cm)\n"
   ]
  },
  {
   "cell_type": "code",
   "execution_count": 17,
   "metadata": {},
   "outputs": [
    {
     "name": "stdout",
     "output_type": "stream",
     "text": [
      "Test AUC:  0.9970134395221503\n",
      "Test ROC:\n"
     ]
    },
    {
     "data": {
      "image/png": "[encoded data removed]",
      "text/plain": [
       "<Figure size 432x288 with 1 Axes>"
      ]
     },
     "metadata": {
      "needs_background": "light"
     },
     "output_type": "display_data"
    }
   ],
   "source": [
    "#Calcualte ROC features\n",
    "fpr, tpr, thresholds = metrics.roc_curve(test[\"CLASS\"], probs, pos_label=1)\n",
    "\n",
    "#Calculate AUC\n",
    "roc_auc = metrics.auc(fpr, tpr)\n",
    "\n",
    "#Plot ROC\n",
    "print('Test AUC: ', roc_auc)\n",
    "print(\"Test ROC:\")\n",
    "plt.title('Test ROC Plot')\n",
    "plt.plot(fpr, tpr, 'b', label='AUC = %0.2f'%roc_auc)\n",
    "plt.plot([0, 1], [0, 1],'r--')\n",
    "plt.ylabel('TPR')\n",
    "plt.xlabel('FPR')\n",
    "plt.show()\n"
   ]
  },
  {
   "cell_type": "markdown",
   "metadata": {},
   "source": [
    "**Which one is more important in this application, precision or recall?** I believe that recall is more important in this application, as we care about how the percentage of positive spam instances our algorithm correctly classified."
   ]
  },
  {
   "cell_type": "markdown",
   "metadata": {},
   "source": [
    "**Calculate F beta score for B's = {0.1,0.5,0.9,1,5,10}**"
   ]
  },
  {
   "cell_type": "code",
   "execution_count": 18,
   "metadata": {},
   "outputs": [
    {
     "name": "stdout",
     "output_type": "stream",
     "text": [
      "Beta: 0.1 \tScore: 0.9789647349969065\n",
      "Beta: 0.5 \tScore: 0.975103734439834\n",
      "Beta: 0.9 \tScore: 0.9701220207549323\n",
      "Beta: 1.0 \tScore: 0.9690721649484536\n",
      "Beta: 5.0 \tScore: 0.959937156323645\n",
      "Beta: 10.0 \tScore: 0.9593775262732418\n"
     ]
    }
   ],
   "source": [
    "from sklearn.metrics import fbeta_score\n",
    "betas = [0.1, 0.5, 0.9, 1.0, 5.0, 10.0]\n",
    "scores = []\n",
    "for b in betas:\n",
    "    score = fbeta_score(test[\"CLASS\"], predictions, beta=b)\n",
    "    scores.append(score)\n",
    "for i in range(6):\n",
    "    print(\"Beta:\", betas[i], \"\\tScore:\", scores[i])"
   ]
  },
  {
   "cell_type": "markdown",
   "metadata": {},
   "source": [
    "**1(e)ii. Train L1 penalized LR using lamda from 1(e)i. Calculate confustion matrix, accuracy, precision, recall, F1 score as well as ROC curve and AUC for your training set**"
   ]
  },
  {
   "cell_type": "code",
   "execution_count": 19,
   "metadata": {},
   "outputs": [
    {
     "name": "stdout",
     "output_type": "stream",
     "text": [
      "C= -5 average score: 0.8546948356807512\n",
      "C= -4 average score: 0.9219483568075117\n",
      "C= -3 average score: 0.9219092331768388\n",
      "C= -2 average score: 0.9247261345852895\n"
     ]
    },
    {
     "name": "stderr",
     "output_type": "stream",
     "text": [
      "/opt/anaconda3/lib/python3.7/site-packages/sklearn/svm/base.py:929: ConvergenceWarning: Liblinear failed to converge, increase the number of iterations.\n",
      "  \"the number of iterations.\", ConvergenceWarning)\n"
     ]
    },
    {
     "name": "stdout",
     "output_type": "stream",
     "text": [
      "C= -1 average score: 0.930320813771518\n",
      "C= 0 average score: 0.8685054773082943\n",
      "C= 1 average score: 0.05\n",
      "C= 2 average score: 0.45\n",
      "C= 3 average score: 0.45\n",
      "C= 4 average score: 0.45\n",
      "C= 5 average score: 0.45\n",
      "Best lamda: -1\n"
     ]
    },
    {
     "name": "stderr",
     "output_type": "stream",
     "text": [
      "/opt/anaconda3/lib/python3.7/site-packages/sklearn/svm/base.py:929: ConvergenceWarning: Liblinear failed to converge, increase the number of iterations.\n",
      "  \"the number of iterations.\", ConvergenceWarning)\n"
     ]
    }
   ],
   "source": [
    "#Lamdas:\n",
    "cs =[-5,-4,-3,-2,-1,0,1,2,3,4,5]\n",
    "\n",
    "lamda = 0\n",
    "max_score = 0\n",
    "#Iterate through each possible lamda\n",
    "for c in cs:\n",
    "    #Lambda:\n",
    "    l = 1/(10**(c))\n",
    "    \n",
    "    #Five-fold cross validation\n",
    "    kf = KFold(n_splits=5)\n",
    "    avg_score = 0;\n",
    "    for train_i, test_i in kf.split(X):\n",
    "        #Get the training and testing data for the fold\n",
    "        X_train, X_test = X[train_i], X[test_i]\n",
    "        y_train, y_test = Y[train_i], Y[test_i]\n",
    "        \n",
    "        #Fit LR model on training data\n",
    "        lr = LogisticRegression(penalty='l1', C=l, solver = 'liblinear').fit(X_train, y_train)\n",
    "        score = lr.score(X_test, y_test )\n",
    "        avg_score += score\n",
    "    avg_score /=5;\n",
    "    print(\"C=\",c, \"average score:\" , avg_score)\n",
    "    if avg_score > max_score:\n",
    "        max_score = avg_score\n",
    "        lamda = c\n",
    "#iterate thru lambda value, then tts into 5 folds (5 tts?) then fit LR model, test, return lamda with highest .score\n",
    "print(\"Best lamda:\", lamda)"
   ]
  },
  {
   "cell_type": "markdown",
   "metadata": {},
   "source": [
    "**1(e)i. Determine lamda using 5-fold CV on your training set.**"
   ]
  },
  {
   "cell_type": "code",
   "execution_count": 20,
   "metadata": {},
   "outputs": [
    {
     "name": "stdout",
     "output_type": "stream",
     "text": [
      "Train Classification Report:\n",
      "Accuracy: 1.0 \n",
      "Precision: 1.0 \n",
      "Recall: 1.0 \n",
      "F1: 1.0\n",
      "Train Confusion Matrix: \n",
      " [[162   0]\n",
      " [  0 196]]\n"
     ]
    }
   ],
   "source": [
    "#Fit a LR model with the lamda from above\n",
    "lr = LogisticRegression(penalty='l1', C=1/(10**lamda), solver='liblinear').fit(x_train, train[\"CLASS\"] )\n",
    "\n",
    "predictions = lr.predict(x_train)\n",
    "scores = lr.score(x_train, train[\"CLASS\"])\n",
    "probs = lr.predict_proba(x_train)\n",
    "probs = probs[:,1]\n",
    "\n",
    "#Precision, recall, F1\n",
    "print(\"Train Classification Report:\")\n",
    "accuracy = metrics.accuracy_score(train[\"CLASS\"], predictions)\n",
    "precision, recall, fscore, support = precision_recall_fscore_support(train[\"CLASS\"], predictions, pos_label=1, average= 'binary')\n",
    "\n",
    "print(\"Accuracy:\", accuracy, \"\\nPrecision:\",precision, \"\\nRecall:\",recall, \"\\nF1:\", fscore)\n",
    "\n",
    "#Confusion Matrix\n",
    "cm = metrics.confusion_matrix(train[\"CLASS\"], predictions)\n",
    "print(\"Train Confusion Matrix: \\n\", cm)\n"
   ]
  },
  {
   "cell_type": "markdown",
   "metadata": {},
   "source": [
    "**1(e)iii. Test the algorithm on the test set and calculate the confusion matrix, accuracy, precision, recall, and F1 score as well as the ROC curve and AUC for the test set**"
   ]
  },
  {
   "cell_type": "code",
   "execution_count": 21,
   "metadata": {},
   "outputs": [
    {
     "name": "stdout",
     "output_type": "stream",
     "text": [
      "Test Classification Report:\n",
      "Accuracy: 0.9444444444444444 \n",
      "Precision: 0.9782608695652174 \n",
      "Recall: 0.9183673469387755 \n",
      "F1: 0.9473684210526316\n",
      "Test Confusion Matrix: \n",
      " [[40  1]\n",
      " [ 4 45]]\n"
     ]
    }
   ],
   "source": [
    "#Fit a LR model with the lamda \n",
    "lr = LogisticRegression(penalty='l1', C=1/(10**lamda), solver='liblinear').fit(x_train, train[\"CLASS\"] )\n",
    "\n",
    "predictions = lr.predict(x_test)\n",
    "scores = lr.score(x_test, test[\"CLASS\"])\n",
    "probs = lr.predict_proba(x_test)\n",
    "probs = probs[:,1]\n",
    "\n",
    "#Precision, recall, F1\n",
    "print(\"Test Classification Report:\")\n",
    "accuracy = metrics.accuracy_score(test[\"CLASS\"], predictions)\n",
    "precision, recall, fscore, support = precision_recall_fscore_support(test[\"CLASS\"], predictions, pos_label=1, average= 'binary')\n",
    "\n",
    "print(\"Accuracy:\", accuracy, \"\\nPrecision:\",precision, \"\\nRecall:\",recall, \"\\nF1:\", fscore)\n",
    "\n",
    "#Confusion Matrix\n",
    "cm = metrics.confusion_matrix(test[\"CLASS\"], predictions)\n",
    "print(\"Test Confusion Matrix: \\n\", cm)"
   ]
  },
  {
   "cell_type": "code",
   "execution_count": 22,
   "metadata": {},
   "outputs": [
    {
     "name": "stdout",
     "output_type": "stream",
     "text": [
      "Test AUC:  0.9965156794425087\n",
      "Test ROC:\n"
     ]
    },
    {
     "data": {
      "image/png": "[encoded data removed]",
      "text/plain": [
       "<Figure size 432x288 with 1 Axes>"
      ]
     },
     "metadata": {
      "needs_background": "light"
     },
     "output_type": "display_data"
    }
   ],
   "source": [
    "#Calcualte ROC features\n",
    "fpr, tpr, thresholds = metrics.roc_curve(test[\"CLASS\"], probs, pos_label=1)\n",
    "\n",
    "#Calculate AUC\n",
    "roc_auc = metrics.auc(fpr, tpr)\n",
    "\n",
    "#Plot ROC\n",
    "print('Test AUC: ', roc_auc)\n",
    "print(\"Test ROC:\")\n",
    "plt.title('Test ROC Plot')\n",
    "plt.plot(fpr, tpr, 'b', label='AUC = %0.2f'%roc_auc)\n",
    "plt.plot([0, 1], [0, 1],'r--')\n",
    "plt.ylabel('TPR')\n",
    "plt.xlabel('FPR')\n",
    "plt.show()"
   ]
  },
  {
   "cell_type": "markdown",
   "metadata": {},
   "source": [
    "**1(f) Binary classification using Naiive Bayes' Classifiers**"
   ]
  },
  {
   "cell_type": "markdown",
   "metadata": {},
   "source": [
    "**1(f)i. Solve the problem using a NB classifier. Use gaussian class conditional distributions. Report the confusion matrix, ROC, precision, recall, F1, and AUC for both the train and test data sets**"
   ]
  },
  {
   "cell_type": "code",
   "execution_count": 23,
   "metadata": {},
   "outputs": [
    {
     "name": "stdout",
     "output_type": "stream",
     "text": [
      "Naiive Bayes Train Classification Report:\n",
      "Accuracy: 0.9972067039106145 \n",
      "Precision: 1.0 \n",
      "Recall: 0.9948979591836735 \n",
      "F1: 0.9974424552429668\n",
      "Naiive Bayes Train Confusion Matrix: \n",
      " [[162   0]\n",
      " [  1 195]]\n"
     ]
    }
   ],
   "source": [
    "from sklearn.naive_bayes import GaussianNB\n",
    "nb = GaussianNB()\n",
    "nb.fit(x_train, train[\"CLASS\"])\n",
    "\n",
    "predictions = nb.predict(x_train)\n",
    "scores = nb.score(x_train, train[\"CLASS\"])\n",
    "probs = nb.predict_proba(x_train)\n",
    "probs = probs[:,1]\n",
    "\n",
    "#Precision, recall, F1\n",
    "print(\"Naiive Bayes Train Classification Report:\")\n",
    "accuracy = metrics.accuracy_score(train[\"CLASS\"], predictions)\n",
    "precision, recall, fscore, support = precision_recall_fscore_support(train[\"CLASS\"], predictions, pos_label=1, average= 'binary')\n",
    "\n",
    "print(\"Accuracy:\", accuracy, \"\\nPrecision:\",precision, \"\\nRecall:\",recall, \"\\nF1:\", fscore)\n",
    "\n",
    "#Confusion Matrix\n",
    "cm = metrics.confusion_matrix(train[\"CLASS\"], predictions)\n",
    "print(\"Naiive Bayes Train Confusion Matrix: \\n\", cm)"
   ]
  },
  {
   "cell_type": "code",
   "execution_count": 24,
   "metadata": {},
   "outputs": [
    {
     "name": "stdout",
     "output_type": "stream",
     "text": [
      "Naiive Bayes Train AUC:  0.9974489795918368\n",
      "Naiive Bayes Train ROC:\n"
     ]
    },
    {
     "data": {
      "image/png": "[encoded data removed]",
      "text/plain": [
       "<Figure size 432x288 with 1 Axes>"
      ]
     },
     "metadata": {
      "needs_background": "light"
     },
     "output_type": "display_data"
    }
   ],
   "source": [
    "#Calcualte ROC features\n",
    "fpr, tpr, thresholds = metrics.roc_curve(train[\"CLASS\"], probs, pos_label=1)\n",
    "\n",
    "#Calculate AUC\n",
    "roc_auc = metrics.auc(fpr, tpr)\n",
    "\n",
    "#Plot ROC\n",
    "print('Naiive Bayes Train AUC: ', roc_auc)\n",
    "print(\"Naiive Bayes Train ROC:\")\n",
    "plt.title('Train ROC Plot')\n",
    "plt.plot(fpr, tpr, 'b', label='AUC = %0.2f'%roc_auc)\n",
    "plt.plot([0, 1], [0, 1],'r--')\n",
    "plt.ylabel('TPR')\n",
    "plt.xlabel('FPR')\n",
    "plt.show()"
   ]
  },
  {
   "cell_type": "markdown",
   "metadata": {},
   "source": []
  },
  {
   "cell_type": "code",
   "execution_count": 25,
   "metadata": {},
   "outputs": [
    {
     "name": "stdout",
     "output_type": "stream",
     "text": [
      "Test Classification Report:\n",
      "Accuracy: 0.9222222222222223 \n",
      "Precision: 0.8888888888888888 \n",
      "Recall: 0.9795918367346939 \n",
      "F1: 0.9320388349514563\n",
      "Test Confusion Matrix: \n",
      " [[35  6]\n",
      " [ 1 48]]\n"
     ]
    }
   ],
   "source": [
    "nb = GaussianNB()\n",
    "nb.fit(x_train, train[\"CLASS\"])\n",
    "\n",
    "predictions = nb.predict(x_test)\n",
    "scores = nb.score(x_test, test[\"CLASS\"])\n",
    "probs = nb.predict_proba(x_test)\n",
    "probs = probs[:,1]\n",
    "\n",
    "#Precision, recall, F1\n",
    "print(\"Test Classification Report:\")\n",
    "accuracy = metrics.accuracy_score(test[\"CLASS\"], predictions)\n",
    "precision, recall, fscore, support = precision_recall_fscore_support(test[\"CLASS\"], predictions, pos_label=1, average= 'binary')\n",
    "\n",
    "print(\"Accuracy:\", accuracy, \"\\nPrecision:\",precision, \"\\nRecall:\",recall, \"\\nF1:\", fscore)\n",
    "\n",
    "#Confusion Matrix\n",
    "cm = metrics.confusion_matrix(test[\"CLASS\"], predictions)\n",
    "print(\"Test Confusion Matrix: \\n\", cm)"
   ]
  },
  {
   "cell_type": "code",
   "execution_count": 26,
   "metadata": {},
   "outputs": [
    {
     "name": "stdout",
     "output_type": "stream",
     "text": [
      "Test AUC:  0.9166251866600298\n",
      "Test ROC:\n"
     ]
    },
    {
     "data": {
      "image/png": "[encoded data removed]",
      "text/plain": [
       "<Figure size 432x288 with 1 Axes>"
      ]
     },
     "metadata": {
      "needs_background": "light"
     },
     "output_type": "display_data"
    }
   ],
   "source": [
    "#Calcualte ROC features\n",
    "fpr, tpr, thresholds = metrics.roc_curve(test[\"CLASS\"], probs, pos_label=1)\n",
    "\n",
    "#Calculate AUC\n",
    "roc_auc = metrics.auc(fpr, tpr)\n",
    "\n",
    "#Plot ROC\n",
    "print('Test AUC: ', roc_auc)\n",
    "print(\"Test ROC:\")\n",
    "plt.title('Test ROC Plot')\n",
    "plt.plot(fpr, tpr, 'b', label='AUC = %0.2f'%roc_auc)\n",
    "plt.plot([0, 1], [0, 1],'r--')\n",
    "plt.ylabel('TPR')\n",
    "plt.xlabel('FPR')\n",
    "plt.show()"
   ]
  },
  {
   "cell_type": "markdown",
   "metadata": {},
   "source": [
    "**1(g). (Extra Credit, 5 points) Repeat 1(f)i using multinomial priors.**"
   ]
  },
  {
   "cell_type": "code",
   "execution_count": 27,
   "metadata": {},
   "outputs": [
    {
     "name": "stdout",
     "output_type": "stream",
     "text": [
      "Multinomial Naiive Bayes Train Classification Report:\n",
      "Accuracy: 0.9776536312849162 \n",
      "Precision: 0.9653465346534653 \n",
      "Recall: 0.9948979591836735 \n",
      "F1: 0.9798994974874372\n",
      "Multinomial Naiive Bayes Train Confusion Matrix: \n",
      " [[155   7]\n",
      " [  1 195]]\n",
      "\n",
      "Multinomial NB Train AUC:  0.999023683547493\n",
      "Multinomial NB Train ROC:\n"
     ]
    },
    {
     "data": {
      "image/png": "[encoded data removed]",
      "text/plain": [
       "<Figure size 432x288 with 1 Axes>"
      ]
     },
     "metadata": {
      "needs_background": "light"
     },
     "output_type": "display_data"
    }
   ],
   "source": [
    "from sklearn.naive_bayes import MultinomialNB\n",
    "#Create a new naiive bayes classifier\n",
    "g = MultinomialNB()\n",
    "\n",
    "#Fit with the training data\n",
    "predictions = g.fit(x_train, train[\"CLASS\"]).predict(x_train)\n",
    "\n",
    "#Make predictions for test data\n",
    "probs = g.predict_proba(x_train)\n",
    "probs = probs[:,1]\n",
    "\n",
    "print(\"Multinomial Naiive Bayes Train Classification Report:\")\n",
    "accuracy = metrics.accuracy_score(train[\"CLASS\"], predictions)\n",
    "precision, recall, fscore, support = precision_recall_fscore_support(train[\"CLASS\"], predictions, pos_label=1, average= 'binary')\n",
    "\n",
    "print(\"Accuracy:\", accuracy, \"\\nPrecision:\",precision, \"\\nRecall:\",recall, \"\\nF1:\", fscore)\n",
    "\n",
    "#Confusion Matrix\n",
    "cm = metrics.confusion_matrix(train[\"CLASS\"], predictions)\n",
    "print(\"Multinomial Naiive Bayes Train Confusion Matrix: \\n\", cm)\n",
    "\n",
    "#plot ROC\n",
    "fpr, tpr, thresholds = metrics.roc_curve(train[\"CLASS\"], probs, pos_label=1)\n",
    "roc_auc = metrics.auc(fpr, tpr)\n",
    "\n",
    "print('\\nMultinomial NB Train AUC: ', roc_auc)\n",
    "print(\"Multinomial NB Train ROC:\")\n",
    "plt.title('Multinomial NB Train ROC Plot')\n",
    "plt.plot(fpr, tpr, 'b', label='AUC = %0.2f'%roc_auc)\n",
    "plt.plot([0, 1], [0, 1],'r--')\n",
    "plt.ylabel('TPR')\n",
    "plt.xlabel('FPR')\n",
    "plt.show()\n"
   ]
  },
  {
   "cell_type": "code",
   "execution_count": 28,
   "metadata": {},
   "outputs": [
    {
     "name": "stdout",
     "output_type": "stream",
     "text": [
      "Multinomial Naiive Bayes Test Classification Report:\n",
      "Accuracy: 0.9 \n",
      "Precision: 0.8448275862068966 \n",
      "Recall: 1.0 \n",
      "F1: 0.9158878504672897\n",
      "Multinomial Naiive Bayes Test Confusion Matrix: \n",
      " [[32  9]\n",
      " [ 0 49]]\n",
      "\n",
      "Multinomial NB Test AUC:  0.9980089596814335\n",
      "Multinomial NB Test ROC:\n"
     ]
    },
    {
     "data": {
      "image/png": "[encoded data removed]",
      "text/plain": [
       "<Figure size 432x288 with 1 Axes>"
      ]
     },
     "metadata": {
      "needs_background": "light"
     },
     "output_type": "display_data"
    }
   ],
   "source": [
    "#Create a new naiive bayes classifier\n",
    "g = MultinomialNB()\n",
    "\n",
    "#Fit with the training data\n",
    "predictions = g.fit(x_train, train[\"CLASS\"]).predict(x_test)\n",
    "\n",
    "#Make predictions for test data\n",
    "probs = g.predict_proba(x_test)\n",
    "probs = probs[:,1]\n",
    "\n",
    "print(\"Multinomial Naiive Bayes Test Classification Report:\")\n",
    "accuracy = metrics.accuracy_score(test[\"CLASS\"], predictions)\n",
    "precision, recall, fscore, support = precision_recall_fscore_support(test[\"CLASS\"], predictions, pos_label=1, average= 'binary')\n",
    "\n",
    "print(\"Accuracy:\", accuracy, \"\\nPrecision:\",precision, \"\\nRecall:\",recall, \"\\nF1:\", fscore)\n",
    "\n",
    "#Confusion Matrix\n",
    "cm = metrics.confusion_matrix(test[\"CLASS\"], predictions)\n",
    "print(\"Multinomial Naiive Bayes Test Confusion Matrix: \\n\", cm)\n",
    "\n",
    "#plot ROC\n",
    "fpr, tpr, thresholds = metrics.roc_curve(test[\"CLASS\"], probs, pos_label=1)\n",
    "roc_auc = metrics.auc(fpr, tpr)\n",
    "\n",
    "print('\\nMultinomial NB Test AUC: ', roc_auc)\n",
    "print(\"Multinomial NB Test ROC:\")\n",
    "plt.title('Multinomial NB Test ROC Plot')\n",
    "plt.plot(fpr, tpr, 'b', label='AUC = %0.2f'%roc_auc)\n",
    "plt.plot([0, 1], [0, 1],'r--')\n",
    "plt.ylabel('TPR')\n",
    "plt.xlabel('FPR')\n",
    "plt.show()\n"
   ]
  },
  {
   "cell_type": "markdown",
   "metadata": {},
   "source": [
    "**1(h) (Extra Credit, 20 points) Create one table for each of the five data sets: Shakira,\n",
    "Eminem, LMFAO, KatyPerry, and Psy to compare accuracy, precision, recall, F1 score and AUC of L1-penalized and L2-penalized logistic regression, Na ̈ıve Bayes’ with Gaussian and multinomial priors for the test sets. Use the first ⌊0.8H⌋ of H hams and the first ⌊0.8S⌋ of S spams as your training set and the rest as your test set. Show the best score in each column using boldface. A hypothetical table is shown below:**"
   ]
  },
  {
   "cell_type": "code",
   "execution_count": 29,
   "metadata": {},
   "outputs": [],
   "source": [
    "from sklearn.metrics import precision_recall_fscore_support"
   ]
  },
  {
   "cell_type": "code",
   "execution_count": 37,
   "metadata": {},
   "outputs": [],
   "source": [
    "class dataSet:\n",
    "    def __init__(self, filename):\n",
    "        self.filename = filename;\n",
    "        \n",
    "    def load_data(self):\n",
    "        self.data = pd.read_csv(self.filename);\n",
    "        self.vectorize()\n",
    "        \n",
    "    def vectorize(self):\n",
    "        #Divide dataset into ham and spam\n",
    "        ham = self.data.loc[self.data['CLASS'] == 0]\n",
    "        spam = self.data.loc[self.data['CLASS'] == 1]\n",
    "\n",
    "        #Split ham into train and test data\n",
    "        hamTrainIndex = math.floor(ham.shape[0]*.8)\n",
    "        hamTrain = ham.iloc[0:hamTrainIndex, :]\n",
    "        hamTest = ham.iloc[hamTrainIndex:, :]\n",
    "\n",
    "        #Split spam into train and test data\n",
    "        spamTrainIndex = math.floor(spam.shape[0]*.8)\n",
    "        spamTrain = spam.iloc[0:spamTrainIndex, :]\n",
    "        spamTest = spam.iloc[spamTrainIndex:, :]\n",
    "\n",
    "        #Concat the training and testing datasets\n",
    "        self.train = pd.concat([hamTrain, spamTrain])\n",
    "        self.test = pd.concat([hamTest,spamTest])\n",
    "\n",
    "        vectorizer = TfidfVectorizer()\n",
    "        x_train = vectorizer.fit_transform(self.train['CONTENT'])\n",
    "        x_test = vectorizer.transform(self.test['CONTENT'])\n",
    "        # import numpy as np\n",
    "        self.x_train = x_train.toarray()\n",
    "        self.x_test = x_test.toarray()\n",
    "\n",
    "        self.X = np.nan_to_num(x_train)\n",
    "        self.Y = np.nan_to_num(train.CLASS)\n",
    "        \n",
    "    def find_best_l2_lamda(self):\n",
    "        #Lamdas to test:\n",
    "        cs =[-5,-4,-3,-2,-1,0,1,2,3,4,5]\n",
    "        lamda = 0\n",
    "        max_score = 0\n",
    "        #Iterate through each possible lamda\n",
    "        for c in cs:\n",
    "            #Lambda:\n",
    "            l = 1/(10**(c))\n",
    "\n",
    "            #Five-fold cross validation\n",
    "            kf = KFold(n_splits=5)\n",
    "            avg_score = 0;\n",
    "            for train_i, test_i in kf.split(self.X):\n",
    "                #Get the training and testing data for the fold\n",
    "                X_train, X_test = X[train_i], X[test_i]\n",
    "                y_train, y_test = Y[train_i], Y[test_i]\n",
    "\n",
    "                #Fit LR model on training data\n",
    "                lr = LogisticRegression(penalty='l2', C=l, solver = 'lbfgs').fit(X_train, y_train)\n",
    "                score = lr.score(X_test, y_test )\n",
    "                avg_score += score\n",
    "            avg_score /=5;\n",
    "            if avg_score > max_score:\n",
    "                max_score = avg_score\n",
    "                lamda = c\n",
    "        #iterate thru lambda value, then tts into 5 folds (5 tts?) then fit LR model, test, return lamda with highest .score\n",
    "        self.l2lamda = lamda\n",
    "        \n",
    "    def l2regression(self):\n",
    "        self.find_best_l2_lamda()\n",
    "        #Fit a LR model with the lamda from above\n",
    "        lr = LogisticRegression(penalty='l2', C=1/(10**self.l2lamda), solver='lbfgs').fit(self.x_train, self.train[\"CLASS\"] )\n",
    "\n",
    "        predictions = lr.predict(self.x_test)\n",
    "        scores = lr.score(self.x_test, self.test[\"CLASS\"])\n",
    "        probs = lr.predict_proba(self.x_test)\n",
    "        probs = probs[:,1]\n",
    "\n",
    "        #Precision, recall, F1\n",
    "        self.l2precision, self.l2recall, self.l2fscore, support= precision_recall_fscore_support(self.test[\"CLASS\"], predictions, pos_label=1, average= 'binary')\n",
    "        \n",
    "        #Calcualte ROC features\n",
    "        fpr, tpr, thresholds = metrics.roc_curve(self.test[\"CLASS\"], probs, pos_label=1)\n",
    "\n",
    "        #Calculate AUC\n",
    "        self.l2roc_auc = metrics.auc(fpr, tpr)\n",
    "        \n",
    "        self.l2f1 = metrics.f1_score(self.test[\"CLASS\"], predictions)\n",
    "        self.l2accuracy = metrics.accuracy_score(self.test[\"CLASS\"], predictions)\n",
    "        \n",
    "    def find_best_l1_lamda(self):\n",
    "        #Lamdas to test:\n",
    "        cs =[-5,-4,-3,-2,-1,0,1,2,3,4,5]\n",
    "        lamda = 0\n",
    "        max_score = 0\n",
    "        #Iterate through each possible lamda\n",
    "        for c in cs:\n",
    "            #Lambda:\n",
    "            l = 1/(10**(c))\n",
    "\n",
    "            #Five-fold cross validation\n",
    "            kf = KFold(n_splits=5)\n",
    "            avg_score = 0;\n",
    "            for train_i, test_i in kf.split(self.X):\n",
    "                #Get the training and testing data for the fold\n",
    "                X_train, X_test = X[train_i], X[test_i]\n",
    "                y_train, y_test = Y[train_i], Y[test_i]\n",
    "\n",
    "                #Fit LR model on training data\n",
    "                lr = LogisticRegression(penalty='l1', C=l, solver = 'liblinear').fit(X_train, y_train)\n",
    "                score = lr.score(X_test, y_test )\n",
    "                avg_score += score\n",
    "            avg_score /=5;\n",
    "            if avg_score > max_score:\n",
    "                max_score = avg_score\n",
    "                lamda = c\n",
    "        #iterate thru lambda value, then tts into 5 folds (5 tts?) then fit LR model, test, return lamda with highest .score\n",
    "        self.l1lamda = lamda\n",
    "        \n",
    "    def l1regression(self):\n",
    "        self.find_best_l1_lamda()\n",
    "        #Fit a LR model with the lamda from above\n",
    "        lr = LogisticRegression(penalty='l1', C=1/(10**self.l2lamda), solver='liblinear').fit(self.x_train, self.train[\"CLASS\"] )\n",
    "\n",
    "        predictions = lr.predict(self.x_test)\n",
    "        scores = lr.score(self.x_test, self.test[\"CLASS\"])\n",
    "        probs = lr.predict_proba(self.x_test)\n",
    "        probs = probs[:,1]\n",
    "\n",
    "        #Precision, recall, F1\n",
    "        self.l1precision, self.l1recall, self.l1fscore, support= precision_recall_fscore_support(self.test[\"CLASS\"], predictions, pos_label=1, average= 'binary')\n",
    "        \n",
    "        #Calcualte ROC features\n",
    "        fpr, tpr, thresholds = metrics.roc_curve(self.test[\"CLASS\"], probs, pos_label=1)\n",
    "\n",
    "        #Calculate AUC\n",
    "        self.l1roc_auc = metrics.auc(fpr, tpr)\n",
    "        \n",
    "        self.l1f1 = metrics.f1_score(self.test[\"CLASS\"], predictions)\n",
    "        self.l1accuracy = metrics.accuracy_score(self.test[\"CLASS\"], predictions)\n",
    "\n",
    "        \n",
    "    def nbGaussian(self):\n",
    "        nb = GaussianNB()\n",
    "        nb.fit(self.x_train, self.train[\"CLASS\"])\n",
    "\n",
    "        predictions = nb.predict(self.x_test)\n",
    "        scores = nb.score(self.x_test, self.test[\"CLASS\"])\n",
    "        probs = nb.predict_proba(self.x_test)\n",
    "        probs = probs[:,1]\n",
    "        #Precision, recall, F1\n",
    "        self.nbGprecision, self.nbGrecall, self.nbGfscore, support= precision_recall_fscore_support(self.test[\"CLASS\"], predictions, pos_label=1, average= 'binary')\n",
    "        \n",
    "        #Calcualte ROC features\n",
    "        fpr, tpr, thresholds = metrics.roc_curve(self.test[\"CLASS\"], probs, pos_label=1)\n",
    "\n",
    "        #Calculate AUC\n",
    "        self.nbGroc_auc = metrics.auc(fpr, tpr)\n",
    "        \n",
    "        self.nbGf1 = metrics.f1_score(self.test[\"CLASS\"], predictions)\n",
    "        self.nbGaccuracy = metrics.accuracy_score(self.test[\"CLASS\"], predictions)\n",
    "\n",
    "    \n",
    "    def nbMultinomial(self):\n",
    "        g = MultinomialNB()\n",
    "        predictions = g.fit(self.x_train, self.train[\"CLASS\"]).predict(self.x_test)\n",
    "        #Precision, recall, F1\n",
    "        self.nbMprecision, self.nbMrecall, self.nbMfscore, support= precision_recall_fscore_support(self.test[\"CLASS\"], predictions, pos_label=1, average= 'binary')\n",
    "        \n",
    "        #Make predictions for test data\n",
    "        probs = g.predict_proba(self.x_test)\n",
    "        probs = probs[:,1]\n",
    "\n",
    "        fpr, tpr, thresholds = metrics.roc_curve(self.test[\"CLASS\"], probs, pos_label=1)\n",
    "        self.nbMroc_auc = metrics.auc(fpr, tpr)\n",
    "        self.nbMf1 = metrics.f1_score(self.test[\"CLASS\"], predictions)\n",
    "        self.nbMaccuracy = metrics.accuracy_score(self.test[\"CLASS\"], predictions)\n",
    "\n",
    "\n",
    "    def display(self):\n",
    "        c = [\"Instance\", \"Accuracy\", \"Precision\", \"Recall\", \"F1\",\"AUC\"]\n",
    "        d = [['NB-Gaussian', self.nbGaccuracy, self.nbGprecision, self.nbGrecall, self.nbGf1, self.nbGroc_auc],\n",
    "            ['NB-Multinomial', self.nbMaccuracy, self.nbMprecision, self.nbMrecall, self.nbMf1, self.nbMroc_auc],\n",
    "            ['L2', self.l2accuracy, self.l2precision, self.l2recall, self.l2f1, self.l2roc_auc],\n",
    "            ['L1', self.l1accuracy, self.l1precision, self.l1recall, self.l1f1, self.l1roc_auc]] \n",
    "        df = pd.DataFrame(d, columns = c)\n",
    "        print(df)\n",
    "   \n",
    "    def calculate_all(self):\n",
    "        self.load_data()\n",
    "        self.l2regression()\n",
    "        self.l1regression()\n",
    "        self.nbGaussian()\n",
    "        self.nbMultinomial()\n",
    "        self.display()"
   ]
  },
  {
   "cell_type": "code",
   "execution_count": 38,
   "metadata": {},
   "outputs": [
    {
     "name": "stdout",
     "output_type": "stream",
     "text": [
      "         Instance  Accuracy  Precision    Recall        F1       AUC\n",
      "0     NB-Gaussian  0.922222   0.888889  0.979592  0.932039  0.916625\n",
      "1  NB-Multinomial  0.900000   0.844828  1.000000  0.915888  0.998009\n",
      "2              L2  0.966667   0.979167  0.959184  0.969072  0.997013\n",
      "3              L1  0.966667   0.960000  0.979592  0.969697  0.994525\n"
     ]
    }
   ],
   "source": [
    "eminem = dataSet('../data/Youtube04-Eminem.csv')\n",
    "eminem.calculate_all()"
   ]
  },
  {
   "cell_type": "code",
   "execution_count": 39,
   "metadata": {},
   "outputs": [
    {
     "name": "stdout",
     "output_type": "stream",
     "text": [
      "         Instance  Accuracy  Precision    Recall        F1       AUC\n",
      "0     NB-Gaussian  0.906667   0.833333  1.000000  0.909091  0.912500\n",
      "1  NB-Multinomial  0.946667   0.918919  0.971429  0.944444  0.995000\n",
      "2              L2  0.960000   0.944444  0.971429  0.957746  0.997857\n",
      "3              L1  0.906667   0.911765  0.885714  0.898551  0.982857\n"
     ]
    }
   ],
   "source": [
    "#Shakira\n",
    "shakira = dataSet('../data/Youtube05-Shakira.csv')\n",
    "shakira.calculate_all()"
   ]
  },
  {
   "cell_type": "code",
   "execution_count": 41,
   "metadata": {},
   "outputs": [
    {
     "name": "stdout",
     "output_type": "stream",
     "text": [
      "         Instance  Accuracy  Precision    Recall        F1       AUC\n",
      "0     NB-Gaussian  0.898876   0.953488  0.854167  0.901099  0.902693\n",
      "1  NB-Multinomial  0.876404   0.849057  0.937500  0.891089  0.961382\n",
      "2              L2  0.943820   0.957447  0.937500  0.947368  0.986280\n",
      "3              L1  0.921348   0.976744  0.875000  0.923077  0.974085\n"
     ]
    }
   ],
   "source": [
    "#LMFAO\n",
    "lmfao = dataSet('../data/Youtube03-LMFAO.csv')\n",
    "lmfao.calculate_all()"
   ]
  },
  {
   "cell_type": "code",
   "execution_count": 44,
   "metadata": {},
   "outputs": [
    {
     "name": "stdout",
     "output_type": "stream",
     "text": [
      "         Instance  Accuracy  Precision    Recall        F1       AUC\n",
      "0     NB-Gaussian  0.857143   0.820513  0.914286  0.864865  0.857143\n",
      "1  NB-Multinomial  0.914286   0.939394  0.885714  0.911765  0.961633\n",
      "2              L2  0.928571   0.941176  0.914286  0.927536  0.968980\n",
      "3              L1  0.928571   0.968750  0.885714  0.925373  0.967347\n"
     ]
    }
   ],
   "source": [
    "#KatyPerry\n",
    "katyperry = dataSet('../data/Youtube02-KatyPerry.csv')\n",
    "katyperry.calculate_all()"
   ]
  },
  {
   "cell_type": "code",
   "execution_count": 46,
   "metadata": {},
   "outputs": [
    {
     "name": "stdout",
     "output_type": "stream",
     "text": [
      "         Instance  Accuracy  Precision    Recall        F1       AUC\n",
      "0     NB-Gaussian  0.871429   0.861111  0.885714  0.873239  0.871429\n",
      "1  NB-Multinomial  0.957143   0.944444  0.971429  0.957746  0.997551\n",
      "2              L2  0.971429   0.971429  0.971429  0.971429  0.999184\n",
      "3              L1  0.971429   0.971429  0.971429  0.971429  0.996735\n"
     ]
    }
   ],
   "source": [
    "#Psy\n",
    "psy = dataSet('../data/Youtube01-Psy.csv')\n",
    "psy.calculate_all()"
   ]
  },
  {
   "cell_type": "code",
   "execution_count": null,
   "metadata": {},
   "outputs": [],
   "source": []
  },
  {
   "cell_type": "code",
   "execution_count": null,
   "metadata": {},
   "outputs": [],
   "source": []
  }
 ],
 "metadata": {
  "kernelspec": {
   "display_name": "Python 3",
   "language": "python",
   "name": "python3"
  },
  "language_info": {
   "codemirror_mode": {
    "name": "ipython",
    "version": 3
   },
   "file_extension": ".py",
   "mimetype": "text/x-python",
   "name": "python",
   "nbconvert_exporter": "python",
   "pygments_lexer": "ipython3",
   "version": "3.7.4"
  }
 },
 "nbformat": 4,
 "nbformat_minor": 2
}
